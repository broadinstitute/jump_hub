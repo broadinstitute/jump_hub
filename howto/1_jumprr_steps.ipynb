{
  "cells": [
    {
      "cell_type": "markdown",
      "metadata": {},
      "source": [
        "# \n",
        "\n",
        "## **Step-by-step tutorial: Using JUMP_rr to answer key biological questions**\n",
        "\n",
        "The JUMP_rr interactive\n",
        "[tools](https://github.com/broadinstitute/monorepo/tree/main/libs/jump_rr#quick-data-access)\n",
        "allow you to explore the JUMP dataset of genetic and chemical\n",
        "perturbations and their effects on cell morphology features. The data\n",
        "shown have been aggregated across replicates for each gene and by\n",
        "applying different filters, you can investigate how specific\n",
        "perturbations influence cells, their structures, and the strength of the\n",
        "changes.\n",
        "\n",
        "In this tutorial, you will learn how to:\n",
        "\n",
        "**Step 1: Understand the information displayed in the browser.**  \n",
        "**Step 2: Explore the data to answer the following questions:**\n",
        "\n",
        "**2.1**. Is my gene in the JUMP dataset?  \n",
        "**2.2.** Does my gene have a morphological phenotype when overexpressed\n",
        "or knocked down by CRISPR?  \n",
        "  **2.2.1.** If yes, what are the specific morphological changes or\n",
        "features?  \n",
        "  **2.2.2.** What other genes look similar or anticorrelated to my gene?\n",
        "\n",
        "## **Step 1. Understand the information displayed in the browser.**\n",
        "\n",
        "When you open one of the interactive tables, such as the CRISPR\n",
        "knock-outs [table](http://broad.io/crispr_feature), you will see an\n",
        "informational section explaining the available columns, and a filtering\n",
        "tool (Figure 1), followed by the data from CRISPR knockouts of all\n",
        "available genes."
      ],
      "id": "d9598d6d-604a-4d51-8224-2766973ffb1a"
    },
    {
      "cell_type": "raw",
      "metadata": {
        "raw_mimetype": "text/html"
      },
      "source": [
        "<center>"
      ],
      "id": "674252cc-5798-45e1-83c0-f78124a568e4"
    },
    {
      "cell_type": "markdown",
      "metadata": {},
      "source": [
        "<img src=\"https://zenodo.org/api/records/15242970/files/Figure1.png/content\">"
      ],
      "id": "5278afe9-639b-4460-a332-d1952f160b76"
    },
    {
      "cell_type": "raw",
      "metadata": {
        "raw_mimetype": "text/html"
      },
      "source": [
        "</center>"
      ],
      "id": "17061f5a-1e64-46d9-a94a-1d6cf68b2898"
    },
    {
      "cell_type": "markdown",
      "metadata": {},
      "source": [
        "***Figure 1.** Information section of the CRISPR Feature Ranking table.\n",
        "The red boxes highlight two key components: the first provides\n",
        "definitions for each column; the second one shows the tool to filter\n",
        "based on the content values, such as gene name, subcellular compartment\n",
        "or statistical significance associated with each perturbation*\n",
        "\n",
        "Below you will find the full table (Figure 2), which displays aggregated\n",
        "results across replicates for each perturbation."
      ],
      "id": "9d1cf949-8220-4e72-ba1f-7183bc969c0b"
    },
    {
      "cell_type": "raw",
      "metadata": {
        "raw_mimetype": "text/html"
      },
      "source": [
        "<center>"
      ],
      "id": "ed3780b1-e16a-4b3b-8163-1f9dc5a9e091"
    },
    {
      "cell_type": "markdown",
      "metadata": {},
      "source": [
        "<img src=\"https://zenodo.org/api/records/15242970/files/Figure2.png/content\">"
      ],
      "id": "77e3bdab-0dce-41e0-a439-c728cebc5fa3"
    },
    {
      "cell_type": "raw",
      "metadata": {
        "raw_mimetype": "text/html"
      },
      "source": [
        "</center>"
      ],
      "id": "c3624e49-5a4e-4381-9633-8f24448b735b"
    },
    {
      "cell_type": "markdown",
      "metadata": {},
      "source": [
        "***Figure 2.** Each column can be sorted in ascending or descending\n",
        "order by clicking on the header. Sorting is applied to one column at a\n",
        "time and is based on the data type: numerical values are sorted by\n",
        "magnitude, while text is sorted alphabetically. The entries displayed\n",
        "are the 30 most statistically significant features for each gene\n",
        "(Feature Rank), and for each feature, the 30 genes with the most\n",
        "significant values (Gene Rank). A value of 999999 indicates an\n",
        "unassigned entry.*\n",
        "\n",
        "**Step 2: Explore the data to answer the following questions:**\n",
        "\n",
        "**2.1. Can I find my gene in the JUMP collection of perturbations?**\n",
        "\n",
        "The JUMP Hub includes a reference tool to quickly check whether a\n",
        "specific gene is included in the collection of genetic perturbations.\n",
        "From any page on the [JUMP Hub](https://broad.io/jump), click on the\n",
        "“Available Genes” tab in the sidebar. Here you can type the name gene of\n",
        "interest to search. The number of occurrences in multiple JUMP or\n",
        "JUMP-adjacent morphological profiling datasets will be displayed:\n",
        "“crispr” and “orf” are the JUMP knock-outs and over expression datasets,\n",
        "“A549”, “HeLa_DMEM” and “HeLa_HPLM” relate to the\n",
        "[PERISCOPE](https://github.com/broadinstitute/2022_PERISCOPE) dataset.\n",
        "and\n",
        "[Lacoste](https://github.com/carpenter-singh-lab/2024_LacosteHaghighi_Cell_Mislocalization)\n",
        "to a dataset focusing on pathogenic coding variants. This feature is\n",
        "especially useful when you’re exploring potential targets or pathways\n",
        "and want to collate data from multiple morphology-based datasets (Figure\n",
        "3)."
      ],
      "id": "b76c821b-547b-441c-8b24-63b2c385bbba"
    },
    {
      "cell_type": "raw",
      "metadata": {
        "raw_mimetype": "text/html"
      },
      "source": [
        "<center>"
      ],
      "id": "ade738d0-5ff4-41d2-a32c-c6679480249e"
    },
    {
      "cell_type": "markdown",
      "metadata": {},
      "source": [
        "<img src=\"https://zenodo.org/api/records/15242970/files/Figure3.png/content\">"
      ],
      "id": "c053e4e0-592f-47ab-a753-afc0f99441b0"
    },
    {
      "cell_type": "raw",
      "metadata": {
        "raw_mimetype": "text/html"
      },
      "source": [
        "</center>"
      ],
      "id": "58e09fd6-dcf3-4e91-a6c7-e7b4f7e62b50"
    },
    {
      "cell_type": "markdown",
      "metadata": {},
      "source": [
        "***Figure 3.** Overview of the gene reference tool (red box on the\n",
        "left), to quickly check whether your gene of interest is available in\n",
        "the dataset. You can search using the full name or partial name of a\n",
        "gene in the search window (red box on the right). For each gene, the\n",
        "tool displays how many times it appears in the JUMP dataset under\n",
        "different perturbation types, such as CRISPR (for gene knockout) and ORF\n",
        "(for overexpression), as well as across information related to the\n",
        "PERISCOPE (A549, HeLa_DMEM and HeLa_HPLM) and Lacoste datasets.*\n",
        "\n",
        "**2.2. Does my gene of interest produce a morphology phenotype when\n",
        "overexpressed or knocked down by CRISPR?**\n",
        "\n",
        "To answer this question, we’ll start by exploring the CRISPR knockout\n",
        "dataset to identify genes whose loss affects the phenotype of interest.\n",
        "Then, we’ll use the ORF overexpression dataset to contrast results with\n",
        "gene overexpression.\n",
        "\n",
        "***Search for your gene in the CRISPR dataset.***\n",
        "\n",
        "Let us explore data related to the SLC2A2 gene. This gene encodes\n",
        "**GLUT2**, a glucose transporter primarily expressed in organs such as\n",
        "liver, pancreas and intestine. It plays a key role in glucose sensing\n",
        "and homeostasis. Given its involvement in metabolic processes, changes\n",
        "in SLC2A2 activity or expression could have significant phenotypic\n",
        "consequences that may be captured in image-based profiling data.\n",
        "\n",
        "To look for this you can use the Filter Tool, which helps narrow down\n",
        "the dataset based on specific search criteria. When you open the filter\n",
        "tab, a list of all available column names will appear (Figure 4A). In\n",
        "this case, you would select the “Perturbation” column, use the default\n",
        "operator “=”, and enter “SLC2A2” in the search field to display only the\n",
        "rows associated with that gene (Figure 4B).\n",
        "\n",
        "If you’re unsure of the exact name used in the dataset, we recommend\n",
        "make your search case-insensitive by changing the default filter\n",
        "operator from “=” to “like”, and entering a pattern that partially\n",
        "matches a text string, such as “SLC2A%” (Figure 4C).\n",
        "\n",
        "You can also search for alternative names commonly used in the\n",
        "literature. To do this, select the “Synonyms” column, change the filter\n",
        "operator to “contains” or “like”, and enter an alternative name such as\n",
        "GLUT2, or another known synonym of your compound of interest (Figure\n",
        "4D)."
      ],
      "id": "e83c6b79-ec2d-4a78-9907-325af242b164"
    },
    {
      "cell_type": "raw",
      "metadata": {
        "raw_mimetype": "text/html"
      },
      "source": [
        "<center>"
      ],
      "id": "5fd01542-6163-46f5-a192-700208afc3de"
    },
    {
      "cell_type": "markdown",
      "metadata": {},
      "source": [
        "<img src=\"https://zenodo.org/api/records/15242970/files/Figure4.png/content\">"
      ],
      "id": "5056a99d-b85b-40e5-92dc-13b00d4eb087"
    },
    {
      "cell_type": "raw",
      "metadata": {
        "raw_mimetype": "text/html"
      },
      "source": [
        "</center>"
      ],
      "id": "4bd42bf7-32dc-4e46-ac55-6f7b64a75974"
    },
    {
      "cell_type": "markdown",
      "metadata": {},
      "source": [
        "***Figure 4.** Common usage of filtering options. Panel A shows the full\n",
        "list of columns available for custom filtering, including metadata such\n",
        "as Corrected p-value, Compartment, and others that support more advanced\n",
        "queries beyond gene-level filtering. B and C, illustrate how the number\n",
        "of entries returned depends on the filter type: a broader search using\n",
        "partial names (e.g., “SLC2A%”) yields more entries than an exact match\n",
        "(e.g., “SLC2A2”), which can help identify related genes within the same\n",
        "family. For instance, the GLUT (glucose transporter) family is encoded\n",
        "by different members of the SLC2A gene family (e.g., SLC2A1, SLC2A2,\n",
        "etc.), each representing a distinct transporter rather than isoforms of\n",
        "the same gene. D, highlights the utility of the Synonyms column, which\n",
        "maps alternative gene names used in the literature, especially useful\n",
        "for genes with multiple aliases or legacy names not directly listed\n",
        "under the Perturbation column.*\n",
        "\n",
        "The table below describes the available logical operators (Table1).\n",
        "\n",
        "| Operator     | Description                                                                                                        |\n",
        "|------------------------------------|------------------------------------|\n",
        "| =            | Selects results that exactly match the specified value.                                                            |\n",
        "| !=           | Excludes results that exactly match the specified value.                                                           |\n",
        "| contains     | Searches for values that include a specific string within the text.                                                |\n",
        "| ends with    | Selects values that end with a specific string.                                                                    |\n",
        "| starts with  | Selects values that start with a specific string.                                                                  |\n",
        "| \\>           | Selects numeric values greater than the specified value.                                                           |\n",
        "| ≥            | Selects numeric values greater than or equal to the specified value.                                               |\n",
        "| \\<           | Selects numeric values less than the specified value.                                                              |\n",
        "| ≤            | Selects numeric values less than or equal to the specified value.                                                  |\n",
        "| like         | Searches for patterns that partially match a text string (e.g., “SLC%”).                                           |\n",
        "| not like     | Excludes results that partially match a specific pattern.                                                          |\n",
        "| in           | Selects rows where the column value is within a specified list of values.                                          |\n",
        "| not in       | Excludes rows where the column value is within a specified list of values.                                         |\n",
        "| is blank     | Filters rows where the value is an empty string or space — the field exists but has no visible content.            |\n",
        "| is not blank | Filters rows where the field contains visible content (text, numbers, etc.), excluding empty or space-only values. |\n",
        "\n",
        "***Table 1.** Filtering operators used to refine values displayed in the\n",
        "dataset. Include or exclude rows based on specific conditions, such as\n",
        "matching exact values, checking for patterns in text, or evaluating\n",
        "numerical comparisons.*\n",
        "\n",
        "You can combine multiple filters. For instance, to focus on features\n",
        "associated with the SLC2A2 perturbation specifically in the “Cells” and\n",
        "“Nuclei” compartments, select the *Compartment* column, use the “**in”**\n",
        "operator, and enter “Cells, Nuclei” (Figure 5). Similarly, you can\n",
        "filter by other fields, such as perturbation (e.g., a list of genes),\n",
        "experiment type, or cell type. Once the filters are applied, you can\n",
        "copy the filtered table by clicking the JSON hyperlink (Figure 5, red\n",
        "box). To export the content, press Ctrl+A to select all, then Ctrl+C to\n",
        "copy it, and finally paste it into a text editor."
      ],
      "id": "bf2e1600-59ba-4b61-8ca1-8db9b1b4a185"
    },
    {
      "cell_type": "raw",
      "metadata": {
        "raw_mimetype": "text/html"
      },
      "source": [
        "<center>"
      ],
      "id": "2284081f-e93b-4752-a854-dd9892e15326"
    },
    {
      "cell_type": "markdown",
      "metadata": {},
      "source": [
        "<img src=\"https://zenodo.org/api/records/15242970/files/Figure5.png/content\">"
      ],
      "id": "760bc6eb-ccea-4c71-b97d-ebdf5f97b974"
    },
    {
      "cell_type": "raw",
      "metadata": {
        "raw_mimetype": "text/html"
      },
      "source": [
        "</center>"
      ],
      "id": "f3e8514e-ac14-4aa5-bd8a-388ba41521e2"
    },
    {
      "cell_type": "markdown",
      "metadata": {},
      "source": [
        "***Figure 5.** Example of combined filters applied to display\n",
        "gene-related data limited to the “Cells” and “Nuclei” compartments. The\n",
        "red box highlights available export options, such as JSON, which can\n",
        "streamline the integration of filtered results into external analysis\n",
        "pipelines or visualization tools.*\n",
        "\n",
        "After applying the filter for the **SLC2A2** perturbation, we can\n",
        "evaluate whether the perturbation is significantly different to the\n",
        "negative control condition by examining the **Corrected p-value**\n",
        "column. The Corrected p-value represents the statistical significance of\n",
        "how distinctive the overall morphological profile of a perturbation is\n",
        "when compared to the negative control (after false discovery rate\n",
        "correction). In this case, the corrected p-value is **0.00018** (all\n",
        "rows display the same value in that column, since this value is computed\n",
        "per perturbation, not per feature). This value (p-value\\<0.05) indicates\n",
        "a highly significant difference from the control condition, suggesting\n",
        "that overexpressing **SLC2A2** induces a strong and consistent\n",
        "morphological effect (Figure 6)."
      ],
      "id": "d9e43816-3fc2-4fef-a240-397c9ac0da86"
    },
    {
      "cell_type": "raw",
      "metadata": {
        "raw_mimetype": "text/html"
      },
      "source": [
        "<center>"
      ],
      "id": "8f13d9b7-30d8-4643-9682-701646553e28"
    },
    {
      "cell_type": "markdown",
      "metadata": {},
      "source": [
        "<img src=\"https://zenodo.org/api/records/15242970/files/Figure6.png/content\">"
      ],
      "id": "cbfa75c5-ec9c-42f3-b750-d70098a40967"
    },
    {
      "cell_type": "raw",
      "metadata": {
        "raw_mimetype": "text/html"
      },
      "source": [
        "</center>"
      ],
      "id": "c9040457-00fd-4853-a827-c1543e07b2ad"
    },
    {
      "cell_type": "markdown",
      "metadata": {},
      "source": [
        "**Figure 6.** *The user interface displays the Corrected p-value, which\n",
        "is calculated at the perturbation level. As a result, all rows\n",
        "associated with the SLC2A2 perturbation share the same value (0.00018).\n",
        "When exploring multiple perturbations, sorting by Corrected p-value can\n",
        "help prioritize those with the most statistically significant\n",
        "morphological effects, making it a useful strategy for identifying\n",
        "relevant hits. The rows are sorted in ascending/descending order by\n",
        "clicking the name column header.*\n",
        "\n",
        "**2.2.1. What are the specific morphology changes/features?**\n",
        "\n",
        "In this section you will be able to identify which features are the most\n",
        "statistically significant within a perturbation. In this filtered view\n",
        "of the SLC2A2 perturbation, all values in the **Feature significance**\n",
        "column are **0.0,** which corresponds to values rounded to five decimal\n",
        "places and indicates that each listed morphological feature is\n",
        "statistically significant when compared to the control condition (Figure\n",
        "7). If you’d like more information about the features extracted by\n",
        "CellProfiler, such as how they’re named and calculated, you can check\n",
        "out the [Cellprofiler\n",
        "Handbook](https://cellprofiler-manual.s3.amazonaws.com/CellProfiler-4.0.4/index.html)."
      ],
      "id": "d6b1c25d-58c6-4d08-9e9b-2413657a8581"
    },
    {
      "cell_type": "raw",
      "metadata": {
        "raw_mimetype": "text/html"
      },
      "source": [
        "<center>"
      ],
      "id": "6580cbce-93ce-43ea-acf0-f4219a08e15a"
    },
    {
      "cell_type": "markdown",
      "metadata": {},
      "source": [
        "<img src=\"https://zenodo.org/api/records/15242970/files/Figure7.png/content\">"
      ],
      "id": "4549960b-20c6-41e5-9ce7-589f265b3a7a"
    },
    {
      "cell_type": "raw",
      "metadata": {
        "raw_mimetype": "text/html"
      },
      "source": [
        "</center>"
      ],
      "id": "98adc43c-1fbe-49f9-b1e3-d707f89726fc"
    },
    {
      "cell_type": "markdown",
      "metadata": {},
      "source": [
        "***Figure 7.** Top 4 features from the filtered CRISPR dataset for the\n",
        "SLC2A2 perturbation. The rows are sorted in ascending order based on the\n",
        "Feature Significance column (highlighted with a red box). All p-values\n",
        "in this column are displayed as 0.0, which reflects values approximated\n",
        "to five decimal places (i.e., \\< 0.00001). Since many features share\n",
        "these low values, we recommend using **Feature Rank** to prioritize\n",
        "features, as it provides their relative importance for each gene.*\n",
        "\n",
        "***Search for your gene in ORF dataset.***\n",
        "\n",
        "To explore whether overexpressing SLC2A2 produces a morphological\n",
        "phenotype, we repeated the same filtering process in the ORF\n",
        "overexpression dataset, link [here](http://broad.io/orf_feature). Using\n",
        "the Filter Tool, we selected the Perturbation column, kept the operator\n",
        "as “=”, and entered SLC2A2 in the search field.\n",
        "\n",
        "After filtering, we examined the **Corrected p-value** column. In this\n",
        "case, the p-value is **0.09482**, which is above the 0.05 threshold,\n",
        "indicating that overexpressing *SLC2A2* does not produce a statistically\n",
        "significant morphological change. This contrasts with the CRISPR\n",
        "knockout dataset, where the loss of *SLC2A2* resulted in a strong and\n",
        "significant phenotypic effect.\n",
        "\n",
        "However, in the case of SLC2A2, it is still possible to identify\n",
        "individual morphological features that are statistically significant,\n",
        "even if the overall perturbation does not show significant changes\n",
        "compared to the control. In this filtered view, a few features have\n",
        "**Feature Significance** values below 0.05, indicating meaningful\n",
        "differences relative to the control condition (Figure 8)."
      ],
      "id": "ffafe02f-180a-47a7-a065-afdea734f17c"
    },
    {
      "cell_type": "raw",
      "metadata": {
        "raw_mimetype": "text/html"
      },
      "source": [
        "<center>"
      ],
      "id": "215e5d04-e065-492c-9a6b-5950d3d4bf3d"
    },
    {
      "cell_type": "markdown",
      "metadata": {},
      "source": [
        "<img src=\"https://zenodo.org/api/records/15242970/files/Figure8.png/content\">"
      ],
      "id": "cbe534ff-8c25-4869-885d-afbc17c47c2c"
    },
    {
      "cell_type": "raw",
      "metadata": {
        "raw_mimetype": "text/html"
      },
      "source": [
        "</center>"
      ],
      "id": "7c879dba-0782-400d-9d91-e1a74a727ff1"
    },
    {
      "cell_type": "markdown",
      "metadata": {},
      "source": [
        "***Figure 8.** Top four morphological features based on feature\n",
        "significance (per-feature p-values), ranked in increasing order,\n",
        "indicating statistically significant differences compared to the control\n",
        "condition. The Channel and Suffix columns appear empty because these\n",
        "features solely come from an object mask and not a fluorescence image.\n",
        "The rows are sorted in ascending/descending order by clicking the name\n",
        "column header.*\n",
        "\n",
        "**2.2.2. What other genes look similar or anticorrelated to my genes?“**\n",
        "\n",
        "Before exploring which perturbations produce the most similar or\n",
        "anti-similar (i.e., features that are high in one are lower in the other\n",
        "one), it’s important to understand the broader context and potential of\n",
        "image-based gene profiling.\n",
        "\n",
        "Morphological profiles can cluster genes into biologically meaningful\n",
        "groups, uncovering known pathways and reveal functional connections,\n",
        "such as a regulatory interaction between pathways (Rohban et al. 2017).\n",
        "This clustering is based on the similarity of high-dimensional\n",
        "morphological features extracted from images after gene overexpression.\n",
        "Comparing these profiles systematically can also identify\n",
        "*anti-correlated* perturbations, such as cases where one perturbation\n",
        "reverses the phenotype of another (Rohban et al., 2022). This is\n",
        "particularly relevant for therapeutic discovery, as finding antagonistic\n",
        "morphological profiles may highlight candidate compounds or genes that\n",
        "*suppress* an undesired phenotype.\n",
        "\n",
        "## The “matches” table thus quantifies similarity (or anticorrelation) of profiles and is a powerful resource to uncover potential functional relationships between genes, explore unknown gene roles, or even identify suppressors or enhancers within a biological pathway. These insights can help prioritize follow-up experiments and hypothesis generation, especially when analyzing genes or perturbations with poorly characterized functions.\n",
        "\n",
        "As an initial step, the *SLC2A2* perturbation was analyzed in the CRISPR\n",
        "matches [table](http://broad.io/crispr) , where the Perturbation-Match\n",
        "Similarity scores range from -1 (strong anti-similarity) to 1 (strong\n",
        "similarity). In this case, *SLC2A2* knockout displays a strong\n",
        "phenotypic effect, and when compared to other perturbations, a wide\n",
        "range of similarity scores is observed, from a maximum of 0.621\n",
        "(phenotypic similarity) to a minimum of -0.513 (anticorrelated).\n",
        "\n",
        "These similarity relationships can provide insight into genes with\n",
        "potentially related biological functions or pathways. For example, high\n",
        "similarity scores may reflect co-regulated or functionally linked genes,\n",
        "while highly anticorrelated profiles may point to perturbations with\n",
        "opposing phenotypic effects, which could help generate hypotheses about\n",
        "antagonistic regulatory mechanisms or compensatory pathways. The most\n",
        "similar matches may suggest functional relationships (Figure 9, red box)\n",
        ", while the Match Resources column links to external databases where\n",
        "additional biological pathway information can be explored (Figure 9,\n",
        "blue box).\n",
        "\n",
        "In contrast, when examining the *SLC2A2* overexpression in the ORF\n",
        "[dataset](http://broad.io/orf), the range of Perturbation-Match\n",
        "Similarity scores is much narrower, spanning approximately from 0.27 to\n",
        "-0.223. This limited dynamic range may reflect the fact that *SLC2A2*\n",
        "overexpression induces a weaker morphological phenotype compared to its\n",
        "knockout.\n",
        "\n",
        "Taken together, these comparisons provide a starting point for\n",
        "hypothesis generation and pathway exploration, particularly when\n",
        "integrating multiple types of perturbations."
      ],
      "id": "513d124a-90fb-4a5d-ad38-fb0819a149ec"
    },
    {
      "cell_type": "raw",
      "metadata": {
        "raw_mimetype": "text/html"
      },
      "source": [
        "<center>"
      ],
      "id": "edbf0ece-9645-416a-8db8-df530d96195a"
    },
    {
      "cell_type": "markdown",
      "metadata": {},
      "source": [
        "<img src=\"https://zenodo.org/api/records/15242970/files/Figure9.png/content\">"
      ],
      "id": "bccc3935-d6b7-4b4f-8dc1-95ba47de7248"
    },
    {
      "cell_type": "raw",
      "metadata": {
        "raw_mimetype": "text/html"
      },
      "source": [
        "</center>"
      ],
      "id": "422fdffe-ee69-4130-9e66-32b1f07abfab"
    },
    {
      "cell_type": "markdown",
      "metadata": {},
      "source": [
        "***Figure 9.** Comparison between the selected perturbation, SLC2A2, and\n",
        "all other perturbations in the CRISPR dataset, ranked by morphological\n",
        "similarity. The Perturbation-Match Similarity column (red box) indicates\n",
        "how similar or anticorrelated each perturbation is to SLC2A2 (click on\n",
        "column name to sort it). The Match Resources column (blue box) provides\n",
        "external links to databases with additional information about the genes\n",
        "being compared. The merged images of all Cell Painting channels for\n",
        "SLC2A2 and its matched perturbation can be inspected in the\n",
        "“Perturbation example image” and “Match example image” columns, allowing\n",
        "visual assessment of their morphological signatures to facilitate the\n",
        "evaluation of similarities or differences between perturbations.*\n",
        "\n",
        "**References:**\n",
        "\n",
        "Mohammad Hossein Rohban, Shantanu Singh, Xiaoyun Wu, Julia B Berthet,\n",
        "Mark-Anthony Bray, Yashaswi Shrestha, Xaralabos Varelas, Jesse S Boehm,\n",
        "Anne E Carpenter (2017) Systematic morphological profiling of human gene\n",
        "and allele function via Cell Painting eLife 6:e24060\n",
        "\n",
        "Mohammad H. Rohban, Ashley M. Fuller, Ceryl Tan, Jonathan T. Goldstein,\n",
        "Deepsing Syangtan, Amos Gutnick, Ann DeVine, Madhura P. Nijsure, Megan\n",
        "Rigby, Joshua R. Sacher, Steven M. Corsello, Grace B. Peppler, Marta\n",
        "Bogaczynska, Andrew Boghossian, Gabrielle E. Ciotti, Allison T. Hands,\n",
        "Aroonroj Mekareeya, Minh Doan, Jennifer P. Gale, Rik Derynck, Thomas\n",
        "Turbyville, Joel D. Boerckel, Shantanu Singh, Laura L. Kiessling, Thomas\n",
        "L. Schwarz, Xaralabos Varelas, Florence F. Wagner, Ran Kafri, T.S. Karin\n",
        "Eisinger-Mathason, Anne E. Carpenter (2022) Virtual screening for\n",
        "small-molecule pathway regulators by image-profile matching. *Cell\n",
        "Systems*, 13(9): 724–736.e9."
      ],
      "id": "68ae57f1-15e8-4be7-841d-1443a3a6a060"
    }
  ],
  "nbformat": 4,
  "nbformat_minor": 5,
  "metadata": {
    "kernelspec": {
      "display_name": "Python 3",
      "language": "python",
      "name": "python3"
    }
  }
}