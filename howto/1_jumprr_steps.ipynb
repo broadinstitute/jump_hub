{
  "cells": [
    {
      "cell_type": "markdown",
      "metadata": {},
      "source": [
        "# \n",
        "\n",
        "## **Step-by-step tutorial: Using JUMP_rr to answer key biological questions**\n",
        "\n",
        "The JUMP_rr interactive\n",
        "[tools](https://github.com/broadinstitute/monorepo/tree/main/libs/jump_rr#quick-data-access)\n",
        "allow you to explore the JUMP dataset of genetic and chemical\n",
        "perturbations and their effects on cell morphology features. The data\n",
        "shown have been aggregated across replicates for each gene and by\n",
        "applying different filters, you can investigate how specific\n",
        "perturbations influence cells, their structures, and the strength of the\n",
        "changes.\n",
        "\n",
        "In this tutorial, you will learn how to:\n",
        "\n",
        "**Step 1: Understand the information displayed in the browser.**  \n",
        "**Step 2: Explore the data to answer the following questions:**\n",
        "\n",
        "**2.1**. Is my gene in the JUMP dataset?  \n",
        "**2.2.** Does my gene have a morphological phenotype when overexpressed\n",
        "or knocked down by CRISPR?  \n",
        "  **2.2.1.** If yes, what are the specific morphological changes or\n",
        "features?  \n",
        "  **2.2.2.** What other genes look similar or anticorrelated to my gene?\n",
        "\n",
        "## **Step 1. Understand the information displayed in the browser.**\n",
        "\n",
        "When you open one of the interactive tables, such as the CRISPR\n",
        "knock-outs [table](http://broad.io/crispr_feature), you will see an\n",
        "informational section explaining the available columns, and a filtering\n",
        "tool (Figure 1), followed by the data from CRISPR knockouts of all\n",
        "available genes."
      ],
      "id": "ac80b177-8900-49ee-a304-730bd25218a7"
    },
    {
      "cell_type": "raw",
      "metadata": {
        "raw_mimetype": "text/html"
      },
      "source": [
        "<center>"
      ],
      "id": "0f698068-fd18-4ea1-b718-77ced9ace700"
    },
    {
      "cell_type": "markdown",
      "metadata": {},
      "source": [
        "<img src=\"https://zenodo.org/api/records/15243111/files/Figure1.png/content\">"
      ],
      "id": "1e25da05-77c6-4da1-92dd-4e681e5222d7"
    },
    {
      "cell_type": "raw",
      "metadata": {
        "raw_mimetype": "text/html"
      },
      "source": [
        "</center>"
      ],
      "id": "d835f22d-52ab-485a-af83-ac8c573f34c3"
    },
    {
      "cell_type": "markdown",
      "metadata": {},
      "source": [
        "***Figure 1.** Information section of the CRISPR Feature Ranking table.\n",
        "The red boxes highlight two key components: the first provides\n",
        "definitions for each column; the second one shows the tool to filter\n",
        "based on the content values, such as gene name, subcellular compartment\n",
        "or statistical significance associated with each perturbation*\n",
        "\n",
        "Below you will find the full table (Figure 2), which displays aggregated\n",
        "results across replicates for each perturbation."
      ],
      "id": "fad4d6a8-37b3-4388-9337-a56b1e967d82"
    },
    {
      "cell_type": "raw",
      "metadata": {
        "raw_mimetype": "text/html"
      },
      "source": [
        "<center>"
      ],
      "id": "76dab10d-9c94-4b72-ae37-86f1b136207d"
    },
    {
      "cell_type": "markdown",
      "metadata": {},
      "source": [
        "<img src=\"https://zenodo.org/api/records/15243111/files/Figure2.png/content\">"
      ],
      "id": "dfd5bb4c-e8a6-4579-8721-bc9d4ff013e2"
    },
    {
      "cell_type": "raw",
      "metadata": {
        "raw_mimetype": "text/html"
      },
      "source": [
        "</center>"
      ],
      "id": "8fa6c8f9-97e7-4d7f-a3e7-1461a2731bac"
    },
    {
      "cell_type": "markdown",
      "metadata": {},
      "source": [
        "***Figure 2.** Each column can be sorted in ascending or descending\n",
        "order by clicking on the header. Sorting is applied to one column at a\n",
        "time and is based on the data type: numerical values are sorted by\n",
        "magnitude, while text is sorted alphabetically. The entries displayed\n",
        "are the 30 most statistically significant features for each gene\n",
        "(Feature Rank), and for each feature, the 30 genes with the most\n",
        "significant values (Gene Rank). A value of 999999 indicates an\n",
        "unassigned entry.*\n",
        "\n",
        "**Step 2: Explore the data to answer the following questions:**\n",
        "\n",
        "**2.1. Can I find my gene in the JUMP collection of perturbations?**\n",
        "\n",
        "The JUMP Hub includes a reference tool to quickly check whether a\n",
        "specific gene is included in the collection of genetic perturbations.\n",
        "From any page on the [JUMP Hub](https://broad.io/jump), click on the\n",
        "“Available Genes” tab in the sidebar. Here you can type the name gene of\n",
        "interest to search. The number of occurrences in multiple JUMP or\n",
        "JUMP-adjacent morphological profiling datasets will be displayed:\n",
        "“crispr” and “orf” are the JUMP knock-outs and over expression datasets,\n",
        "“A549”, “HeLa_DMEM” and “HeLa_HPLM” relate to the\n",
        "[PERISCOPE](https://github.com/broadinstitute/2022_PERISCOPE) dataset.\n",
        "and\n",
        "[Lacoste](https://github.com/carpenter-singh-lab/2024_LacosteHaghighi_Cell_Mislocalization)\n",
        "to a dataset focusing on pathogenic coding variants. This feature is\n",
        "especially useful when you’re exploring potential targets or pathways\n",
        "and want to collate data from multiple morphology-based datasets (Figure\n",
        "3)."
      ],
      "id": "194c3223-16b7-43f1-a4af-d1f9d8d9ef8e"
    },
    {
      "cell_type": "raw",
      "metadata": {
        "raw_mimetype": "text/html"
      },
      "source": [
        "<center>"
      ],
      "id": "bf8e8aed-2131-4a5b-bdf3-c2c06b58ac4a"
    },
    {
      "cell_type": "markdown",
      "metadata": {},
      "source": [
        "<img src=\"https://zenodo.org/api/records/15243111/files/Figure3.png/content\">"
      ],
      "id": "00f8baad-1829-447f-a0dd-80a016207987"
    },
    {
      "cell_type": "raw",
      "metadata": {
        "raw_mimetype": "text/html"
      },
      "source": [
        "</center>"
      ],
      "id": "3953847b-98eb-433d-90e9-3b002f0fd8a5"
    },
    {
      "cell_type": "markdown",
      "metadata": {},
      "source": [
        "***Figure 3.** Overview of the gene reference tool (red box on the\n",
        "left), to quickly check whether your gene of interest is available in\n",
        "the dataset. You can search using the full name or partial name of a\n",
        "gene in the search window (red box on the right). For each gene, the\n",
        "tool displays how many times it appears in the JUMP dataset under\n",
        "different perturbation types, such as CRISPR (for gene knockout) and ORF\n",
        "(for overexpression), as well as across information related to the\n",
        "PERISCOPE (A549, HeLa_DMEM and HeLa_HPLM) and Lacoste datasets.*\n",
        "\n",
        "**2.2. Does my gene of interest produce a morphology phenotype when\n",
        "overexpressed or knocked down by CRISPR?**\n",
        "\n",
        "To answer this question, we’ll start by exploring the CRISPR knockout\n",
        "dataset to identify genes whose loss affects the phenotype of interest.\n",
        "Then, we’ll use the ORF overexpression dataset to contrast results with\n",
        "gene overexpression.\n",
        "\n",
        "***Search for your gene in the CRISPR dataset.***\n",
        "\n",
        "Let us explore data related to the SLC2A2 gene. This gene encodes\n",
        "**GLUT2**, a glucose transporter primarily expressed in organs such as\n",
        "liver, pancreas and intestine. It plays a key role in glucose sensing\n",
        "and homeostasis. Given its involvement in metabolic processes, changes\n",
        "in SLC2A2 activity or expression could have significant phenotypic\n",
        "consequences that may be captured in image-based profiling data.\n",
        "\n",
        "To look for this you can use the Filter Tool, which helps narrow down\n",
        "the dataset based on specific search criteria. When you open the filter\n",
        "tab, a list of all available column names will appear (Figure 4A). In\n",
        "this case, you would select the “Perturbation” column, use the default\n",
        "operator “=”, and enter “SLC2A2” in the search field to display only the\n",
        "rows associated with that gene (Figure 4B).\n",
        "\n",
        "If you’re unsure of the exact name used in the dataset, we recommend\n",
        "make your search case-insensitive by changing the default filter\n",
        "operator from “=” to “like”, and entering a pattern that partially\n",
        "matches a text string, such as “SLC2A%” (Figure 4C).\n",
        "\n",
        "You can also search for alternative names commonly used in the\n",
        "literature. To do this, select the “Synonyms” column, change the filter\n",
        "operator to “contains” or “like”, and enter an alternative name such as\n",
        "GLUT2, or another known synonym of your compound of interest (Figure\n",
        "4D)."
      ],
      "id": "5c2fed50-33c3-4694-8a40-3904c51d5a4c"
    },
    {
      "cell_type": "raw",
      "metadata": {
        "raw_mimetype": "text/html"
      },
      "source": [
        "<center>"
      ],
      "id": "838584d2-d02a-4173-9652-6bbab3c024ab"
    },
    {
      "cell_type": "markdown",
      "metadata": {},
      "source": [
        "<img src=\"https://zenodo.org/api/records/15243111/files/Figure4.png/content\">"
      ],
      "id": "5f6b1f67-9d83-426f-be5f-6eb112022848"
    },
    {
      "cell_type": "raw",
      "metadata": {
        "raw_mimetype": "text/html"
      },
      "source": [
        "</center>"
      ],
      "id": "6d2a09d5-77d9-4044-abac-aa0ffb5b4c54"
    },
    {
      "cell_type": "markdown",
      "metadata": {},
      "source": [
        "***Figure 4.** Common usage of filtering options. Panel A shows the full\n",
        "list of columns available for custom filtering, including metadata such\n",
        "as Corrected p-value, Compartment, and others that support more advanced\n",
        "queries beyond gene-level filtering. B and C, illustrate how the number\n",
        "of entries returned depends on the filter type: a broader search using\n",
        "partial names (e.g., “SLC2A%”) yields more entries than an exact match\n",
        "(e.g., “SLC2A2”), which can help identify related genes within the same\n",
        "family. For instance, the GLUT (glucose transporter) family is encoded\n",
        "by different members of the SLC2A gene family (e.g., SLC2A1, SLC2A2,\n",
        "etc.), each representing a distinct transporter rather than isoforms of\n",
        "the same gene. D, highlights the utility of the Synonyms column, which\n",
        "maps alternative gene names used in the literature, especially useful\n",
        "for genes with multiple aliases or legacy names not directly listed\n",
        "under the Perturbation column.*\n",
        "\n",
        "The table below describes the available logical operators (Table1).\n",
        "\n",
        "| Operator     | Description                                                                                                        |\n",
        "|------------------------------------|------------------------------------|\n",
        "| =            | Selects results that exactly match the specified value.                                                            |\n",
        "| !=           | Excludes results that exactly match the specified value.                                                           |\n",
        "| contains     | Searches for values that include a specific string within the text.                                                |\n",
        "| ends with    | Selects values that end with a specific string.                                                                    |\n",
        "| starts with  | Selects values that start with a specific string.                                                                  |\n",
        "| \\>           | Selects numeric values greater than the specified value.                                                           |\n",
        "| ≥            | Selects numeric values greater than or equal to the specified value.                                               |\n",
        "| \\<           | Selects numeric values less than the specified value.                                                              |\n",
        "| ≤            | Selects numeric values less than or equal to the specified value.                                                  |\n",
        "| like         | Searches for patterns that partially match a text string (e.g., “SLC%”).                                           |\n",
        "| not like     | Excludes results that partially match a specific pattern.                                                          |\n",
        "| in           | Selects rows where the column value is within a specified list of values.                                          |\n",
        "| not in       | Excludes rows where the column value is within a specified list of values.                                         |\n",
        "| is blank     | Filters rows where the value is an empty string or space — the field exists but has no visible content.            |\n",
        "| is not blank | Filters rows where the field contains visible content (text, numbers, etc.), excluding empty or space-only values. |\n",
        "\n",
        "***Table 1.** Filtering operators used to refine values displayed in the\n",
        "dataset. Include or exclude rows based on specific conditions, such as\n",
        "matching exact values, checking for patterns in text, or evaluating\n",
        "numerical comparisons.*\n",
        "\n",
        "You can combine multiple filters. For instance, to focus on features\n",
        "associated with the SLC2A2 perturbation specifically in the “Cells” and\n",
        "“Nuclei” compartments, select the *Compartment* column, use the “**in”**\n",
        "operator, and enter “Cells, Nuclei” (Figure 5). Similarly, you can\n",
        "filter by other fields, such as perturbation (e.g., a list of genes),\n",
        "experiment type, or cell type. Once the filters are applied, you can\n",
        "copy the filtered table by clicking the JSON hyperlink (Figure 5, red\n",
        "box). To export the content, press Ctrl+A to select all, then Ctrl+C to\n",
        "copy it, and finally paste it into a text editor."
      ],
      "id": "11e23826-f40e-4802-965f-c65f658b4571"
    },
    {
      "cell_type": "raw",
      "metadata": {
        "raw_mimetype": "text/html"
      },
      "source": [
        "<center>"
      ],
      "id": "d5231616-c294-49fd-9173-979761d333db"
    },
    {
      "cell_type": "markdown",
      "metadata": {},
      "source": [
        "<img src=\"https://zenodo.org/api/records/15243111/files/Figure5.png/content\">"
      ],
      "id": "d27e0703-b852-4383-bf77-c02ce868e57d"
    },
    {
      "cell_type": "raw",
      "metadata": {
        "raw_mimetype": "text/html"
      },
      "source": [
        "</center>"
      ],
      "id": "b51b5842-24e8-44d9-a6b1-73f5b6d69bb8"
    },
    {
      "cell_type": "markdown",
      "metadata": {},
      "source": [
        "***Figure 5.** Example of combined filters applied to display\n",
        "gene-related data limited to the “Cells” and “Nuclei” compartments. The\n",
        "red box highlights available export options, such as JSON, which can\n",
        "streamline the integration of filtered results into external analysis\n",
        "pipelines or visualization tools.*\n",
        "\n",
        "After applying the filter for the **SLC2A2** perturbation, we can\n",
        "evaluate whether the perturbation is significantly different to the\n",
        "negative control condition by examining the **Corrected p-value**\n",
        "column. The Corrected p-value represents the statistical significance of\n",
        "how distinctive the overall morphological profile of a perturbation is\n",
        "when compared to the negative control (after false discovery rate\n",
        "correction). In this case, the corrected p-value is **0.00018** (all\n",
        "rows display the same value in that column, since this value is computed\n",
        "per perturbation, not per feature). This value (p-value\\<0.05) indicates\n",
        "a highly significant difference from the control condition, suggesting\n",
        "that overexpressing **SLC2A2** induces a strong and consistent\n",
        "morphological effect (Figure 6)."
      ],
      "id": "727f2c58-22be-4250-a8ab-2db8d4fcb147"
    },
    {
      "cell_type": "raw",
      "metadata": {
        "raw_mimetype": "text/html"
      },
      "source": [
        "<center>"
      ],
      "id": "aacb9d3e-31a7-4d89-a1f0-54a242ec64d1"
    },
    {
      "cell_type": "markdown",
      "metadata": {},
      "source": [
        "<img src=\"https://zenodo.org/api/records/15243111/files/Figure6.png/content\">"
      ],
      "id": "6ad34e31-5495-4c93-96ce-60a2752c830f"
    },
    {
      "cell_type": "raw",
      "metadata": {
        "raw_mimetype": "text/html"
      },
      "source": [
        "</center>"
      ],
      "id": "f5eca527-4454-4b78-9016-0a47cdbf5de5"
    },
    {
      "cell_type": "markdown",
      "metadata": {},
      "source": [
        "**Figure 6.** *The user interface displays the Corrected p-value, which\n",
        "is calculated at the perturbation level. As a result, all rows\n",
        "associated with the SLC2A2 perturbation share the same value (0.00018).\n",
        "When exploring multiple perturbations, sorting by Corrected p-value can\n",
        "help prioritize those with the most statistically significant\n",
        "morphological effects, making it a useful strategy for identifying\n",
        "relevant hits. The rows are sorted in ascending/descending order by\n",
        "clicking the name column header.*\n",
        "\n",
        "**2.2.1. What are the specific morphology changes/features?**\n",
        "\n",
        "In this section you will be able to identify which features are the most\n",
        "statistically significant within a perturbation. In this filtered view\n",
        "of the SLC2A2 perturbation, all values in the **Feature significance**\n",
        "column are **0.0,** which corresponds to values rounded to five decimal\n",
        "places and indicates that each listed morphological feature is\n",
        "statistically significant when compared to the control condition (Figure\n",
        "7). If you’d like more information about the features extracted by\n",
        "CellProfiler, such as how they’re named and calculated, you can check\n",
        "out the [Cellprofiler\n",
        "Handbook](https://cellprofiler-manual.s3.amazonaws.com/CellProfiler-4.0.4/index.html)."
      ],
      "id": "35485325-7924-447a-b48d-ad3c954e528a"
    },
    {
      "cell_type": "raw",
      "metadata": {
        "raw_mimetype": "text/html"
      },
      "source": [
        "<center>"
      ],
      "id": "89d7b264-b4c6-48e1-964e-45d1e751826e"
    },
    {
      "cell_type": "markdown",
      "metadata": {},
      "source": [
        "<img src=\"https://zenodo.org/api/records/15243111/files/Figure7.png/content\">"
      ],
      "id": "05aa37ca-583b-45ba-bf11-b103b366cfe8"
    },
    {
      "cell_type": "raw",
      "metadata": {
        "raw_mimetype": "text/html"
      },
      "source": [
        "</center>"
      ],
      "id": "3e3855c0-811a-487e-8dba-86279c05896d"
    },
    {
      "cell_type": "markdown",
      "metadata": {},
      "source": [
        "***Figure 7.** Top 4 features from the filtered CRISPR dataset for the\n",
        "SLC2A2 perturbation. The rows are sorted in ascending order based on the\n",
        "Feature Significance column (highlighted with a red box). All p-values\n",
        "in this column are displayed as 0.0, which reflects values approximated\n",
        "to five decimal places (i.e., \\< 0.00001). Since many features share\n",
        "these low values, we recommend using **Feature Rank** to prioritize\n",
        "features, as it provides their relative importance for each gene.*\n",
        "\n",
        "***Search for your gene in ORF dataset.***\n",
        "\n",
        "To explore whether overexpressing SLC2A2 produces a morphological\n",
        "phenotype, we repeated the same filtering process in the ORF\n",
        "overexpression dataset, link [here](http://broad.io/orf_feature). Using\n",
        "the Filter Tool, we selected the Perturbation column, kept the operator\n",
        "as “=”, and entered SLC2A2 in the search field.\n",
        "\n",
        "After filtering, we examined the **Corrected p-value** column. In this\n",
        "case, the p-value is **0.09482**, which is above the 0.05 threshold,\n",
        "indicating that overexpressing *SLC2A2* does not produce a statistically\n",
        "significant morphological change. This contrasts with the CRISPR\n",
        "knockout dataset, where the loss of *SLC2A2* resulted in a strong and\n",
        "significant phenotypic effect.\n",
        "\n",
        "However, in the case of SLC2A2, it is still possible to identify\n",
        "individual morphological features that are statistically significant,\n",
        "even if the overall perturbation does not show significant changes\n",
        "compared to the control. In this filtered view, a few features have\n",
        "**Feature Significance** values below 0.05, indicating meaningful\n",
        "differences relative to the control condition (Figure 8)."
      ],
      "id": "ba3e71b8-6440-4845-9aa6-590842288102"
    },
    {
      "cell_type": "raw",
      "metadata": {
        "raw_mimetype": "text/html"
      },
      "source": [
        "<center>"
      ],
      "id": "688a62eb-ae7a-48e5-a8b7-5e3787f113a6"
    },
    {
      "cell_type": "markdown",
      "metadata": {},
      "source": [
        "<img src=\"https://zenodo.org/api/records/15243111/files/Figure8.png/content\">"
      ],
      "id": "e1903255-828d-4dc6-8924-be9b73daf972"
    },
    {
      "cell_type": "raw",
      "metadata": {
        "raw_mimetype": "text/html"
      },
      "source": [
        "</center>"
      ],
      "id": "82198aef-9e5f-4702-b451-49873d321875"
    },
    {
      "cell_type": "markdown",
      "metadata": {},
      "source": [
        "***Figure 8.** Top four morphological features based on feature\n",
        "significance (per-feature p-values), ranked in increasing order,\n",
        "indicating statistically significant differences compared to the control\n",
        "condition. The Channel and Suffix columns appear empty because these\n",
        "features solely come from an object mask and not a fluorescence image.\n",
        "The rows are sorted in ascending/descending order by clicking the name\n",
        "column header.*\n",
        "\n",
        "**2.2.2. What other genes look similar or anticorrelated to my genes?“**\n",
        "\n",
        "Before exploring which perturbations produce the most similar or\n",
        "anti-similar (i.e., features that are high in one are lower in the other\n",
        "one), it’s important to understand the broader context and potential of\n",
        "image-based gene profiling.\n",
        "\n",
        "Morphological profiles can cluster genes into biologically meaningful\n",
        "groups, uncovering known pathways and reveal functional connections,\n",
        "such as a regulatory interaction between pathways (Rohban et al. 2017).\n",
        "This clustering is based on the similarity of high-dimensional\n",
        "morphological features extracted from images after gene overexpression.\n",
        "Comparing these profiles systematically can also identify\n",
        "*anti-correlated* perturbations, such as cases where one perturbation\n",
        "reverses the phenotype of another (Rohban et al., 2022). This is\n",
        "particularly relevant for therapeutic discovery, as finding antagonistic\n",
        "morphological profiles may highlight candidate compounds or genes that\n",
        "*suppress* an undesired phenotype.\n",
        "\n",
        "## The “matches” table thus quantifies similarity (or anticorrelation) of profiles and is a powerful resource to uncover potential functional relationships between genes, explore unknown gene roles, or even identify suppressors or enhancers within a biological pathway. These insights can help prioritize follow-up experiments and hypothesis generation, especially when analyzing genes or perturbations with poorly characterized functions.\n",
        "\n",
        "As an initial step, the *SLC2A2* perturbation was analyzed in the CRISPR\n",
        "matches [table](http://broad.io/crispr) , where the Perturbation-Match\n",
        "Similarity scores range from -1 (strong anti-similarity) to 1 (strong\n",
        "similarity). In this case, *SLC2A2* knockout displays a strong\n",
        "phenotypic effect, and when compared to other perturbations, a wide\n",
        "range of similarity scores is observed, from a maximum of 0.621\n",
        "(phenotypic similarity) to a minimum of -0.513 (anticorrelated).\n",
        "\n",
        "These similarity relationships can provide insight into genes with\n",
        "potentially related biological functions or pathways. For example, high\n",
        "similarity scores may reflect co-regulated or functionally linked genes,\n",
        "while highly anticorrelated profiles may point to perturbations with\n",
        "opposing phenotypic effects, which could help generate hypotheses about\n",
        "antagonistic regulatory mechanisms or compensatory pathways. The most\n",
        "similar matches may suggest functional relationships (Figure 9, red box)\n",
        ", while the Match Resources column links to external databases where\n",
        "additional biological pathway information can be explored (Figure 9,\n",
        "blue box).\n",
        "\n",
        "In contrast, when examining the *SLC2A2* overexpression in the ORF\n",
        "[dataset](http://broad.io/orf), the range of Perturbation-Match\n",
        "Similarity scores is much narrower, spanning approximately from 0.27 to\n",
        "-0.223. This limited dynamic range may reflect the fact that *SLC2A2*\n",
        "overexpression induces a weaker morphological phenotype compared to its\n",
        "knockout.\n",
        "\n",
        "Taken together, these comparisons provide a starting point for\n",
        "hypothesis generation and pathway exploration, particularly when\n",
        "integrating multiple types of perturbations."
      ],
      "id": "b47ef6a0-7827-4a9e-8873-9bd86679a2c3"
    },
    {
      "cell_type": "raw",
      "metadata": {
        "raw_mimetype": "text/html"
      },
      "source": [
        "<center>"
      ],
      "id": "9dc9512c-83df-49ce-8604-a5e67fcafd90"
    },
    {
      "cell_type": "markdown",
      "metadata": {},
      "source": [
        "<img src=\"https://zenodo.org/api/records/15243111/files/Figure9.png/content\">"
      ],
      "id": "73eeb658-0d16-4d91-bc05-6201030d4f71"
    },
    {
      "cell_type": "raw",
      "metadata": {
        "raw_mimetype": "text/html"
      },
      "source": [
        "</center>"
      ],
      "id": "0f4fe2ab-0168-4dec-941a-dff9ad13465c"
    },
    {
      "cell_type": "markdown",
      "metadata": {},
      "source": [
        "***Figure 9.** Comparison between the selected perturbation, SLC2A2, and\n",
        "all other perturbations in the CRISPR dataset, ranked by morphological\n",
        "similarity. The Perturbation-Match Similarity column (red box) indicates\n",
        "how similar or anticorrelated each perturbation is to SLC2A2 (click on\n",
        "column name to sort it). The Match Resources column (blue box) provides\n",
        "external links to databases with additional information about the genes\n",
        "being compared. The merged images of all Cell Painting channels for\n",
        "SLC2A2 and its matched perturbation can be inspected in the\n",
        "“Perturbation example image” and “Match example image” columns, allowing\n",
        "visual assessment of their morphological signatures to facilitate the\n",
        "evaluation of similarities or differences between perturbations.*\n",
        "\n",
        "**References:**\n",
        "\n",
        "Mohammad Hossein Rohban, Shantanu Singh, Xiaoyun Wu, Julia B Berthet,\n",
        "Mark-Anthony Bray, Yashaswi Shrestha, Xaralabos Varelas, Jesse S Boehm,\n",
        "Anne E Carpenter (2017) Systematic morphological profiling of human gene\n",
        "and allele function via Cell Painting eLife 6:e24060\n",
        "\n",
        "Mohammad H. Rohban, Ashley M. Fuller, Ceryl Tan, Jonathan T. Goldstein,\n",
        "Deepsing Syangtan, Amos Gutnick, Ann DeVine, Madhura P. Nijsure, Megan\n",
        "Rigby, Joshua R. Sacher, Steven M. Corsello, Grace B. Peppler, Marta\n",
        "Bogaczynska, Andrew Boghossian, Gabrielle E. Ciotti, Allison T. Hands,\n",
        "Aroonroj Mekareeya, Minh Doan, Jennifer P. Gale, Rik Derynck, Thomas\n",
        "Turbyville, Joel D. Boerckel, Shantanu Singh, Laura L. Kiessling, Thomas\n",
        "L. Schwarz, Xaralabos Varelas, Florence F. Wagner, Ran Kafri, T.S. Karin\n",
        "Eisinger-Mathason, Anne E. Carpenter (2022) Virtual screening for\n",
        "small-molecule pathway regulators by image-profile matching. *Cell\n",
        "Systems*, 13(9): 724–736.e9."
      ],
      "id": "ccf7d652-bf37-4feb-a985-ab3a6f84250e"
    }
  ],
  "nbformat": 4,
  "nbformat_minor": 5,
  "metadata": {
    "kernelspec": {
      "display_name": "Python 3",
      "language": "python",
      "name": "python3"
    }
  }
}