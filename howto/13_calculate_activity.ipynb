{
  "cells": [
    {
      "cell_type": "markdown",
      "metadata": {},
      "source": [
        "# Calculate phenotypic activity\n",
        "\n",
        "A common first analysis for morphological datasets is the activity of\n",
        "the cells’ phenotypes. We will use the\n",
        "[copairs](https://github.com/cytomining/copairs) package, which makes\n",
        "use of [mean average\n",
        "precision](https://www.ncbi.nlm.nih.gov/pmc/articles/PMC11014546/) to\n",
        "obtain a metric of replicability for any set of morphological profiles.\n",
        "In other words, it indicates how similar a given set of compounds are,\n",
        "relative to their negative controls, which is usually cells that have\n",
        "experienced no perturbation."
      ],
      "id": "fb4d687e-c77f-4be5-b125-fcac476d216a"
    },
    {
      "cell_type": "code",
      "execution_count": 1,
      "metadata": {
        "title": "Imports"
      },
      "outputs": [],
      "source": [
        "import polars as pl\n",
        "import polars.selectors as cs\n",
        "import seaborn as sns\n",
        "from broad_babel.query import get_mapper\n",
        "from copairs.map import average_precision"
      ],
      "id": "f31a9377"
    },
    {
      "cell_type": "markdown",
      "metadata": {},
      "source": [
        "We will be using the CRISPR dataset specificed in our index csv, but we\n",
        "will select a subset of perturbations and the controls present."
      ],
      "id": "f29330ed-3d2a-43ee-ac73-00ba1a5bac27"
    },
    {
      "cell_type": "code",
      "execution_count": 2,
      "metadata": {
        "title": "Fetch the CRISPR dataset"
      },
      "outputs": [],
      "source": [
        "INDEX_FILE = \"https://raw.githubusercontent.com/jump-cellpainting/datasets/50cd2ab93749ccbdb0919d3adf9277c14b6343dd/manifests/profile_index.csv\"\n",
        "CRISPR_URL = pl.read_csv(INDEX_FILE).filter(pl.col(\"subset\") == \"crispr\").item(0, \"url\")\n",
        "profiles = pl.scan_parquet(CRISPR_URL)"
      ],
      "id": "519acb96"
    },
    {
      "cell_type": "markdown",
      "metadata": {},
      "source": [
        "Sample perturbations and add known negative control."
      ],
      "id": "81d4e763-c19b-43a2-a4ff-716c0ea1812c"
    },
    {
      "cell_type": "code",
      "execution_count": 3,
      "metadata": {},
      "outputs": [
        {
          "output_type": "stream",
          "name": "stdout",
          "text": [
            "shape: (5, 263)\n",
            "┌──────────────┬──────────────┬──────────────┬─────────────┬───┬───────────┬───────────┬───────────┐\n",
            "│ Metadata_Sou ┆ Metadata_Pla ┆ Metadata_Wel ┆ Metadata_JC ┆ … ┆ X_257     ┆ X_258     ┆ X_259     │\n",
            "│ rce          ┆ te           ┆ l            ┆ P2022       ┆   ┆ ---       ┆ ---       ┆ ---       │\n",
            "│ ---          ┆ ---          ┆ ---          ┆ ---         ┆   ┆ f32       ┆ f32       ┆ f32       │\n",
            "│ str          ┆ str          ┆ str          ┆ str         ┆   ┆           ┆           ┆           │\n",
            "╞══════════════╪══════════════╪══════════════╪═════════════╪═══╪═══════════╪═══════════╪═══════════╡\n",
            "│ source_13    ┆ CP-CC9-R1-05 ┆ I23          ┆ JCP2022_800 ┆ … ┆ -0.024703 ┆ 0.148245  ┆ 0.069796  │\n",
            "│              ┆              ┆              ┆ 002         ┆   ┆           ┆           ┆           │\n",
            "│ source_13    ┆ CP-CC9-R1-05 ┆ J02          ┆ JCP2022_800 ┆ … ┆ -0.119861 ┆ 0.047197  ┆ -0.146323 │\n",
            "│              ┆              ┆              ┆ 002         ┆   ┆           ┆           ┆           │\n",
            "│ source_13    ┆ CP-CC9-R1-05 ┆ L23          ┆ JCP2022_800 ┆ … ┆ -0.123536 ┆ 0.038496  ┆ 0.156573  │\n",
            "│              ┆              ┆              ┆ 002         ┆   ┆           ┆           ┆           │\n",
            "│ source_13    ┆ CP-CC9-R1-05 ┆ O23          ┆ JCP2022_800 ┆ … ┆ 0.07883   ┆ 0.080706  ┆ -0.003756 │\n",
            "│              ┆              ┆              ┆ 002         ┆   ┆           ┆           ┆           │\n",
            "│ source_13    ┆ CP-CC9-R1-05 ┆ M02          ┆ JCP2022_800 ┆ … ┆ -0.018471 ┆ -0.074819 ┆ 0.057594  │\n",
            "│              ┆              ┆              ┆ 002         ┆   ┆           ┆           ┆           │\n",
            "└──────────────┴──────────────┴──────────────┴─────────────┴───┴───────────┴───────────┴───────────┘"
          ]
        },
        {
          "output_type": "stream",
          "name": "stderr",
          "text": [
            "/tmp/nix-shell.FxUdam/ipykernel_4176/110865935.py:10: DeprecationWarning: `is_in` with a collection of the same datatype is ambiguous and deprecated.\n",
            "Please use `implode` to return to previous behavior.\n",
            "\n",
            "See https://github.com/pola-rs/polars/issues/22149 for more information.\n",
            "  perts_controls = profiles_subset.filter(pl.col(\"Metadata_Plate\").is_in(unique_plates))"
          ]
        }
      ],
      "source": [
        "jcp_ids = (\n",
        "    profiles.select(pl.col(\"Metadata_JCP2022\")).unique().collect().to_series().sort()\n",
        ")\n",
        "subsample = jcp_ids.sample(10, seed=42)\n",
        "subsample = (*subsample, \"JCP2022_800002\")  # Add the only control in CRISPR data\n",
        "profiles_subset = profiles.filter(pl.col(\"Metadata_JCP2022\").is_in(subsample)).collect()\n",
        "unique_plates = profiles_subset.filter(pl.col(\"Metadata_JCP2022\") != subsample[-1])[\n",
        "    \"Metadata_Plate\"\n",
        "].unique()\n",
        "perts_controls = profiles_subset.filter(pl.col(\"Metadata_Plate\").is_in(unique_plates))\n",
        "with pl.Config() as cfg:\n",
        "    cfg.set_tbl_cols(7)  # Limit the number of columns printed\n",
        "    print(perts_controls.head())"
      ],
      "id": "78cd8153"
    },
    {
      "cell_type": "markdown",
      "metadata": {},
      "source": [
        "Now we create a mapper to label treatments and controls. See the\n",
        "previous tutorial for details on fetching metadata."
      ],
      "id": "1463da8a-3a0f-4dda-9f99-72b8e5ac7bd6"
    },
    {
      "cell_type": "code",
      "execution_count": 4,
      "metadata": {},
      "outputs": [],
      "source": [
        "pert_mapper = get_mapper(\n",
        "    subsample, input_column=\"JCP2022\", output_columns=\"JCP2022,pert_type\"\n",
        ")\n",
        "perts_controls_annotated = perts_controls.with_columns(\n",
        "    pl.col(\"Metadata_JCP2022\").replace(pert_mapper).alias(\"pert_type\")\n",
        ")"
      ],
      "id": "cf713841"
    },
    {
      "cell_type": "markdown",
      "metadata": {},
      "source": [
        "Finally we use the parameters from . See the [copairs\n",
        "wiki](https://github.com/cytomining/copairs/wiki/Defining-parameters)\n",
        "for more details on the parameters that copairs requires."
      ],
      "id": "facc3442-b7b9-42af-a0ec-dfea7b73a04f"
    },
    {
      "cell_type": "code",
      "execution_count": 5,
      "metadata": {},
      "outputs": [
        {
          "output_type": "display_data",
          "metadata": {},
          "data": {
            "application/vnd.jupyter.widget-view+json": {
              "model_id": "5595d52afd664740800632212adb9541",
              "version_major": 2,
              "version_minor": 0
            }
          }
        },
        {
          "output_type": "display_data",
          "metadata": {},
          "data": {
            "application/vnd.jupyter.widget-view+json": {
              "model_id": "8cbf5c784fe144079b5263bd54868b24",
              "version_major": 2,
              "version_minor": 0
            }
          }
        },
        {
          "output_type": "display_data",
          "metadata": {},
          "data": {
            "text/html": [
              "</div>"
            ]
          }
        }
      ],
      "source": [
        "pos_sameby = [\"Metadata_JCP2022\"]  # We want to match perturbations\n",
        "pos_diffby = []\n",
        "neg_sameby = []\n",
        "neg_diffby = [\"pert_type\"]\n",
        "batch_size = 20000\n",
        "\n",
        "metadata_selector = cs.starts_with((\"Metadata\", \"pert_type\"))\n",
        "meta = perts_controls_annotated.select(metadata_selector)\n",
        "features = perts_controls_annotated.select(~metadata_selector)\n",
        "\n",
        "result = average_precision(\n",
        "    meta.to_pandas(),\n",
        "    features.to_numpy(),\n",
        "    pos_sameby,\n",
        "    pos_diffby,\n",
        "    neg_sameby,\n",
        "    neg_diffby,\n",
        "    batch_size,\n",
        ")\n",
        "result = pl.DataFrame(\n",
        "    result\n",
        ")  # We convert back to polars because we prefer how it prints dataframes\n",
        "result.head()"
      ],
      "id": "3bf906ae"
    },
    {
      "cell_type": "markdown",
      "metadata": {},
      "source": [
        "The result of copairs is a dataframe containing, in addition to the\n",
        "original metadata, the average precision with which perturbations were\n",
        "retrieved. Perturbations that look more similar to each other than to\n",
        "the negative controls in the plates present in the same plates will be\n",
        "higher. Perturbations that do not differentiate themselves against\n",
        "negative controls will be closer to zero.\n",
        "\n",
        "To wrap up we pull the standard gene symbol and plot the distribution of\n",
        "average precision."
      ],
      "id": "53cb254e-5db1-4a4d-854a-007fdb1acd6a"
    },
    {
      "cell_type": "code",
      "execution_count": 6,
      "metadata": {},
      "outputs": [
        {
          "output_type": "display_data",
          "metadata": {},
          "data": {
            "image/png": "[encoded data removed]"
          }
        }
      ],
      "source": [
        "name_mapper = get_mapper(\n",
        "    subsample, input_column=\"JCP2022\", output_columns=\"JCP2022,standard_key\"\n",
        ")\n",
        "\n",
        "to_plot = result.filter(pl.col(\"pert_type\") == \"trt\").with_columns(\n",
        "    pl.col(\"Metadata_JCP2022\").replace(name_mapper).alias(\"Perturbed gene\")\n",
        ")\n",
        "\n",
        "# Plotting\n",
        "sns.stripplot(data=to_plot.to_pandas(), x=\"average_precision\", y=\"Perturbed gene\")"
      ],
      "id": "5ba4c106"
    },
    {
      "cell_type": "markdown",
      "metadata": {},
      "source": [
        "We can see that only some perturbations can be easily retrieved when\n",
        "compared to negative controls, in this case KIF16B and CDK20. For a\n",
        "deeper dive into how mean Average Precision (mAP) works, you can explore\n",
        "[this](https://github.com/alxndrkalinin/copairs/blob/v0.4.2/examples/demo.ipynb)\n",
        "notebook."
      ],
      "id": "ac602eae-93e0-44cf-b7b1-67f41fd4c310"
    }
  ],
  "nbformat": 4,
  "nbformat_minor": 5,
  "metadata": {
    "jupytext": {
      "executable": "/usr/bin/env jupyter",
      "text_representation": {
        "extension": ".qmd",
        "format_name": "quarto",
        "format_version": "1.0",
        "jupytext_version": "1.17.2"
      }
    },
    "kernelspec": {
      "name": "python3",
      "display_name": "Python 3",
      "language": "python"
    },
    "language_info": {
      "name": "python",
      "codemirror_mode": {
        "name": "ipython",
        "version": "3"
      },
      "file_extension": ".py",
      "mimetype": "text/x-python",
      "nbconvert_exporter": "python",
      "pygments_lexer": "ipython3",
      "version": "3.11.12"
    },
    "widgets": {
      "application/vnd.jupyter.widget-state+json": {
        "state": {
          "1571459e3b494b04a79d84a3226cdf1d": {
            "model_module": "@jupyter-widgets/controls",
            "model_module_version": "2.0.0",
            "model_name": "ProgressStyleModel",
            "state": {
              "_model_module": "@jupyter-widgets/controls",
              "_model_module_version": "2.0.0",
              "_model_name": "ProgressStyleModel",
              "_view_count": null,
              "_view_module": "@jupyter-widgets/base",
              "_view_module_version": "2.0.0",
              "_view_name": "StyleView",
              "bar_color": null,
              "description_width": ""
            }
          },
          "15f35bb5c51447faa6b6a930d0a2f1f2": {
            "model_module": "@jupyter-widgets/controls",
            "model_module_version": "2.0.0",
            "model_name": "HTMLStyleModel",
            "state": {
              "_model_module": "@jupyter-widgets/controls",
              "_model_module_version": "2.0.0",
              "_model_name": "HTMLStyleModel",
              "_view_count": null,
              "_view_module": "@jupyter-widgets/base",
              "_view_module_version": "2.0.0",
              "_view_name": "StyleView",
              "background": null,
              "description_width": "",
              "font_size": null,
              "text_color": null
            }
          },
          "42fc113580b44443a89357c38ffcd091": {
            "model_module": "@jupyter-widgets/base",
            "model_module_version": "2.0.0",
            "model_name": "LayoutModel",
            "state": {
              "_model_module": "@jupyter-widgets/base",
              "_model_module_version": "2.0.0",
              "_model_name": "LayoutModel",
              "_view_count": null,
              "_view_module": "@jupyter-widgets/base",
              "_view_module_version": "2.0.0",
              "_view_name": "LayoutView",
              "align_content": null,
              "align_items": null,
              "align_self": null,
              "border_bottom": null,
              "border_left": null,
              "border_right": null,
              "border_top": null,
              "bottom": null,
              "display": null,
              "flex": null,
              "flex_flow": null,
              "grid_area": null,
              "grid_auto_columns": null,
              "grid_auto_flow": null,
              "grid_auto_rows": null,
              "grid_column": null,
              "grid_gap": null,
              "grid_row": null,
              "grid_template_areas": null,
              "grid_template_columns": null,
              "grid_template_rows": null,
              "height": null,
              "justify_content": null,
              "justify_items": null,
              "left": null,
              "margin": null,
              "max_height": null,
              "max_width": null,
              "min_height": null,
              "min_width": null,
              "object_fit": null,
              "object_position": null,
              "order": null,
              "overflow": null,
              "padding": null,
              "right": null,
              "top": null,
              "visibility": null,
              "width": null
            }
          },
          "48f8e7056d564a93896294d4ecd93f1f": {
            "model_module": "@jupyter-widgets/base",
            "model_module_version": "2.0.0",
            "model_name": "LayoutModel",
            "state": {
              "_model_module": "@jupyter-widgets/base",
              "_model_module_version": "2.0.0",
              "_model_name": "LayoutModel",
              "_view_count": null,
              "_view_module": "@jupyter-widgets/base",
              "_view_module_version": "2.0.0",
              "_view_name": "LayoutView",
              "align_content": null,
              "align_items": null,
              "align_self": null,
              "border_bottom": null,
              "border_left": null,
              "border_right": null,
              "border_top": null,
              "bottom": null,
              "display": null,
              "flex": null,
              "flex_flow": null,
              "grid_area": null,
              "grid_auto_columns": null,
              "grid_auto_flow": null,
              "grid_auto_rows": null,
              "grid_column": null,
              "grid_gap": null,
              "grid_row": null,
              "grid_template_areas": null,
              "grid_template_columns": null,
              "grid_template_rows": null,
              "height": null,
              "justify_content": null,
              "justify_items": null,
              "left": null,
              "margin": null,
              "max_height": null,
              "max_width": null,
              "min_height": null,
              "min_width": null,
              "object_fit": null,
              "object_position": null,
              "order": null,
              "overflow": null,
              "padding": null,
              "right": null,
              "top": null,
              "visibility": "hidden",
              "width": null
            }
          },
          "5595d52afd664740800632212adb9541": {
            "model_module": "@jupyter-widgets/controls",
            "model_module_version": "2.0.0",
            "model_name": "HBoxModel",
            "state": {
              "_dom_classes": [],
              "_model_module": "@jupyter-widgets/controls",
              "_model_module_version": "2.0.0",
              "_model_name": "HBoxModel",
              "_view_count": null,
              "_view_module": "@jupyter-widgets/controls",
              "_view_module_version": "2.0.0",
              "_view_name": "HBoxView",
              "box_style": "",
              "children": [
                "IPY_MODEL_8b8b838cf7804fd6a1421a62928d1fb6",
                "IPY_MODEL_b119de175de94acfa3cb1d41f3536828",
                "IPY_MODEL_93076226ce0d45d39163783a2dc37f0c"
              ],
              "layout": "IPY_MODEL_686ce0f067d54e7aa54d0b639c08fcec",
              "tabbable": null,
              "tooltip": null
            }
          },
          "686ce0f067d54e7aa54d0b639c08fcec": {
            "model_module": "@jupyter-widgets/base",
            "model_module_version": "2.0.0",
            "model_name": "LayoutModel",
            "state": {
              "_model_module": "@jupyter-widgets/base",
              "_model_module_version": "2.0.0",
              "_model_name": "LayoutModel",
              "_view_count": null,
              "_view_module": "@jupyter-widgets/base",
              "_view_module_version": "2.0.0",
              "_view_name": "LayoutView",
              "align_content": null,
              "align_items": null,
              "align_self": null,
              "border_bottom": null,
              "border_left": null,
              "border_right": null,
              "border_top": null,
              "bottom": null,
              "display": null,
              "flex": null,
              "flex_flow": null,
              "grid_area": null,
              "grid_auto_columns": null,
              "grid_auto_flow": null,
              "grid_auto_rows": null,
              "grid_column": null,
              "grid_gap": null,
              "grid_row": null,
              "grid_template_areas": null,
              "grid_template_columns": null,
              "grid_template_rows": null,
              "height": null,
              "justify_content": null,
              "justify_items": null,
              "left": null,
              "margin": null,
              "max_height": null,
              "max_width": null,
              "min_height": null,
              "min_width": null,
              "object_fit": null,
              "object_position": null,
              "order": null,
              "overflow": null,
              "padding": null,
              "right": null,
              "top": null,
              "visibility": "hidden",
              "width": null
            }
          },
          "84a7a62f7e1241dca81087c517d6c574": {
            "model_module": "@jupyter-widgets/controls",
            "model_module_version": "2.0.0",
            "model_name": "ProgressStyleModel",
            "state": {
              "_model_module": "@jupyter-widgets/controls",
              "_model_module_version": "2.0.0",
              "_model_name": "ProgressStyleModel",
              "_view_count": null,
              "_view_module": "@jupyter-widgets/base",
              "_view_module_version": "2.0.0",
              "_view_name": "StyleView",
              "bar_color": null,
              "description_width": ""
            }
          },
          "8b8b838cf7804fd6a1421a62928d1fb6": {
            "model_module": "@jupyter-widgets/controls",
            "model_module_version": "2.0.0",
            "model_name": "HTMLModel",
            "state": {
              "_dom_classes": [],
              "_model_module": "@jupyter-widgets/controls",
              "_model_module_version": "2.0.0",
              "_model_name": "HTMLModel",
              "_view_count": null,
              "_view_module": "@jupyter-widgets/controls",
              "_view_module_version": "2.0.0",
              "_view_name": "HTMLView",
              "description": "",
              "description_allow_html": false,
              "layout": "IPY_MODEL_42fc113580b44443a89357c38ffcd091",
              "placeholder": "​",
              "style": "IPY_MODEL_f3769a6d244d4fe79c026af3052bab61",
              "tabbable": null,
              "tooltip": null,
              "value": "  0%"
            }
          },
          "8cbf5c784fe144079b5263bd54868b24": {
            "model_module": "@jupyter-widgets/controls",
            "model_module_version": "2.0.0",
            "model_name": "HBoxModel",
            "state": {
              "_dom_classes": [],
              "_model_module": "@jupyter-widgets/controls",
              "_model_module_version": "2.0.0",
              "_model_name": "HBoxModel",
              "_view_count": null,
              "_view_module": "@jupyter-widgets/controls",
              "_view_module_version": "2.0.0",
              "_view_name": "HBoxView",
              "box_style": "",
              "children": [
                "IPY_MODEL_ac9e36c6e6ac4547a61f198f906da0d3",
                "IPY_MODEL_ec8c2e247bcf4ca49a72492122cf1321",
                "IPY_MODEL_c8c9ad487ffc473f99e8dc7c9a512e15"
              ],
              "layout": "IPY_MODEL_48f8e7056d564a93896294d4ecd93f1f",
              "tabbable": null,
              "tooltip": null
            }
          },
          "92470ccc336f4ca88ac8b8674d537f77": {
            "model_module": "@jupyter-widgets/controls",
            "model_module_version": "2.0.0",
            "model_name": "HTMLStyleModel",
            "state": {
              "_model_module": "@jupyter-widgets/controls",
              "_model_module_version": "2.0.0",
              "_model_name": "HTMLStyleModel",
              "_view_count": null,
              "_view_module": "@jupyter-widgets/base",
              "_view_module_version": "2.0.0",
              "_view_name": "StyleView",
              "background": null,
              "description_width": "",
              "font_size": null,
              "text_color": null
            }
          },
          "93076226ce0d45d39163783a2dc37f0c": {
            "model_module": "@jupyter-widgets/controls",
            "model_module_version": "2.0.0",
            "model_name": "HTMLModel",
            "state": {
              "_dom_classes": [],
              "_model_module": "@jupyter-widgets/controls",
              "_model_module_version": "2.0.0",
              "_model_name": "HTMLModel",
              "_view_count": null,
              "_view_module": "@jupyter-widgets/controls",
              "_view_module_version": "2.0.0",
              "_view_name": "HTMLView",
              "description": "",
              "description_allow_html": false,
              "layout": "IPY_MODEL_a273d85b2d7d42189331ad5b43ef8a0d",
              "placeholder": "​",
              "style": "IPY_MODEL_15f35bb5c51447faa6b6a930d0a2f1f2",
              "tabbable": null,
              "tooltip": null,
              "value": " 0/5 [00:00&lt;?, ?it/s]"
            }
          },
          "97e4d4aa80c443d0ab5d8832d5f4daa2": {
            "model_module": "@jupyter-widgets/base",
            "model_module_version": "2.0.0",
            "model_name": "LayoutModel",
            "state": {
              "_model_module": "@jupyter-widgets/base",
              "_model_module_version": "2.0.0",
              "_model_name": "LayoutModel",
              "_view_count": null,
              "_view_module": "@jupyter-widgets/base",
              "_view_module_version": "2.0.0",
              "_view_name": "LayoutView",
              "align_content": null,
              "align_items": null,
              "align_self": null,
              "border_bottom": null,
              "border_left": null,
              "border_right": null,
              "border_top": null,
              "bottom": null,
              "display": null,
              "flex": null,
              "flex_flow": null,
              "grid_area": null,
              "grid_auto_columns": null,
              "grid_auto_flow": null,
              "grid_auto_rows": null,
              "grid_column": null,
              "grid_gap": null,
              "grid_row": null,
              "grid_template_areas": null,
              "grid_template_columns": null,
              "grid_template_rows": null,
              "height": null,
              "justify_content": null,
              "justify_items": null,
              "left": null,
              "margin": null,
              "max_height": null,
              "max_width": null,
              "min_height": null,
              "min_width": null,
              "object_fit": null,
              "object_position": null,
              "order": null,
              "overflow": null,
              "padding": null,
              "right": null,
              "top": null,
              "visibility": null,
              "width": null
            }
          },
          "995c7edb13b44c24a358b69e78337bcd": {
            "model_module": "@jupyter-widgets/base",
            "model_module_version": "2.0.0",
            "model_name": "LayoutModel",
            "state": {
              "_model_module": "@jupyter-widgets/base",
              "_model_module_version": "2.0.0",
              "_model_name": "LayoutModel",
              "_view_count": null,
              "_view_module": "@jupyter-widgets/base",
              "_view_module_version": "2.0.0",
              "_view_name": "LayoutView",
              "align_content": null,
              "align_items": null,
              "align_self": null,
              "border_bottom": null,
              "border_left": null,
              "border_right": null,
              "border_top": null,
              "bottom": null,
              "display": null,
              "flex": null,
              "flex_flow": null,
              "grid_area": null,
              "grid_auto_columns": null,
              "grid_auto_flow": null,
              "grid_auto_rows": null,
              "grid_column": null,
              "grid_gap": null,
              "grid_row": null,
              "grid_template_areas": null,
              "grid_template_columns": null,
              "grid_template_rows": null,
              "height": null,
              "justify_content": null,
              "justify_items": null,
              "left": null,
              "margin": null,
              "max_height": null,
              "max_width": null,
              "min_height": null,
              "min_width": null,
              "object_fit": null,
              "object_position": null,
              "order": null,
              "overflow": null,
              "padding": null,
              "right": null,
              "top": null,
              "visibility": null,
              "width": null
            }
          },
          "a273d85b2d7d42189331ad5b43ef8a0d": {
            "model_module": "@jupyter-widgets/base",
            "model_module_version": "2.0.0",
            "model_name": "LayoutModel",
            "state": {
              "_model_module": "@jupyter-widgets/base",
              "_model_module_version": "2.0.0",
              "_model_name": "LayoutModel",
              "_view_count": null,
              "_view_module": "@jupyter-widgets/base",
              "_view_module_version": "2.0.0",
              "_view_name": "LayoutView",
              "align_content": null,
              "align_items": null,
              "align_self": null,
              "border_bottom": null,
              "border_left": null,
              "border_right": null,
              "border_top": null,
              "bottom": null,
              "display": null,
              "flex": null,
              "flex_flow": null,
              "grid_area": null,
              "grid_auto_columns": null,
              "grid_auto_flow": null,
              "grid_auto_rows": null,
              "grid_column": null,
              "grid_gap": null,
              "grid_row": null,
              "grid_template_areas": null,
              "grid_template_columns": null,
              "grid_template_rows": null,
              "height": null,
              "justify_content": null,
              "justify_items": null,
              "left": null,
              "margin": null,
              "max_height": null,
              "max_width": null,
              "min_height": null,
              "min_width": null,
              "object_fit": null,
              "object_position": null,
              "order": null,
              "overflow": null,
              "padding": null,
              "right": null,
              "top": null,
              "visibility": null,
              "width": null
            }
          },
          "ac9e36c6e6ac4547a61f198f906da0d3": {
            "model_module": "@jupyter-widgets/controls",
            "model_module_version": "2.0.0",
            "model_name": "HTMLModel",
            "state": {
              "_dom_classes": [],
              "_model_module": "@jupyter-widgets/controls",
              "_model_module_version": "2.0.0",
              "_model_name": "HTMLModel",
              "_view_count": null,
              "_view_module": "@jupyter-widgets/controls",
              "_view_module_version": "2.0.0",
              "_view_name": "HTMLView",
              "description": "",
              "description_allow_html": false,
              "layout": "IPY_MODEL_acc7a9ad18db4b19881a7c0bb1c33040",
              "placeholder": "​",
              "style": "IPY_MODEL_cc967e744a0d4c03a99ed12f0a888e87",
              "tabbable": null,
              "tooltip": null,
              "value": "  0%"
            }
          },
          "acc7a9ad18db4b19881a7c0bb1c33040": {
            "model_module": "@jupyter-widgets/base",
            "model_module_version": "2.0.0",
            "model_name": "LayoutModel",
            "state": {
              "_model_module": "@jupyter-widgets/base",
              "_model_module_version": "2.0.0",
              "_model_name": "LayoutModel",
              "_view_count": null,
              "_view_module": "@jupyter-widgets/base",
              "_view_module_version": "2.0.0",
              "_view_name": "LayoutView",
              "align_content": null,
              "align_items": null,
              "align_self": null,
              "border_bottom": null,
              "border_left": null,
              "border_right": null,
              "border_top": null,
              "bottom": null,
              "display": null,
              "flex": null,
              "flex_flow": null,
              "grid_area": null,
              "grid_auto_columns": null,
              "grid_auto_flow": null,
              "grid_auto_rows": null,
              "grid_column": null,
              "grid_gap": null,
              "grid_row": null,
              "grid_template_areas": null,
              "grid_template_columns": null,
              "grid_template_rows": null,
              "height": null,
              "justify_content": null,
              "justify_items": null,
              "left": null,
              "margin": null,
              "max_height": null,
              "max_width": null,
              "min_height": null,
              "min_width": null,
              "object_fit": null,
              "object_position": null,
              "order": null,
              "overflow": null,
              "padding": null,
              "right": null,
              "top": null,
              "visibility": null,
              "width": null
            }
          },
          "b119de175de94acfa3cb1d41f3536828": {
            "model_module": "@jupyter-widgets/controls",
            "model_module_version": "2.0.0",
            "model_name": "FloatProgressModel",
            "state": {
              "_dom_classes": [],
              "_model_module": "@jupyter-widgets/controls",
              "_model_module_version": "2.0.0",
              "_model_name": "FloatProgressModel",
              "_view_count": null,
              "_view_module": "@jupyter-widgets/controls",
              "_view_module_version": "2.0.0",
              "_view_name": "ProgressView",
              "bar_style": "",
              "description": "",
              "description_allow_html": false,
              "layout": "IPY_MODEL_97e4d4aa80c443d0ab5d8832d5f4daa2",
              "max": 5,
              "min": 0,
              "orientation": "horizontal",
              "style": "IPY_MODEL_84a7a62f7e1241dca81087c517d6c574",
              "tabbable": null,
              "tooltip": null,
              "value": 5
            }
          },
          "c8c9ad487ffc473f99e8dc7c9a512e15": {
            "model_module": "@jupyter-widgets/controls",
            "model_module_version": "2.0.0",
            "model_name": "HTMLModel",
            "state": {
              "_dom_classes": [],
              "_model_module": "@jupyter-widgets/controls",
              "_model_module_version": "2.0.0",
              "_model_name": "HTMLModel",
              "_view_count": null,
              "_view_module": "@jupyter-widgets/controls",
              "_view_module_version": "2.0.0",
              "_view_name": "HTMLView",
              "description": "",
              "description_allow_html": false,
              "layout": "IPY_MODEL_995c7edb13b44c24a358b69e78337bcd",
              "placeholder": "​",
              "style": "IPY_MODEL_92470ccc336f4ca88ac8b8674d537f77",
              "tabbable": null,
              "tooltip": null,
              "value": " 0/2 [00:00&lt;?, ?it/s]"
            }
          },
          "cc967e744a0d4c03a99ed12f0a888e87": {
            "model_module": "@jupyter-widgets/controls",
            "model_module_version": "2.0.0",
            "model_name": "HTMLStyleModel",
            "state": {
              "_model_module": "@jupyter-widgets/controls",
              "_model_module_version": "2.0.0",
              "_model_name": "HTMLStyleModel",
              "_view_count": null,
              "_view_module": "@jupyter-widgets/base",
              "_view_module_version": "2.0.0",
              "_view_name": "StyleView",
              "background": null,
              "description_width": "",
              "font_size": null,
              "text_color": null
            }
          },
          "dbc38d4814b74d568e5c8d10824bebe6": {
            "model_module": "@jupyter-widgets/base",
            "model_module_version": "2.0.0",
            "model_name": "LayoutModel",
            "state": {
              "_model_module": "@jupyter-widgets/base",
              "_model_module_version": "2.0.0",
              "_model_name": "LayoutModel",
              "_view_count": null,
              "_view_module": "@jupyter-widgets/base",
              "_view_module_version": "2.0.0",
              "_view_name": "LayoutView",
              "align_content": null,
              "align_items": null,
              "align_self": null,
              "border_bottom": null,
              "border_left": null,
              "border_right": null,
              "border_top": null,
              "bottom": null,
              "display": null,
              "flex": null,
              "flex_flow": null,
              "grid_area": null,
              "grid_auto_columns": null,
              "grid_auto_flow": null,
              "grid_auto_rows": null,
              "grid_column": null,
              "grid_gap": null,
              "grid_row": null,
              "grid_template_areas": null,
              "grid_template_columns": null,
              "grid_template_rows": null,
              "height": null,
              "justify_content": null,
              "justify_items": null,
              "left": null,
              "margin": null,
              "max_height": null,
              "max_width": null,
              "min_height": null,
              "min_width": null,
              "object_fit": null,
              "object_position": null,
              "order": null,
              "overflow": null,
              "padding": null,
              "right": null,
              "top": null,
              "visibility": null,
              "width": null
            }
          },
          "ec8c2e247bcf4ca49a72492122cf1321": {
            "model_module": "@jupyter-widgets/controls",
            "model_module_version": "2.0.0",
            "model_name": "FloatProgressModel",
            "state": {
              "_dom_classes": [],
              "_model_module": "@jupyter-widgets/controls",
              "_model_module_version": "2.0.0",
              "_model_name": "FloatProgressModel",
              "_view_count": null,
              "_view_module": "@jupyter-widgets/controls",
              "_view_module_version": "2.0.0",
              "_view_name": "ProgressView",
              "bar_style": "",
              "description": "",
              "description_allow_html": false,
              "layout": "IPY_MODEL_dbc38d4814b74d568e5c8d10824bebe6",
              "max": 2,
              "min": 0,
              "orientation": "horizontal",
              "style": "IPY_MODEL_1571459e3b494b04a79d84a3226cdf1d",
              "tabbable": null,
              "tooltip": null,
              "value": 2
            }
          },
          "f3769a6d244d4fe79c026af3052bab61": {
            "model_module": "@jupyter-widgets/controls",
            "model_module_version": "2.0.0",
            "model_name": "HTMLStyleModel",
            "state": {
              "_model_module": "@jupyter-widgets/controls",
              "_model_module_version": "2.0.0",
              "_model_name": "HTMLStyleModel",
              "_view_count": null,
              "_view_module": "@jupyter-widgets/base",
              "_view_module_version": "2.0.0",
              "_view_name": "StyleView",
              "background": null,
              "description_width": "",
              "font_size": null,
              "text_color": null
            }
          }
        },
        "version_major": 2,
        "version_minor": 0
      }
    }
  }
}