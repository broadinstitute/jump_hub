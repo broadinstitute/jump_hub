{
  "cells": [
    {
      "cell_type": "markdown",
      "metadata": {},
      "source": [
        "# Calculate phenotypic activity\n",
        "\n",
        "A common first analysis for morphological datasets is the activity of\n",
        "the cells’ phenotypes. We will use the\n",
        "[copairs](https://github.com/cytomining/copairs) package, which makes\n",
        "use of [mean average\n",
        "precision](https://www.ncbi.nlm.nih.gov/pmc/articles/PMC11014546/) to\n",
        "obtain a metric of replicability for any set of morphological profiles.\n",
        "In other words, it indicates how similar a given set of compounds are,\n",
        "relative to their negative controls, which is usually cells that have\n",
        "experienced no perturbation."
      ],
      "id": "1d02b7af-d10e-4a2e-9aa7-6a354ed32252"
    },
    {
      "cell_type": "code",
      "execution_count": 1,
      "metadata": {
        "title": "Imports"
      },
      "outputs": [],
      "source": [
        "import polars as pl\n",
        "import polars.selectors as cs\n",
        "import seaborn as sns\n",
        "from broad_babel.query import get_mapper\n",
        "from copairs.map import average_precision"
      ],
      "id": "09af0994"
    },
    {
      "cell_type": "markdown",
      "metadata": {},
      "source": [
        "We will be using the CRISPR dataset specificed in our index csv, but we\n",
        "will select a subset of perturbations and the controls present."
      ],
      "id": "a8d206b3-2e06-4251-befa-1f44cdf90f54"
    },
    {
      "cell_type": "code",
      "execution_count": 2,
      "metadata": {
        "title": "Fetch the CRISPR dataset"
      },
      "outputs": [],
      "source": [
        "INDEX_FILE = \"https://raw.githubusercontent.com/jump-cellpainting/datasets/50cd2ab93749ccbdb0919d3adf9277c14b6343dd/manifests/profile_index.csv\"\n",
        "CRISPR_URL = pl.read_csv(INDEX_FILE).filter(pl.col(\"subset\") == \"crispr\").item(0, \"url\")\n",
        "profiles = pl.scan_parquet(CRISPR_URL)"
      ],
      "id": "155a3647"
    },
    {
      "cell_type": "markdown",
      "metadata": {},
      "source": [
        "Sample perturbations and add known negative control."
      ],
      "id": "cb3d6a01-453e-479e-adec-94230767c037"
    },
    {
      "cell_type": "code",
      "execution_count": 3,
      "metadata": {},
      "outputs": [
        {
          "output_type": "stream",
          "name": "stdout",
          "text": [
            "shape: (5, 263)\n",
            "┌──────────────┬──────────────┬──────────────┬─────────────┬───┬───────────┬───────────┬───────────┐\n",
            "│ Metadata_Sou ┆ Metadata_Pla ┆ Metadata_Wel ┆ Metadata_JC ┆ … ┆ X_257     ┆ X_258     ┆ X_259     │\n",
            "│ rce          ┆ te           ┆ l            ┆ P2022       ┆   ┆ ---       ┆ ---       ┆ ---       │\n",
            "│ ---          ┆ ---          ┆ ---          ┆ ---         ┆   ┆ f32       ┆ f32       ┆ f32       │\n",
            "│ str          ┆ str          ┆ str          ┆ str         ┆   ┆           ┆           ┆           │\n",
            "╞══════════════╪══════════════╪══════════════╪═════════════╪═══╪═══════════╪═══════════╪═══════════╡\n",
            "│ source_13    ┆ CP-CC9-R1-05 ┆ I23          ┆ JCP2022_800 ┆ … ┆ -0.024703 ┆ 0.148245  ┆ 0.069796  │\n",
            "│              ┆              ┆              ┆ 002         ┆   ┆           ┆           ┆           │\n",
            "│ source_13    ┆ CP-CC9-R1-05 ┆ J02          ┆ JCP2022_800 ┆ … ┆ -0.119861 ┆ 0.047197  ┆ -0.146323 │\n",
            "│              ┆              ┆              ┆ 002         ┆   ┆           ┆           ┆           │\n",
            "│ source_13    ┆ CP-CC9-R1-05 ┆ L23          ┆ JCP2022_800 ┆ … ┆ -0.123536 ┆ 0.038496  ┆ 0.156573  │\n",
            "│              ┆              ┆              ┆ 002         ┆   ┆           ┆           ┆           │\n",
            "│ source_13    ┆ CP-CC9-R1-05 ┆ O23          ┆ JCP2022_800 ┆ … ┆ 0.07883   ┆ 0.080706  ┆ -0.003756 │\n",
            "│              ┆              ┆              ┆ 002         ┆   ┆           ┆           ┆           │\n",
            "│ source_13    ┆ CP-CC9-R1-05 ┆ M02          ┆ JCP2022_800 ┆ … ┆ -0.018471 ┆ -0.074819 ┆ 0.057594  │\n",
            "│              ┆              ┆              ┆ 002         ┆   ┆           ┆           ┆           │\n",
            "└──────────────┴──────────────┴──────────────┴─────────────┴───┴───────────┴───────────┴───────────┘"
          ]
        },
        {
          "output_type": "stream",
          "name": "stderr",
          "text": [
            "/tmp/nix-shell.HXnuDX/ipykernel_4139/110865935.py:10: DeprecationWarning: `is_in` with a collection of the same datatype is ambiguous and deprecated.\n",
            "Please use `implode` to return to previous behavior.\n",
            "\n",
            "See https://github.com/pola-rs/polars/issues/22149 for more information.\n",
            "  perts_controls = profiles_subset.filter(pl.col(\"Metadata_Plate\").is_in(unique_plates))"
          ]
        }
      ],
      "source": [
        "jcp_ids = (\n",
        "    profiles.select(pl.col(\"Metadata_JCP2022\")).unique().collect().to_series().sort()\n",
        ")\n",
        "subsample = jcp_ids.sample(10, seed=42)\n",
        "subsample = (*subsample, \"JCP2022_800002\")  # Add the only control in CRISPR data\n",
        "profiles_subset = profiles.filter(pl.col(\"Metadata_JCP2022\").is_in(subsample)).collect()\n",
        "unique_plates = profiles_subset.filter(pl.col(\"Metadata_JCP2022\") != subsample[-1])[\n",
        "    \"Metadata_Plate\"\n",
        "].unique()\n",
        "perts_controls = profiles_subset.filter(pl.col(\"Metadata_Plate\").is_in(unique_plates))\n",
        "with pl.Config() as cfg:\n",
        "    cfg.set_tbl_cols(7)  # Limit the number of columns printed\n",
        "    print(perts_controls.head())"
      ],
      "id": "f5ec9c1c"
    },
    {
      "cell_type": "markdown",
      "metadata": {},
      "source": [
        "Now we create a mapper to label treatments and controls. See the\n",
        "previous tutorial for details on fetching metadata."
      ],
      "id": "fc2fecab-ba1d-40c4-b3ab-0e3734d18ac6"
    },
    {
      "cell_type": "code",
      "execution_count": 4,
      "metadata": {},
      "outputs": [],
      "source": [
        "pert_mapper = get_mapper(\n",
        "    subsample, input_column=\"JCP2022\", output_columns=\"JCP2022,pert_type\"\n",
        ")\n",
        "perts_controls_annotated = perts_controls.with_columns(\n",
        "    pl.col(\"Metadata_JCP2022\").replace(pert_mapper).alias(\"pert_type\")\n",
        ")"
      ],
      "id": "2aea1c9c"
    },
    {
      "cell_type": "markdown",
      "metadata": {},
      "source": [
        "Finally we use the parameters from . See the [copairs\n",
        "wiki](https://github.com/cytomining/copairs/wiki/Defining-parameters)\n",
        "for more details on the parameters that copairs requires."
      ],
      "id": "a8b68dec-fc29-4856-9600-96cc104b363b"
    },
    {
      "cell_type": "code",
      "execution_count": 5,
      "metadata": {},
      "outputs": [
        {
          "output_type": "display_data",
          "metadata": {},
          "data": {
            "application/vnd.jupyter.widget-view+json": {
              "model_id": "4fd11b29ec85465f9d4c3ed188cc7b82",
              "version_major": 2,
              "version_minor": 0
            }
          }
        },
        {
          "output_type": "display_data",
          "metadata": {},
          "data": {
            "application/vnd.jupyter.widget-view+json": {
              "model_id": "f827d910677a44e8adee6acf275fe8d9",
              "version_major": 2,
              "version_minor": 0
            }
          }
        },
        {
          "output_type": "display_data",
          "metadata": {},
          "data": {
            "text/html": [
              "</div>"
            ]
          }
        }
      ],
      "source": [
        "pos_sameby = [\"Metadata_JCP2022\"]  # We want to match perturbations\n",
        "pos_diffby = []\n",
        "neg_sameby = []\n",
        "neg_diffby = [\"pert_type\"]\n",
        "batch_size = 20000\n",
        "\n",
        "metadata_selector = cs.starts_with((\"Metadata\", \"pert_type\"))\n",
        "meta = perts_controls_annotated.select(metadata_selector)\n",
        "features = perts_controls_annotated.select(~metadata_selector)\n",
        "\n",
        "result = average_precision(\n",
        "    meta.to_pandas(),\n",
        "    features.to_numpy(),\n",
        "    pos_sameby,\n",
        "    pos_diffby,\n",
        "    neg_sameby,\n",
        "    neg_diffby,\n",
        "    batch_size,\n",
        ")\n",
        "result = pl.DataFrame(\n",
        "    result\n",
        ")  # We convert back to polars because we prefer how it prints dataframes\n",
        "result.head()"
      ],
      "id": "5d9b6fc0"
    },
    {
      "cell_type": "markdown",
      "metadata": {},
      "source": [
        "The result of copairs is a dataframe containing, in addition to the\n",
        "original metadata, the average precision with which perturbations were\n",
        "retrieved. Perturbations that look more similar to each other than to\n",
        "the negative controls in the plates present in the same plates will be\n",
        "higher. Perturbations that do not differentiate themselves against\n",
        "negative controls will be closer to zero.\n",
        "\n",
        "To wrap up we pull the standard gene symbol and plot the distribution of\n",
        "average precision."
      ],
      "id": "ddc82d96-f7c2-491a-8022-8a4523d6068e"
    },
    {
      "cell_type": "code",
      "execution_count": 6,
      "metadata": {},
      "outputs": [
        {
          "output_type": "display_data",
          "metadata": {},
          "data": {
            "image/png": "[encoded data removed]"
          }
        }
      ],
      "source": [
        "name_mapper = get_mapper(\n",
        "    subsample, input_column=\"JCP2022\", output_columns=\"JCP2022,standard_key\"\n",
        ")\n",
        "\n",
        "to_plot = result.filter(pl.col(\"pert_type\") == \"trt\").with_columns(\n",
        "    pl.col(\"Metadata_JCP2022\").replace(name_mapper).alias(\"Perturbed gene\")\n",
        ")\n",
        "\n",
        "# Plotting\n",
        "sns.stripplot(data=to_plot.to_pandas(), x=\"average_precision\", y=\"Perturbed gene\")"
      ],
      "id": "a3c75fd5"
    },
    {
      "cell_type": "markdown",
      "metadata": {},
      "source": [
        "We can see that only some perturbations can be easily retrieved when\n",
        "compared to negative controls, in this case KIF16B and CDK20. For a\n",
        "deeper dive into how mean Average Precision (mAP) works, you can explore\n",
        "[this](https://github.com/alxndrkalinin/copairs/blob/v0.4.2/examples/demo.ipynb)\n",
        "notebook."
      ],
      "id": "5c1a9008-962f-47d6-9463-7f9d192a9ab6"
    }
  ],
  "nbformat": 4,
  "nbformat_minor": 5,
  "metadata": {
    "jupytext": {
      "executable": "/usr/bin/env jupyter",
      "text_representation": {
        "extension": ".qmd",
        "format_name": "quarto",
        "format_version": "1.0",
        "jupytext_version": "1.17.2"
      }
    },
    "kernelspec": {
      "name": "python3",
      "display_name": "Python 3",
      "language": "python"
    },
    "language_info": {
      "name": "python",
      "codemirror_mode": {
        "name": "ipython",
        "version": "3"
      },
      "file_extension": ".py",
      "mimetype": "text/x-python",
      "nbconvert_exporter": "python",
      "pygments_lexer": "ipython3",
      "version": "3.11.12"
    },
    "widgets": {
      "application/vnd.jupyter.widget-state+json": {
        "state": {
          "02b1a594cd4d4b0b9cd303cc7462e6aa": {
            "model_module": "@jupyter-widgets/controls",
            "model_module_version": "2.0.0",
            "model_name": "HTMLModel",
            "state": {
              "_dom_classes": [],
              "_model_module": "@jupyter-widgets/controls",
              "_model_module_version": "2.0.0",
              "_model_name": "HTMLModel",
              "_view_count": null,
              "_view_module": "@jupyter-widgets/controls",
              "_view_module_version": "2.0.0",
              "_view_name": "HTMLView",
              "description": "",
              "description_allow_html": false,
              "layout": "IPY_MODEL_b304b1acfcee4ba4b5e57dea1900c672",
              "placeholder": "​",
              "style": "IPY_MODEL_e537add2455948a8afee5f0117a783be",
              "tabbable": null,
              "tooltip": null,
              "value": " 0/5 [00:00&lt;?, ?it/s]"
            }
          },
          "0cc2411f12e0415dbc6acc9b323eb6a7": {
            "model_module": "@jupyter-widgets/controls",
            "model_module_version": "2.0.0",
            "model_name": "HTMLModel",
            "state": {
              "_dom_classes": [],
              "_model_module": "@jupyter-widgets/controls",
              "_model_module_version": "2.0.0",
              "_model_name": "HTMLModel",
              "_view_count": null,
              "_view_module": "@jupyter-widgets/controls",
              "_view_module_version": "2.0.0",
              "_view_name": "HTMLView",
              "description": "",
              "description_allow_html": false,
              "layout": "IPY_MODEL_9f6807de4a6c47668990f01595c2b9c4",
              "placeholder": "​",
              "style": "IPY_MODEL_4a6272761e4f45329fd43df2331c35f8",
              "tabbable": null,
              "tooltip": null,
              "value": "  0%"
            }
          },
          "3d6a7a7ec573400090c7a08ca765b0c3": {
            "model_module": "@jupyter-widgets/controls",
            "model_module_version": "2.0.0",
            "model_name": "ProgressStyleModel",
            "state": {
              "_model_module": "@jupyter-widgets/controls",
              "_model_module_version": "2.0.0",
              "_model_name": "ProgressStyleModel",
              "_view_count": null,
              "_view_module": "@jupyter-widgets/base",
              "_view_module_version": "2.0.0",
              "_view_name": "StyleView",
              "bar_color": null,
              "description_width": ""
            }
          },
          "414499ad271b462da3b6d7e82dd1b36d": {
            "model_module": "@jupyter-widgets/base",
            "model_module_version": "2.0.0",
            "model_name": "LayoutModel",
            "state": {
              "_model_module": "@jupyter-widgets/base",
              "_model_module_version": "2.0.0",
              "_model_name": "LayoutModel",
              "_view_count": null,
              "_view_module": "@jupyter-widgets/base",
              "_view_module_version": "2.0.0",
              "_view_name": "LayoutView",
              "align_content": null,
              "align_items": null,
              "align_self": null,
              "border_bottom": null,
              "border_left": null,
              "border_right": null,
              "border_top": null,
              "bottom": null,
              "display": null,
              "flex": null,
              "flex_flow": null,
              "grid_area": null,
              "grid_auto_columns": null,
              "grid_auto_flow": null,
              "grid_auto_rows": null,
              "grid_column": null,
              "grid_gap": null,
              "grid_row": null,
              "grid_template_areas": null,
              "grid_template_columns": null,
              "grid_template_rows": null,
              "height": null,
              "justify_content": null,
              "justify_items": null,
              "left": null,
              "margin": null,
              "max_height": null,
              "max_width": null,
              "min_height": null,
              "min_width": null,
              "object_fit": null,
              "object_position": null,
              "order": null,
              "overflow": null,
              "padding": null,
              "right": null,
              "top": null,
              "visibility": "hidden",
              "width": null
            }
          },
          "4a6272761e4f45329fd43df2331c35f8": {
            "model_module": "@jupyter-widgets/controls",
            "model_module_version": "2.0.0",
            "model_name": "HTMLStyleModel",
            "state": {
              "_model_module": "@jupyter-widgets/controls",
              "_model_module_version": "2.0.0",
              "_model_name": "HTMLStyleModel",
              "_view_count": null,
              "_view_module": "@jupyter-widgets/base",
              "_view_module_version": "2.0.0",
              "_view_name": "StyleView",
              "background": null,
              "description_width": "",
              "font_size": null,
              "text_color": null
            }
          },
          "4fd11b29ec85465f9d4c3ed188cc7b82": {
            "model_module": "@jupyter-widgets/controls",
            "model_module_version": "2.0.0",
            "model_name": "HBoxModel",
            "state": {
              "_dom_classes": [],
              "_model_module": "@jupyter-widgets/controls",
              "_model_module_version": "2.0.0",
              "_model_name": "HBoxModel",
              "_view_count": null,
              "_view_module": "@jupyter-widgets/controls",
              "_view_module_version": "2.0.0",
              "_view_name": "HBoxView",
              "box_style": "",
              "children": [
                "IPY_MODEL_0cc2411f12e0415dbc6acc9b323eb6a7",
                "IPY_MODEL_859171ea4f3845e8af7bf784cf45f609",
                "IPY_MODEL_02b1a594cd4d4b0b9cd303cc7462e6aa"
              ],
              "layout": "IPY_MODEL_414499ad271b462da3b6d7e82dd1b36d",
              "tabbable": null,
              "tooltip": null
            }
          },
          "5780d9b96f074429ba30ec42290d2c67": {
            "model_module": "@jupyter-widgets/controls",
            "model_module_version": "2.0.0",
            "model_name": "FloatProgressModel",
            "state": {
              "_dom_classes": [],
              "_model_module": "@jupyter-widgets/controls",
              "_model_module_version": "2.0.0",
              "_model_name": "FloatProgressModel",
              "_view_count": null,
              "_view_module": "@jupyter-widgets/controls",
              "_view_module_version": "2.0.0",
              "_view_name": "ProgressView",
              "bar_style": "",
              "description": "",
              "description_allow_html": false,
              "layout": "IPY_MODEL_e38ae06c1fc34ad6bb99d57e82ff5757",
              "max": 2,
              "min": 0,
              "orientation": "horizontal",
              "style": "IPY_MODEL_3d6a7a7ec573400090c7a08ca765b0c3",
              "tabbable": null,
              "tooltip": null,
              "value": 2
            }
          },
          "5e8c3e1a1483497196316789acb26958": {
            "model_module": "@jupyter-widgets/base",
            "model_module_version": "2.0.0",
            "model_name": "LayoutModel",
            "state": {
              "_model_module": "@jupyter-widgets/base",
              "_model_module_version": "2.0.0",
              "_model_name": "LayoutModel",
              "_view_count": null,
              "_view_module": "@jupyter-widgets/base",
              "_view_module_version": "2.0.0",
              "_view_name": "LayoutView",
              "align_content": null,
              "align_items": null,
              "align_self": null,
              "border_bottom": null,
              "border_left": null,
              "border_right": null,
              "border_top": null,
              "bottom": null,
              "display": null,
              "flex": null,
              "flex_flow": null,
              "grid_area": null,
              "grid_auto_columns": null,
              "grid_auto_flow": null,
              "grid_auto_rows": null,
              "grid_column": null,
              "grid_gap": null,
              "grid_row": null,
              "grid_template_areas": null,
              "grid_template_columns": null,
              "grid_template_rows": null,
              "height": null,
              "justify_content": null,
              "justify_items": null,
              "left": null,
              "margin": null,
              "max_height": null,
              "max_width": null,
              "min_height": null,
              "min_width": null,
              "object_fit": null,
              "object_position": null,
              "order": null,
              "overflow": null,
              "padding": null,
              "right": null,
              "top": null,
              "visibility": null,
              "width": null
            }
          },
          "6a76f6ada9df4405aff50b19b1c24a19": {
            "model_module": "@jupyter-widgets/controls",
            "model_module_version": "2.0.0",
            "model_name": "ProgressStyleModel",
            "state": {
              "_model_module": "@jupyter-widgets/controls",
              "_model_module_version": "2.0.0",
              "_model_name": "ProgressStyleModel",
              "_view_count": null,
              "_view_module": "@jupyter-widgets/base",
              "_view_module_version": "2.0.0",
              "_view_name": "StyleView",
              "bar_color": null,
              "description_width": ""
            }
          },
          "82194d84dd91429895b7ef0637784f29": {
            "model_module": "@jupyter-widgets/controls",
            "model_module_version": "2.0.0",
            "model_name": "HTMLStyleModel",
            "state": {
              "_model_module": "@jupyter-widgets/controls",
              "_model_module_version": "2.0.0",
              "_model_name": "HTMLStyleModel",
              "_view_count": null,
              "_view_module": "@jupyter-widgets/base",
              "_view_module_version": "2.0.0",
              "_view_name": "StyleView",
              "background": null,
              "description_width": "",
              "font_size": null,
              "text_color": null
            }
          },
          "859171ea4f3845e8af7bf784cf45f609": {
            "model_module": "@jupyter-widgets/controls",
            "model_module_version": "2.0.0",
            "model_name": "FloatProgressModel",
            "state": {
              "_dom_classes": [],
              "_model_module": "@jupyter-widgets/controls",
              "_model_module_version": "2.0.0",
              "_model_name": "FloatProgressModel",
              "_view_count": null,
              "_view_module": "@jupyter-widgets/controls",
              "_view_module_version": "2.0.0",
              "_view_name": "ProgressView",
              "bar_style": "",
              "description": "",
              "description_allow_html": false,
              "layout": "IPY_MODEL_e7e65f40390a45bbaa9ee285239b91b4",
              "max": 5,
              "min": 0,
              "orientation": "horizontal",
              "style": "IPY_MODEL_6a76f6ada9df4405aff50b19b1c24a19",
              "tabbable": null,
              "tooltip": null,
              "value": 5
            }
          },
          "8ba7b0efdac446edbd33b68ce9a4c812": {
            "model_module": "@jupyter-widgets/controls",
            "model_module_version": "2.0.0",
            "model_name": "HTMLModel",
            "state": {
              "_dom_classes": [],
              "_model_module": "@jupyter-widgets/controls",
              "_model_module_version": "2.0.0",
              "_model_name": "HTMLModel",
              "_view_count": null,
              "_view_module": "@jupyter-widgets/controls",
              "_view_module_version": "2.0.0",
              "_view_name": "HTMLView",
              "description": "",
              "description_allow_html": false,
              "layout": "IPY_MODEL_5e8c3e1a1483497196316789acb26958",
              "placeholder": "​",
              "style": "IPY_MODEL_82194d84dd91429895b7ef0637784f29",
              "tabbable": null,
              "tooltip": null,
              "value": "  0%"
            }
          },
          "8fffcef6fd904447bb89fe820851a03f": {
            "model_module": "@jupyter-widgets/base",
            "model_module_version": "2.0.0",
            "model_name": "LayoutModel",
            "state": {
              "_model_module": "@jupyter-widgets/base",
              "_model_module_version": "2.0.0",
              "_model_name": "LayoutModel",
              "_view_count": null,
              "_view_module": "@jupyter-widgets/base",
              "_view_module_version": "2.0.0",
              "_view_name": "LayoutView",
              "align_content": null,
              "align_items": null,
              "align_self": null,
              "border_bottom": null,
              "border_left": null,
              "border_right": null,
              "border_top": null,
              "bottom": null,
              "display": null,
              "flex": null,
              "flex_flow": null,
              "grid_area": null,
              "grid_auto_columns": null,
              "grid_auto_flow": null,
              "grid_auto_rows": null,
              "grid_column": null,
              "grid_gap": null,
              "grid_row": null,
              "grid_template_areas": null,
              "grid_template_columns": null,
              "grid_template_rows": null,
              "height": null,
              "justify_content": null,
              "justify_items": null,
              "left": null,
              "margin": null,
              "max_height": null,
              "max_width": null,
              "min_height": null,
              "min_width": null,
              "object_fit": null,
              "object_position": null,
              "order": null,
              "overflow": null,
              "padding": null,
              "right": null,
              "top": null,
              "visibility": "hidden",
              "width": null
            }
          },
          "9f6807de4a6c47668990f01595c2b9c4": {
            "model_module": "@jupyter-widgets/base",
            "model_module_version": "2.0.0",
            "model_name": "LayoutModel",
            "state": {
              "_model_module": "@jupyter-widgets/base",
              "_model_module_version": "2.0.0",
              "_model_name": "LayoutModel",
              "_view_count": null,
              "_view_module": "@jupyter-widgets/base",
              "_view_module_version": "2.0.0",
              "_view_name": "LayoutView",
              "align_content": null,
              "align_items": null,
              "align_self": null,
              "border_bottom": null,
              "border_left": null,
              "border_right": null,
              "border_top": null,
              "bottom": null,
              "display": null,
              "flex": null,
              "flex_flow": null,
              "grid_area": null,
              "grid_auto_columns": null,
              "grid_auto_flow": null,
              "grid_auto_rows": null,
              "grid_column": null,
              "grid_gap": null,
              "grid_row": null,
              "grid_template_areas": null,
              "grid_template_columns": null,
              "grid_template_rows": null,
              "height": null,
              "justify_content": null,
              "justify_items": null,
              "left": null,
              "margin": null,
              "max_height": null,
              "max_width": null,
              "min_height": null,
              "min_width": null,
              "object_fit": null,
              "object_position": null,
              "order": null,
              "overflow": null,
              "padding": null,
              "right": null,
              "top": null,
              "visibility": null,
              "width": null
            }
          },
          "a03ab612b1aa472a8ef2c1bd504c4f3e": {
            "model_module": "@jupyter-widgets/controls",
            "model_module_version": "2.0.0",
            "model_name": "HTMLModel",
            "state": {
              "_dom_classes": [],
              "_model_module": "@jupyter-widgets/controls",
              "_model_module_version": "2.0.0",
              "_model_name": "HTMLModel",
              "_view_count": null,
              "_view_module": "@jupyter-widgets/controls",
              "_view_module_version": "2.0.0",
              "_view_name": "HTMLView",
              "description": "",
              "description_allow_html": false,
              "layout": "IPY_MODEL_c09e1257246646569aafddc73e5c4cb4",
              "placeholder": "​",
              "style": "IPY_MODEL_beac632ed1494885af74739b2ea778ed",
              "tabbable": null,
              "tooltip": null,
              "value": " 0/2 [00:00&lt;?, ?it/s]"
            }
          },
          "b304b1acfcee4ba4b5e57dea1900c672": {
            "model_module": "@jupyter-widgets/base",
            "model_module_version": "2.0.0",
            "model_name": "LayoutModel",
            "state": {
              "_model_module": "@jupyter-widgets/base",
              "_model_module_version": "2.0.0",
              "_model_name": "LayoutModel",
              "_view_count": null,
              "_view_module": "@jupyter-widgets/base",
              "_view_module_version": "2.0.0",
              "_view_name": "LayoutView",
              "align_content": null,
              "align_items": null,
              "align_self": null,
              "border_bottom": null,
              "border_left": null,
              "border_right": null,
              "border_top": null,
              "bottom": null,
              "display": null,
              "flex": null,
              "flex_flow": null,
              "grid_area": null,
              "grid_auto_columns": null,
              "grid_auto_flow": null,
              "grid_auto_rows": null,
              "grid_column": null,
              "grid_gap": null,
              "grid_row": null,
              "grid_template_areas": null,
              "grid_template_columns": null,
              "grid_template_rows": null,
              "height": null,
              "justify_content": null,
              "justify_items": null,
              "left": null,
              "margin": null,
              "max_height": null,
              "max_width": null,
              "min_height": null,
              "min_width": null,
              "object_fit": null,
              "object_position": null,
              "order": null,
              "overflow": null,
              "padding": null,
              "right": null,
              "top": null,
              "visibility": null,
              "width": null
            }
          },
          "beac632ed1494885af74739b2ea778ed": {
            "model_module": "@jupyter-widgets/controls",
            "model_module_version": "2.0.0",
            "model_name": "HTMLStyleModel",
            "state": {
              "_model_module": "@jupyter-widgets/controls",
              "_model_module_version": "2.0.0",
              "_model_name": "HTMLStyleModel",
              "_view_count": null,
              "_view_module": "@jupyter-widgets/base",
              "_view_module_version": "2.0.0",
              "_view_name": "StyleView",
              "background": null,
              "description_width": "",
              "font_size": null,
              "text_color": null
            }
          },
          "c09e1257246646569aafddc73e5c4cb4": {
            "model_module": "@jupyter-widgets/base",
            "model_module_version": "2.0.0",
            "model_name": "LayoutModel",
            "state": {
              "_model_module": "@jupyter-widgets/base",
              "_model_module_version": "2.0.0",
              "_model_name": "LayoutModel",
              "_view_count": null,
              "_view_module": "@jupyter-widgets/base",
              "_view_module_version": "2.0.0",
              "_view_name": "LayoutView",
              "align_content": null,
              "align_items": null,
              "align_self": null,
              "border_bottom": null,
              "border_left": null,
              "border_right": null,
              "border_top": null,
              "bottom": null,
              "display": null,
              "flex": null,
              "flex_flow": null,
              "grid_area": null,
              "grid_auto_columns": null,
              "grid_auto_flow": null,
              "grid_auto_rows": null,
              "grid_column": null,
              "grid_gap": null,
              "grid_row": null,
              "grid_template_areas": null,
              "grid_template_columns": null,
              "grid_template_rows": null,
              "height": null,
              "justify_content": null,
              "justify_items": null,
              "left": null,
              "margin": null,
              "max_height": null,
              "max_width": null,
              "min_height": null,
              "min_width": null,
              "object_fit": null,
              "object_position": null,
              "order": null,
              "overflow": null,
              "padding": null,
              "right": null,
              "top": null,
              "visibility": null,
              "width": null
            }
          },
          "e38ae06c1fc34ad6bb99d57e82ff5757": {
            "model_module": "@jupyter-widgets/base",
            "model_module_version": "2.0.0",
            "model_name": "LayoutModel",
            "state": {
              "_model_module": "@jupyter-widgets/base",
              "_model_module_version": "2.0.0",
              "_model_name": "LayoutModel",
              "_view_count": null,
              "_view_module": "@jupyter-widgets/base",
              "_view_module_version": "2.0.0",
              "_view_name": "LayoutView",
              "align_content": null,
              "align_items": null,
              "align_self": null,
              "border_bottom": null,
              "border_left": null,
              "border_right": null,
              "border_top": null,
              "bottom": null,
              "display": null,
              "flex": null,
              "flex_flow": null,
              "grid_area": null,
              "grid_auto_columns": null,
              "grid_auto_flow": null,
              "grid_auto_rows": null,
              "grid_column": null,
              "grid_gap": null,
              "grid_row": null,
              "grid_template_areas": null,
              "grid_template_columns": null,
              "grid_template_rows": null,
              "height": null,
              "justify_content": null,
              "justify_items": null,
              "left": null,
              "margin": null,
              "max_height": null,
              "max_width": null,
              "min_height": null,
              "min_width": null,
              "object_fit": null,
              "object_position": null,
              "order": null,
              "overflow": null,
              "padding": null,
              "right": null,
              "top": null,
              "visibility": null,
              "width": null
            }
          },
          "e537add2455948a8afee5f0117a783be": {
            "model_module": "@jupyter-widgets/controls",
            "model_module_version": "2.0.0",
            "model_name": "HTMLStyleModel",
            "state": {
              "_model_module": "@jupyter-widgets/controls",
              "_model_module_version": "2.0.0",
              "_model_name": "HTMLStyleModel",
              "_view_count": null,
              "_view_module": "@jupyter-widgets/base",
              "_view_module_version": "2.0.0",
              "_view_name": "StyleView",
              "background": null,
              "description_width": "",
              "font_size": null,
              "text_color": null
            }
          },
          "e7e65f40390a45bbaa9ee285239b91b4": {
            "model_module": "@jupyter-widgets/base",
            "model_module_version": "2.0.0",
            "model_name": "LayoutModel",
            "state": {
              "_model_module": "@jupyter-widgets/base",
              "_model_module_version": "2.0.0",
              "_model_name": "LayoutModel",
              "_view_count": null,
              "_view_module": "@jupyter-widgets/base",
              "_view_module_version": "2.0.0",
              "_view_name": "LayoutView",
              "align_content": null,
              "align_items": null,
              "align_self": null,
              "border_bottom": null,
              "border_left": null,
              "border_right": null,
              "border_top": null,
              "bottom": null,
              "display": null,
              "flex": null,
              "flex_flow": null,
              "grid_area": null,
              "grid_auto_columns": null,
              "grid_auto_flow": null,
              "grid_auto_rows": null,
              "grid_column": null,
              "grid_gap": null,
              "grid_row": null,
              "grid_template_areas": null,
              "grid_template_columns": null,
              "grid_template_rows": null,
              "height": null,
              "justify_content": null,
              "justify_items": null,
              "left": null,
              "margin": null,
              "max_height": null,
              "max_width": null,
              "min_height": null,
              "min_width": null,
              "object_fit": null,
              "object_position": null,
              "order": null,
              "overflow": null,
              "padding": null,
              "right": null,
              "top": null,
              "visibility": null,
              "width": null
            }
          },
          "f827d910677a44e8adee6acf275fe8d9": {
            "model_module": "@jupyter-widgets/controls",
            "model_module_version": "2.0.0",
            "model_name": "HBoxModel",
            "state": {
              "_dom_classes": [],
              "_model_module": "@jupyter-widgets/controls",
              "_model_module_version": "2.0.0",
              "_model_name": "HBoxModel",
              "_view_count": null,
              "_view_module": "@jupyter-widgets/controls",
              "_view_module_version": "2.0.0",
              "_view_name": "HBoxView",
              "box_style": "",
              "children": [
                "IPY_MODEL_8ba7b0efdac446edbd33b68ce9a4c812",
                "IPY_MODEL_5780d9b96f074429ba30ec42290d2c67",
                "IPY_MODEL_a03ab612b1aa472a8ef2c1bd504c4f3e"
              ],
              "layout": "IPY_MODEL_8fffcef6fd904447bb89fe820851a03f",
              "tabbable": null,
              "tooltip": null
            }
          }
        },
        "version_major": 2,
        "version_minor": 0
      }
    }
  }
}