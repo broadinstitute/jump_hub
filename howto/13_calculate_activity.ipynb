{
  "cells": [
    {
      "cell_type": "markdown",
      "metadata": {},
      "source": [
        "# Calculate phenotypic activity\n",
        "\n",
        "A common first analysis for morphological datasets is the activity of\n",
        "the cells’ phenotypes. We will use the\n",
        "[copairs](https://github.com/cytomining/copairs) package, which makes\n",
        "use of [mean average\n",
        "precision](https://www.ncbi.nlm.nih.gov/pmc/articles/PMC11014546/) to\n",
        "obtain a metric of replicability for any set of morphological profiles.\n",
        "In other words, it indicates how similar a given set of compounds are,\n",
        "relative to their negative controls, which is usually cells that have\n",
        "experienced no perturbation."
      ],
      "id": "57f81f3c-3fda-41b1-81ec-7452a80e2c3d"
    },
    {
      "cell_type": "code",
      "execution_count": 1,
      "metadata": {
        "title": "Imports"
      },
      "outputs": [],
      "source": [
        "import polars as pl\n",
        "import polars.selectors as cs\n",
        "import seaborn as sns\n",
        "from broad_babel.query import get_mapper\n",
        "from copairs.map import average_precision"
      ],
      "id": "9693bf66"
    },
    {
      "cell_type": "markdown",
      "metadata": {},
      "source": [
        "We will be using the CRISPR dataset specificed in our index csv, but we\n",
        "will select a subset of perturbations and the controls present."
      ],
      "id": "d0e4a11b-4a18-40a2-8c94-0daf7998caf0"
    },
    {
      "cell_type": "code",
      "execution_count": 2,
      "metadata": {
        "title": "Fetch the CRISPR dataset"
      },
      "outputs": [],
      "source": [
        "INDEX_FILE = \"https://raw.githubusercontent.com/jump-cellpainting/datasets/50cd2ab93749ccbdb0919d3adf9277c14b6343dd/manifests/profile_index.csv\"\n",
        "CRISPR_URL = pl.read_csv(INDEX_FILE).filter(pl.col(\"subset\") == \"crispr\").item(0, \"url\")\n",
        "profiles = pl.scan_parquet(CRISPR_URL)"
      ],
      "id": "d3cfec8b"
    },
    {
      "cell_type": "markdown",
      "metadata": {},
      "source": [
        "Sample perturbations and add known negative control."
      ],
      "id": "e68f802a-b429-4a63-b528-bf20628490e5"
    },
    {
      "cell_type": "code",
      "execution_count": 3,
      "metadata": {},
      "outputs": [
        {
          "output_type": "stream",
          "name": "stdout",
          "text": [
            "shape: (5, 263)\n",
            "┌──────────────┬──────────────┬──────────────┬─────────────┬───┬───────────┬───────────┬───────────┐\n",
            "│ Metadata_Sou ┆ Metadata_Pla ┆ Metadata_Wel ┆ Metadata_JC ┆ … ┆ X_257     ┆ X_258     ┆ X_259     │\n",
            "│ rce          ┆ te           ┆ l            ┆ P2022       ┆   ┆ ---       ┆ ---       ┆ ---       │\n",
            "│ ---          ┆ ---          ┆ ---          ┆ ---         ┆   ┆ f32       ┆ f32       ┆ f32       │\n",
            "│ str          ┆ str          ┆ str          ┆ str         ┆   ┆           ┆           ┆           │\n",
            "╞══════════════╪══════════════╪══════════════╪═════════════╪═══╪═══════════╪═══════════╪═══════════╡\n",
            "│ source_13    ┆ CP-CC9-R1-05 ┆ I23          ┆ JCP2022_800 ┆ … ┆ -0.024703 ┆ 0.148245  ┆ 0.069796  │\n",
            "│              ┆              ┆              ┆ 002         ┆   ┆           ┆           ┆           │\n",
            "│ source_13    ┆ CP-CC9-R1-05 ┆ J02          ┆ JCP2022_800 ┆ … ┆ -0.119861 ┆ 0.047197  ┆ -0.146323 │\n",
            "│              ┆              ┆              ┆ 002         ┆   ┆           ┆           ┆           │\n",
            "│ source_13    ┆ CP-CC9-R1-05 ┆ L23          ┆ JCP2022_800 ┆ … ┆ -0.123536 ┆ 0.038496  ┆ 0.156573  │\n",
            "│              ┆              ┆              ┆ 002         ┆   ┆           ┆           ┆           │\n",
            "│ source_13    ┆ CP-CC9-R1-05 ┆ O23          ┆ JCP2022_800 ┆ … ┆ 0.07883   ┆ 0.080706  ┆ -0.003756 │\n",
            "│              ┆              ┆              ┆ 002         ┆   ┆           ┆           ┆           │\n",
            "│ source_13    ┆ CP-CC9-R1-05 ┆ M02          ┆ JCP2022_800 ┆ … ┆ -0.018471 ┆ -0.074819 ┆ 0.057594  │\n",
            "│              ┆              ┆              ┆ 002         ┆   ┆           ┆           ┆           │\n",
            "└──────────────┴──────────────┴──────────────┴─────────────┴───┴───────────┴───────────┴───────────┘"
          ]
        },
        {
          "output_type": "stream",
          "name": "stderr",
          "text": [
            "/tmp/nix-shell.WuW8Fg/ipykernel_4959/110865935.py:10: DeprecationWarning: `is_in` with a collection of the same datatype is ambiguous and deprecated.\n",
            "Please use `implode` to return to previous behavior.\n",
            "\n",
            "See https://github.com/pola-rs/polars/issues/22149 for more information.\n",
            "  perts_controls = profiles_subset.filter(pl.col(\"Metadata_Plate\").is_in(unique_plates))"
          ]
        }
      ],
      "source": [
        "jcp_ids = (\n",
        "    profiles.select(pl.col(\"Metadata_JCP2022\")).unique().collect().to_series().sort()\n",
        ")\n",
        "subsample = jcp_ids.sample(10, seed=42)\n",
        "subsample = (*subsample, \"JCP2022_800002\")  # Add the only control in CRISPR data\n",
        "profiles_subset = profiles.filter(pl.col(\"Metadata_JCP2022\").is_in(subsample)).collect()\n",
        "unique_plates = profiles_subset.filter(pl.col(\"Metadata_JCP2022\") != subsample[-1])[\n",
        "    \"Metadata_Plate\"\n",
        "].unique()\n",
        "perts_controls = profiles_subset.filter(pl.col(\"Metadata_Plate\").is_in(unique_plates))\n",
        "with pl.Config() as cfg:\n",
        "    cfg.set_tbl_cols(7)  # Limit the number of columns printed\n",
        "    print(perts_controls.head())"
      ],
      "id": "0b609358"
    },
    {
      "cell_type": "markdown",
      "metadata": {},
      "source": [
        "Now we create a mapper to label treatments and controls. See the\n",
        "previous tutorial for details on fetching metadata."
      ],
      "id": "2d64d617-bf96-42cb-8e4f-38455fc957df"
    },
    {
      "cell_type": "code",
      "execution_count": 4,
      "metadata": {},
      "outputs": [],
      "source": [
        "pert_mapper = get_mapper(\n",
        "    subsample, input_column=\"JCP2022\", output_columns=\"JCP2022,pert_type\"\n",
        ")\n",
        "perts_controls_annotated = perts_controls.with_columns(\n",
        "    pl.col(\"Metadata_JCP2022\").replace(pert_mapper).alias(\"pert_type\")\n",
        ")"
      ],
      "id": "dec6cf14"
    },
    {
      "cell_type": "markdown",
      "metadata": {},
      "source": [
        "Finally we use the parameters from . See the [copairs\n",
        "wiki](https://github.com/cytomining/copairs/wiki/Defining-parameters)\n",
        "for more details on the parameters that copairs requires."
      ],
      "id": "b3de5dcc-ade3-4732-b315-f84652745339"
    },
    {
      "cell_type": "code",
      "execution_count": 5,
      "metadata": {},
      "outputs": [
        {
          "output_type": "display_data",
          "metadata": {},
          "data": {
            "application/vnd.jupyter.widget-view+json": {
              "model_id": "d027b5bd0dbd490a90298504d6fc1392",
              "version_major": 2,
              "version_minor": 0
            }
          }
        },
        {
          "output_type": "display_data",
          "metadata": {},
          "data": {
            "application/vnd.jupyter.widget-view+json": {
              "model_id": "13805f2f96354e9990d69e7340410ee4",
              "version_major": 2,
              "version_minor": 0
            }
          }
        },
        {
          "output_type": "display_data",
          "metadata": {},
          "data": {
            "text/html": [
              "</div>"
            ]
          }
        }
      ],
      "source": [
        "pos_sameby = [\"Metadata_JCP2022\"]  # We want to match perturbations\n",
        "pos_diffby = []\n",
        "neg_sameby = []\n",
        "neg_diffby = [\"pert_type\"]\n",
        "batch_size = 20000\n",
        "\n",
        "metadata_selector = cs.starts_with((\"Metadata\", \"pert_type\"))\n",
        "meta = perts_controls_annotated.select(metadata_selector)\n",
        "features = perts_controls_annotated.select(~metadata_selector)\n",
        "\n",
        "result = average_precision(\n",
        "    meta.to_pandas(),\n",
        "    features.to_numpy(),\n",
        "    pos_sameby,\n",
        "    pos_diffby,\n",
        "    neg_sameby,\n",
        "    neg_diffby,\n",
        "    batch_size,\n",
        ")\n",
        "result = pl.DataFrame(\n",
        "    result\n",
        ")  # We convert back to polars because we prefer how it prints dataframes\n",
        "result.head()"
      ],
      "id": "2d718f28"
    },
    {
      "cell_type": "markdown",
      "metadata": {},
      "source": [
        "The result of copairs is a dataframe containing, in addition to the\n",
        "original metadata, the average precision with which perturbations were\n",
        "retrieved. Perturbations that look more similar to each other than to\n",
        "the negative controls in the plates present in the same plates will be\n",
        "higher. Perturbations that do not differentiate themselves against\n",
        "negative controls will be closer to zero.\n",
        "\n",
        "To wrap up we pull the standard gene symbol and plot the distribution of\n",
        "average precision."
      ],
      "id": "b98df336-3790-4ac0-8848-ebec317a23e8"
    },
    {
      "cell_type": "code",
      "execution_count": 6,
      "metadata": {},
      "outputs": [
        {
          "output_type": "display_data",
          "metadata": {},
          "data": {
            "image/png": "[encoded data removed]"
          }
        }
      ],
      "source": [
        "name_mapper = get_mapper(\n",
        "    subsample, input_column=\"JCP2022\", output_columns=\"JCP2022,standard_key\"\n",
        ")\n",
        "\n",
        "to_plot = result.filter(pl.col(\"pert_type\") == \"trt\").with_columns(\n",
        "    pl.col(\"Metadata_JCP2022\").replace(name_mapper).alias(\"Perturbed gene\")\n",
        ")\n",
        "\n",
        "# Plotting\n",
        "sns.stripplot(data=to_plot.to_pandas(), x=\"average_precision\", y=\"Perturbed gene\")"
      ],
      "id": "36ad1822"
    },
    {
      "cell_type": "markdown",
      "metadata": {},
      "source": [
        "We can see that only some perturbations can be easily retrieved when\n",
        "compared to negative controls, in this case KIF16B and CDK20. For a\n",
        "deeper dive into how mean Average Precision (mAP) works, you can explore\n",
        "[this](https://github.com/alxndrkalinin/copairs/blob/v0.4.2/examples/demo.ipynb)\n",
        "notebook."
      ],
      "id": "08093e78-c771-4f33-92d4-37d34477b21e"
    }
  ],
  "nbformat": 4,
  "nbformat_minor": 5,
  "metadata": {
    "jupytext": {
      "executable": "/usr/bin/env jupyter",
      "text_representation": {
        "extension": ".qmd",
        "format_name": "quarto",
        "format_version": "1.0",
        "jupytext_version": "1.17.2"
      }
    },
    "kernelspec": {
      "name": "python3",
      "display_name": "Python 3",
      "language": "python"
    },
    "language_info": {
      "name": "python",
      "codemirror_mode": {
        "name": "ipython",
        "version": "3"
      },
      "file_extension": ".py",
      "mimetype": "text/x-python",
      "nbconvert_exporter": "python",
      "pygments_lexer": "ipython3",
      "version": "3.11.12"
    },
    "widgets": {
      "application/vnd.jupyter.widget-state+json": {
        "state": {
          "07d699bd7814458a894173ebfb6877fe": {
            "model_module": "@jupyter-widgets/base",
            "model_module_version": "2.0.0",
            "model_name": "LayoutModel",
            "state": {
              "_model_module": "@jupyter-widgets/base",
              "_model_module_version": "2.0.0",
              "_model_name": "LayoutModel",
              "_view_count": null,
              "_view_module": "@jupyter-widgets/base",
              "_view_module_version": "2.0.0",
              "_view_name": "LayoutView",
              "align_content": null,
              "align_items": null,
              "align_self": null,
              "border_bottom": null,
              "border_left": null,
              "border_right": null,
              "border_top": null,
              "bottom": null,
              "display": null,
              "flex": null,
              "flex_flow": null,
              "grid_area": null,
              "grid_auto_columns": null,
              "grid_auto_flow": null,
              "grid_auto_rows": null,
              "grid_column": null,
              "grid_gap": null,
              "grid_row": null,
              "grid_template_areas": null,
              "grid_template_columns": null,
              "grid_template_rows": null,
              "height": null,
              "justify_content": null,
              "justify_items": null,
              "left": null,
              "margin": null,
              "max_height": null,
              "max_width": null,
              "min_height": null,
              "min_width": null,
              "object_fit": null,
              "object_position": null,
              "order": null,
              "overflow": null,
              "padding": null,
              "right": null,
              "top": null,
              "visibility": "hidden",
              "width": null
            }
          },
          "13805f2f96354e9990d69e7340410ee4": {
            "model_module": "@jupyter-widgets/controls",
            "model_module_version": "2.0.0",
            "model_name": "HBoxModel",
            "state": {
              "_dom_classes": [],
              "_model_module": "@jupyter-widgets/controls",
              "_model_module_version": "2.0.0",
              "_model_name": "HBoxModel",
              "_view_count": null,
              "_view_module": "@jupyter-widgets/controls",
              "_view_module_version": "2.0.0",
              "_view_name": "HBoxView",
              "box_style": "",
              "children": [
                "IPY_MODEL_35724ca2eeb549c9a8ca1ee9be424832",
                "IPY_MODEL_cb93f84c40dd493585aa242cb4558e88",
                "IPY_MODEL_290a268f5ae74d46acbc691d2ae78415"
              ],
              "layout": "IPY_MODEL_2a7f54bed1424ee98494a478d5d3efb6",
              "tabbable": null,
              "tooltip": null
            }
          },
          "1bc24ffc602e4668b55fe4a3270e5a92": {
            "model_module": "@jupyter-widgets/controls",
            "model_module_version": "2.0.0",
            "model_name": "HTMLModel",
            "state": {
              "_dom_classes": [],
              "_model_module": "@jupyter-widgets/controls",
              "_model_module_version": "2.0.0",
              "_model_name": "HTMLModel",
              "_view_count": null,
              "_view_module": "@jupyter-widgets/controls",
              "_view_module_version": "2.0.0",
              "_view_name": "HTMLView",
              "description": "",
              "description_allow_html": false,
              "layout": "IPY_MODEL_e9daf2e88d2a473d96e468d278ed8a36",
              "placeholder": "​",
              "style": "IPY_MODEL_53b181d0ba754d5f9028b87157e30614",
              "tabbable": null,
              "tooltip": null,
              "value": " 0/5 [00:00&lt;?, ?it/s]"
            }
          },
          "290a268f5ae74d46acbc691d2ae78415": {
            "model_module": "@jupyter-widgets/controls",
            "model_module_version": "2.0.0",
            "model_name": "HTMLModel",
            "state": {
              "_dom_classes": [],
              "_model_module": "@jupyter-widgets/controls",
              "_model_module_version": "2.0.0",
              "_model_name": "HTMLModel",
              "_view_count": null,
              "_view_module": "@jupyter-widgets/controls",
              "_view_module_version": "2.0.0",
              "_view_name": "HTMLView",
              "description": "",
              "description_allow_html": false,
              "layout": "IPY_MODEL_d28c8275c6b24f998fe685d546c19fbd",
              "placeholder": "​",
              "style": "IPY_MODEL_d4e32d7e9a5844b99dfb116d35b9457b",
              "tabbable": null,
              "tooltip": null,
              "value": " 0/2 [00:00&lt;?, ?it/s]"
            }
          },
          "2a7f54bed1424ee98494a478d5d3efb6": {
            "model_module": "@jupyter-widgets/base",
            "model_module_version": "2.0.0",
            "model_name": "LayoutModel",
            "state": {
              "_model_module": "@jupyter-widgets/base",
              "_model_module_version": "2.0.0",
              "_model_name": "LayoutModel",
              "_view_count": null,
              "_view_module": "@jupyter-widgets/base",
              "_view_module_version": "2.0.0",
              "_view_name": "LayoutView",
              "align_content": null,
              "align_items": null,
              "align_self": null,
              "border_bottom": null,
              "border_left": null,
              "border_right": null,
              "border_top": null,
              "bottom": null,
              "display": null,
              "flex": null,
              "flex_flow": null,
              "grid_area": null,
              "grid_auto_columns": null,
              "grid_auto_flow": null,
              "grid_auto_rows": null,
              "grid_column": null,
              "grid_gap": null,
              "grid_row": null,
              "grid_template_areas": null,
              "grid_template_columns": null,
              "grid_template_rows": null,
              "height": null,
              "justify_content": null,
              "justify_items": null,
              "left": null,
              "margin": null,
              "max_height": null,
              "max_width": null,
              "min_height": null,
              "min_width": null,
              "object_fit": null,
              "object_position": null,
              "order": null,
              "overflow": null,
              "padding": null,
              "right": null,
              "top": null,
              "visibility": "hidden",
              "width": null
            }
          },
          "2a8c350c88f241349a2738450970394d": {
            "model_module": "@jupyter-widgets/base",
            "model_module_version": "2.0.0",
            "model_name": "LayoutModel",
            "state": {
              "_model_module": "@jupyter-widgets/base",
              "_model_module_version": "2.0.0",
              "_model_name": "LayoutModel",
              "_view_count": null,
              "_view_module": "@jupyter-widgets/base",
              "_view_module_version": "2.0.0",
              "_view_name": "LayoutView",
              "align_content": null,
              "align_items": null,
              "align_self": null,
              "border_bottom": null,
              "border_left": null,
              "border_right": null,
              "border_top": null,
              "bottom": null,
              "display": null,
              "flex": null,
              "flex_flow": null,
              "grid_area": null,
              "grid_auto_columns": null,
              "grid_auto_flow": null,
              "grid_auto_rows": null,
              "grid_column": null,
              "grid_gap": null,
              "grid_row": null,
              "grid_template_areas": null,
              "grid_template_columns": null,
              "grid_template_rows": null,
              "height": null,
              "justify_content": null,
              "justify_items": null,
              "left": null,
              "margin": null,
              "max_height": null,
              "max_width": null,
              "min_height": null,
              "min_width": null,
              "object_fit": null,
              "object_position": null,
              "order": null,
              "overflow": null,
              "padding": null,
              "right": null,
              "top": null,
              "visibility": null,
              "width": null
            }
          },
          "33f872e753d94dacabf4619f123ebf6d": {
            "model_module": "@jupyter-widgets/controls",
            "model_module_version": "2.0.0",
            "model_name": "FloatProgressModel",
            "state": {
              "_dom_classes": [],
              "_model_module": "@jupyter-widgets/controls",
              "_model_module_version": "2.0.0",
              "_model_name": "FloatProgressModel",
              "_view_count": null,
              "_view_module": "@jupyter-widgets/controls",
              "_view_module_version": "2.0.0",
              "_view_name": "ProgressView",
              "bar_style": "",
              "description": "",
              "description_allow_html": false,
              "layout": "IPY_MODEL_2a8c350c88f241349a2738450970394d",
              "max": 5,
              "min": 0,
              "orientation": "horizontal",
              "style": "IPY_MODEL_ab717bbd39ba404f940d98e8ab202af4",
              "tabbable": null,
              "tooltip": null,
              "value": 5
            }
          },
          "35724ca2eeb549c9a8ca1ee9be424832": {
            "model_module": "@jupyter-widgets/controls",
            "model_module_version": "2.0.0",
            "model_name": "HTMLModel",
            "state": {
              "_dom_classes": [],
              "_model_module": "@jupyter-widgets/controls",
              "_model_module_version": "2.0.0",
              "_model_name": "HTMLModel",
              "_view_count": null,
              "_view_module": "@jupyter-widgets/controls",
              "_view_module_version": "2.0.0",
              "_view_name": "HTMLView",
              "description": "",
              "description_allow_html": false,
              "layout": "IPY_MODEL_a78b4c6aa5dd497aadd920232edb456d",
              "placeholder": "​",
              "style": "IPY_MODEL_509b44dd11b445de8efb5b6b574997ac",
              "tabbable": null,
              "tooltip": null,
              "value": "  0%"
            }
          },
          "3bc6fe7cbdfd404ca92806adc999a5e8": {
            "model_module": "@jupyter-widgets/base",
            "model_module_version": "2.0.0",
            "model_name": "LayoutModel",
            "state": {
              "_model_module": "@jupyter-widgets/base",
              "_model_module_version": "2.0.0",
              "_model_name": "LayoutModel",
              "_view_count": null,
              "_view_module": "@jupyter-widgets/base",
              "_view_module_version": "2.0.0",
              "_view_name": "LayoutView",
              "align_content": null,
              "align_items": null,
              "align_self": null,
              "border_bottom": null,
              "border_left": null,
              "border_right": null,
              "border_top": null,
              "bottom": null,
              "display": null,
              "flex": null,
              "flex_flow": null,
              "grid_area": null,
              "grid_auto_columns": null,
              "grid_auto_flow": null,
              "grid_auto_rows": null,
              "grid_column": null,
              "grid_gap": null,
              "grid_row": null,
              "grid_template_areas": null,
              "grid_template_columns": null,
              "grid_template_rows": null,
              "height": null,
              "justify_content": null,
              "justify_items": null,
              "left": null,
              "margin": null,
              "max_height": null,
              "max_width": null,
              "min_height": null,
              "min_width": null,
              "object_fit": null,
              "object_position": null,
              "order": null,
              "overflow": null,
              "padding": null,
              "right": null,
              "top": null,
              "visibility": null,
              "width": null
            }
          },
          "509b44dd11b445de8efb5b6b574997ac": {
            "model_module": "@jupyter-widgets/controls",
            "model_module_version": "2.0.0",
            "model_name": "HTMLStyleModel",
            "state": {
              "_model_module": "@jupyter-widgets/controls",
              "_model_module_version": "2.0.0",
              "_model_name": "HTMLStyleModel",
              "_view_count": null,
              "_view_module": "@jupyter-widgets/base",
              "_view_module_version": "2.0.0",
              "_view_name": "StyleView",
              "background": null,
              "description_width": "",
              "font_size": null,
              "text_color": null
            }
          },
          "53b181d0ba754d5f9028b87157e30614": {
            "model_module": "@jupyter-widgets/controls",
            "model_module_version": "2.0.0",
            "model_name": "HTMLStyleModel",
            "state": {
              "_model_module": "@jupyter-widgets/controls",
              "_model_module_version": "2.0.0",
              "_model_name": "HTMLStyleModel",
              "_view_count": null,
              "_view_module": "@jupyter-widgets/base",
              "_view_module_version": "2.0.0",
              "_view_name": "StyleView",
              "background": null,
              "description_width": "",
              "font_size": null,
              "text_color": null
            }
          },
          "a213dfd73de146f28a4cd61ad1320ffb": {
            "model_module": "@jupyter-widgets/controls",
            "model_module_version": "2.0.0",
            "model_name": "HTMLModel",
            "state": {
              "_dom_classes": [],
              "_model_module": "@jupyter-widgets/controls",
              "_model_module_version": "2.0.0",
              "_model_name": "HTMLModel",
              "_view_count": null,
              "_view_module": "@jupyter-widgets/controls",
              "_view_module_version": "2.0.0",
              "_view_name": "HTMLView",
              "description": "",
              "description_allow_html": false,
              "layout": "IPY_MODEL_fd8e0ddef06547b68528415476baf999",
              "placeholder": "​",
              "style": "IPY_MODEL_fb2a2bafc17443038a40740f6fd42b13",
              "tabbable": null,
              "tooltip": null,
              "value": "  0%"
            }
          },
          "a78b4c6aa5dd497aadd920232edb456d": {
            "model_module": "@jupyter-widgets/base",
            "model_module_version": "2.0.0",
            "model_name": "LayoutModel",
            "state": {
              "_model_module": "@jupyter-widgets/base",
              "_model_module_version": "2.0.0",
              "_model_name": "LayoutModel",
              "_view_count": null,
              "_view_module": "@jupyter-widgets/base",
              "_view_module_version": "2.0.0",
              "_view_name": "LayoutView",
              "align_content": null,
              "align_items": null,
              "align_self": null,
              "border_bottom": null,
              "border_left": null,
              "border_right": null,
              "border_top": null,
              "bottom": null,
              "display": null,
              "flex": null,
              "flex_flow": null,
              "grid_area": null,
              "grid_auto_columns": null,
              "grid_auto_flow": null,
              "grid_auto_rows": null,
              "grid_column": null,
              "grid_gap": null,
              "grid_row": null,
              "grid_template_areas": null,
              "grid_template_columns": null,
              "grid_template_rows": null,
              "height": null,
              "justify_content": null,
              "justify_items": null,
              "left": null,
              "margin": null,
              "max_height": null,
              "max_width": null,
              "min_height": null,
              "min_width": null,
              "object_fit": null,
              "object_position": null,
              "order": null,
              "overflow": null,
              "padding": null,
              "right": null,
              "top": null,
              "visibility": null,
              "width": null
            }
          },
          "ab717bbd39ba404f940d98e8ab202af4": {
            "model_module": "@jupyter-widgets/controls",
            "model_module_version": "2.0.0",
            "model_name": "ProgressStyleModel",
            "state": {
              "_model_module": "@jupyter-widgets/controls",
              "_model_module_version": "2.0.0",
              "_model_name": "ProgressStyleModel",
              "_view_count": null,
              "_view_module": "@jupyter-widgets/base",
              "_view_module_version": "2.0.0",
              "_view_name": "StyleView",
              "bar_color": null,
              "description_width": ""
            }
          },
          "cb93f84c40dd493585aa242cb4558e88": {
            "model_module": "@jupyter-widgets/controls",
            "model_module_version": "2.0.0",
            "model_name": "FloatProgressModel",
            "state": {
              "_dom_classes": [],
              "_model_module": "@jupyter-widgets/controls",
              "_model_module_version": "2.0.0",
              "_model_name": "FloatProgressModel",
              "_view_count": null,
              "_view_module": "@jupyter-widgets/controls",
              "_view_module_version": "2.0.0",
              "_view_name": "ProgressView",
              "bar_style": "",
              "description": "",
              "description_allow_html": false,
              "layout": "IPY_MODEL_3bc6fe7cbdfd404ca92806adc999a5e8",
              "max": 2,
              "min": 0,
              "orientation": "horizontal",
              "style": "IPY_MODEL_ccb96f886c5c4872b8b2bcc1d50f8a6e",
              "tabbable": null,
              "tooltip": null,
              "value": 2
            }
          },
          "ccb96f886c5c4872b8b2bcc1d50f8a6e": {
            "model_module": "@jupyter-widgets/controls",
            "model_module_version": "2.0.0",
            "model_name": "ProgressStyleModel",
            "state": {
              "_model_module": "@jupyter-widgets/controls",
              "_model_module_version": "2.0.0",
              "_model_name": "ProgressStyleModel",
              "_view_count": null,
              "_view_module": "@jupyter-widgets/base",
              "_view_module_version": "2.0.0",
              "_view_name": "StyleView",
              "bar_color": null,
              "description_width": ""
            }
          },
          "d027b5bd0dbd490a90298504d6fc1392": {
            "model_module": "@jupyter-widgets/controls",
            "model_module_version": "2.0.0",
            "model_name": "HBoxModel",
            "state": {
              "_dom_classes": [],
              "_model_module": "@jupyter-widgets/controls",
              "_model_module_version": "2.0.0",
              "_model_name": "HBoxModel",
              "_view_count": null,
              "_view_module": "@jupyter-widgets/controls",
              "_view_module_version": "2.0.0",
              "_view_name": "HBoxView",
              "box_style": "",
              "children": [
                "IPY_MODEL_a213dfd73de146f28a4cd61ad1320ffb",
                "IPY_MODEL_33f872e753d94dacabf4619f123ebf6d",
                "IPY_MODEL_1bc24ffc602e4668b55fe4a3270e5a92"
              ],
              "layout": "IPY_MODEL_07d699bd7814458a894173ebfb6877fe",
              "tabbable": null,
              "tooltip": null
            }
          },
          "d28c8275c6b24f998fe685d546c19fbd": {
            "model_module": "@jupyter-widgets/base",
            "model_module_version": "2.0.0",
            "model_name": "LayoutModel",
            "state": {
              "_model_module": "@jupyter-widgets/base",
              "_model_module_version": "2.0.0",
              "_model_name": "LayoutModel",
              "_view_count": null,
              "_view_module": "@jupyter-widgets/base",
              "_view_module_version": "2.0.0",
              "_view_name": "LayoutView",
              "align_content": null,
              "align_items": null,
              "align_self": null,
              "border_bottom": null,
              "border_left": null,
              "border_right": null,
              "border_top": null,
              "bottom": null,
              "display": null,
              "flex": null,
              "flex_flow": null,
              "grid_area": null,
              "grid_auto_columns": null,
              "grid_auto_flow": null,
              "grid_auto_rows": null,
              "grid_column": null,
              "grid_gap": null,
              "grid_row": null,
              "grid_template_areas": null,
              "grid_template_columns": null,
              "grid_template_rows": null,
              "height": null,
              "justify_content": null,
              "justify_items": null,
              "left": null,
              "margin": null,
              "max_height": null,
              "max_width": null,
              "min_height": null,
              "min_width": null,
              "object_fit": null,
              "object_position": null,
              "order": null,
              "overflow": null,
              "padding": null,
              "right": null,
              "top": null,
              "visibility": null,
              "width": null
            }
          },
          "d4e32d7e9a5844b99dfb116d35b9457b": {
            "model_module": "@jupyter-widgets/controls",
            "model_module_version": "2.0.0",
            "model_name": "HTMLStyleModel",
            "state": {
              "_model_module": "@jupyter-widgets/controls",
              "_model_module_version": "2.0.0",
              "_model_name": "HTMLStyleModel",
              "_view_count": null,
              "_view_module": "@jupyter-widgets/base",
              "_view_module_version": "2.0.0",
              "_view_name": "StyleView",
              "background": null,
              "description_width": "",
              "font_size": null,
              "text_color": null
            }
          },
          "e9daf2e88d2a473d96e468d278ed8a36": {
            "model_module": "@jupyter-widgets/base",
            "model_module_version": "2.0.0",
            "model_name": "LayoutModel",
            "state": {
              "_model_module": "@jupyter-widgets/base",
              "_model_module_version": "2.0.0",
              "_model_name": "LayoutModel",
              "_view_count": null,
              "_view_module": "@jupyter-widgets/base",
              "_view_module_version": "2.0.0",
              "_view_name": "LayoutView",
              "align_content": null,
              "align_items": null,
              "align_self": null,
              "border_bottom": null,
              "border_left": null,
              "border_right": null,
              "border_top": null,
              "bottom": null,
              "display": null,
              "flex": null,
              "flex_flow": null,
              "grid_area": null,
              "grid_auto_columns": null,
              "grid_auto_flow": null,
              "grid_auto_rows": null,
              "grid_column": null,
              "grid_gap": null,
              "grid_row": null,
              "grid_template_areas": null,
              "grid_template_columns": null,
              "grid_template_rows": null,
              "height": null,
              "justify_content": null,
              "justify_items": null,
              "left": null,
              "margin": null,
              "max_height": null,
              "max_width": null,
              "min_height": null,
              "min_width": null,
              "object_fit": null,
              "object_position": null,
              "order": null,
              "overflow": null,
              "padding": null,
              "right": null,
              "top": null,
              "visibility": null,
              "width": null
            }
          },
          "fb2a2bafc17443038a40740f6fd42b13": {
            "model_module": "@jupyter-widgets/controls",
            "model_module_version": "2.0.0",
            "model_name": "HTMLStyleModel",
            "state": {
              "_model_module": "@jupyter-widgets/controls",
              "_model_module_version": "2.0.0",
              "_model_name": "HTMLStyleModel",
              "_view_count": null,
              "_view_module": "@jupyter-widgets/base",
              "_view_module_version": "2.0.0",
              "_view_name": "StyleView",
              "background": null,
              "description_width": "",
              "font_size": null,
              "text_color": null
            }
          },
          "fd8e0ddef06547b68528415476baf999": {
            "model_module": "@jupyter-widgets/base",
            "model_module_version": "2.0.0",
            "model_name": "LayoutModel",
            "state": {
              "_model_module": "@jupyter-widgets/base",
              "_model_module_version": "2.0.0",
              "_model_name": "LayoutModel",
              "_view_count": null,
              "_view_module": "@jupyter-widgets/base",
              "_view_module_version": "2.0.0",
              "_view_name": "LayoutView",
              "align_content": null,
              "align_items": null,
              "align_self": null,
              "border_bottom": null,
              "border_left": null,
              "border_right": null,
              "border_top": null,
              "bottom": null,
              "display": null,
              "flex": null,
              "flex_flow": null,
              "grid_area": null,
              "grid_auto_columns": null,
              "grid_auto_flow": null,
              "grid_auto_rows": null,
              "grid_column": null,
              "grid_gap": null,
              "grid_row": null,
              "grid_template_areas": null,
              "grid_template_columns": null,
              "grid_template_rows": null,
              "height": null,
              "justify_content": null,
              "justify_items": null,
              "left": null,
              "margin": null,
              "max_height": null,
              "max_width": null,
              "min_height": null,
              "min_width": null,
              "object_fit": null,
              "object_position": null,
              "order": null,
              "overflow": null,
              "padding": null,
              "right": null,
              "top": null,
              "visibility": null,
              "width": null
            }
          }
        },
        "version_major": 2,
        "version_minor": 0
      }
    }
  }
}