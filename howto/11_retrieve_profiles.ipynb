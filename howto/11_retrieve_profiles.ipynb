{
  "cells": [
    {
      "cell_type": "markdown",
      "metadata": {},
      "source": [
        "# Retrieve JUMP profiles\n",
        "\n",
        "This is a tutorial on how to access profiles from the [JUMP Cell\n",
        "Painting datasets](https://github.com/jump-cellpainting/datasets). We\n",
        "will use polars to fetch the data frames lazily, with the help of `s3fs`\n",
        "and `pyarrow`. We prefer lazy loading because the data can be too big to\n",
        "be handled in memory."
      ],
      "id": "fa0d2f51-2d70-45f9-b496-19d5a6bad737"
    },
    {
      "cell_type": "code",
      "execution_count": 1,
      "metadata": {
        "title": "Imports"
      },
      "outputs": [],
      "source": [
        "import polars as pl"
      ],
      "id": "10438cdd"
    },
    {
      "cell_type": "markdown",
      "metadata": {},
      "source": [
        "The JUMP Cell Painting project provides several processed datasets for\n",
        "morphological profiling:\n",
        "\n",
        "-   **`crispr`**: CRISPR knockout genetic perturbations\n",
        "-   **`orf`**: Open Reading Frame (ORF) overexpression perturbations\n",
        "-   **`compound`**: Chemical compound perturbations\n",
        "-   **`all`**: Combined dataset containing all perturbation types\n",
        "\n",
        "Each dataset is available in two versions:\n",
        "\n",
        "-   **Standard**: Fully processed including batch correction\n",
        "-   **Interpretable**: Same processing but without batch correction\n",
        "    steps (which involve transformations that lose the original feature\n",
        "    space)\n",
        "\n",
        "All datasets are stored as Parquet files on AWS S3 and can be accessed\n",
        "directly via their URLs. Snakemake workflows for producing these\n",
        "assembled profiles are available\n",
        "[here](https://github.com/broadinstitute/jump-profiling-recipe/). The\n",
        "specific commit used to produce the profiles can be found in the folder\n",
        "path of each parquet file. For example,\n",
        "`jump-profiling-recipe_2024_a917fa7` indicates commit `a917fa7` was\n",
        "used. The index file below contains the exact locations and metadata for\n",
        "each dataset:"
      ],
      "id": "5c40a283-9bee-444d-9145-751ebe39aa10"
    },
    {
      "cell_type": "code",
      "execution_count": 2,
      "metadata": {
        "title": "Paths"
      },
      "outputs": [],
      "source": [
        "INDEX_FILE = \"https://raw.githubusercontent.com/jump-cellpainting/datasets/v0.9.0/manifests/profile_index.csv\""
      ],
      "id": "56004c21"
    },
    {
      "cell_type": "markdown",
      "metadata": {},
      "source": [
        "We use the version-controlled CSV above to release the latest corrected\n",
        "profiles"
      ],
      "id": "dd05aded-c2ac-4c67-a15e-702cbb242a09"
    },
    {
      "cell_type": "code",
      "execution_count": 3,
      "metadata": {},
      "outputs": [
        {
          "output_type": "display_data",
          "metadata": {},
          "data": {
            "text/html": [
              "</div>"
            ]
          }
        }
      ],
      "source": [
        "profile_index = pl.read_csv(INDEX_FILE)\n",
        "profile_index.head()"
      ],
      "id": "83362951"
    },
    {
      "cell_type": "markdown",
      "metadata": {},
      "source": [
        "We do not need the ‘etag’ (used to check file integrity) column nor the\n",
        "‘interpretable’ (i.e., before major modifications)"
      ],
      "id": "38248d82-84a8-495e-88d4-869a161d9e17"
    },
    {
      "cell_type": "code",
      "execution_count": 4,
      "metadata": {},
      "outputs": [
        {
          "output_type": "stream",
          "name": "stdout",
          "text": [
            "{'orf': 'https://cellpainting-gallery.s3.amazonaws.com/cpg0016-jump-assembled/source_all/workspace/profiles/jump-profiling-recipe_2024_a917fa7/ORF/profiles_wellpos_cc_var_mad_outlier_featselect_sphering_harmony/profiles_wellpos_cc_var_mad_outlier_featselect_sphering_harmony.parquet', 'crispr': 'https://cellpainting-gallery.s3.amazonaws.com/cpg0016-jump-assembled/source_all/workspace/profiles/jump-profiling-recipe_2024_a917fa7/CRISPR/profiles_wellpos_cc_var_mad_outlier_featselect_sphering_harmony_PCA_corrected/profiles_wellpos_cc_var_mad_outlier_featselect_sphering_harmony_PCA_corrected.parquet', 'compound': 'https://cellpainting-gallery.s3.amazonaws.com/cpg0016-jump-assembled/source_all/workspace/profiles/jump-profiling-recipe_2024_a917fa7/COMPOUND/profiles_var_mad_int_featselect_harmony/profiles_var_mad_int_featselect_harmony.parquet'}"
          ]
        }
      ],
      "source": [
        "selected_profiles = profile_index.filter(\n",
        "    pl.col(\"subset\").is_in((\"crispr\", \"orf\", \"compound\"))\n",
        ").select(pl.exclude(\"etag\"))\n",
        "filepaths = dict(selected_profiles.iter_rows())\n",
        "print(filepaths)"
      ],
      "id": "3b345e7f"
    },
    {
      "cell_type": "markdown",
      "metadata": {},
      "source": [
        "We will lazy-load the dataframes and print the number of rows and\n",
        "columns"
      ],
      "id": "49526843-c5bb-4d06-bb11-24e20fe1e597"
    },
    {
      "cell_type": "code",
      "execution_count": 5,
      "metadata": {},
      "outputs": [
        {
          "output_type": "display_data",
          "metadata": {},
          "data": {
            "text/html": [
              "</div>"
            ]
          }
        }
      ],
      "source": [
        "info = {k: [] for k in (\"dataset\", \"#rows\", \"#cols\", \"#Metadata cols\", \"Size (MB)\")}\n",
        "for name, path in filepaths.items():\n",
        "    data = pl.scan_parquet(path)\n",
        "    n_rows = data.select(pl.len()).collect().item()\n",
        "    schema = data.collect_schema()\n",
        "    metadata_cols = [col for col in schema.keys() if col.startswith(\"Metadata\")]\n",
        "    n_cols = schema.len()\n",
        "    n_meta_cols = len(metadata_cols)\n",
        "    estimated_size = int(round(4.03 * n_rows * n_cols / 1e6, 0))  # B -> MB\n",
        "    for k, v in zip(info.keys(), (name, n_rows, n_cols, n_meta_cols, estimated_size)):\n",
        "        info[k].append(v)\n",
        "\n",
        "pl.DataFrame(info)"
      ],
      "id": "48f0669d"
    },
    {
      "cell_type": "markdown",
      "metadata": {},
      "source": [
        "Let us now focus on the `crispr` dataset and use a regex to select the\n",
        "metadata columns. We will then sample rows and display the overview.\n",
        "Note that the collect() method enforces loading some data into memory."
      ],
      "id": "2da91fbf-d2f9-403d-a52b-0fecde7dfb5b"
    },
    {
      "cell_type": "code",
      "execution_count": 6,
      "metadata": {},
      "outputs": [
        {
          "output_type": "display_data",
          "metadata": {},
          "data": {
            "text/html": [
              "</div>"
            ]
          }
        }
      ],
      "source": [
        "data = pl.scan_parquet(filepaths[\"crispr\"])\n",
        "data.select(pl.col(\"^Metadata.*$\").sample(n=5, seed=1)).collect()"
      ],
      "id": "4e52c6db"
    },
    {
      "cell_type": "markdown",
      "metadata": {},
      "source": [
        "The following line excludes the metadata columns:"
      ],
      "id": "ee8ffa7d-5122-4110-af1a-ce959d58e84c"
    },
    {
      "cell_type": "code",
      "execution_count": 7,
      "metadata": {},
      "outputs": [
        {
          "output_type": "display_data",
          "metadata": {},
          "data": {
            "text/html": [
              "</div>"
            ]
          }
        }
      ],
      "source": [
        "data_only = data.select(pl.all().exclude(\"^Metadata.*$\").sample(n=5, seed=1)).collect()\n",
        "data_only"
      ],
      "id": "524ffb36"
    },
    {
      "cell_type": "markdown",
      "metadata": {},
      "source": [
        "Finally, we can convert this to `pandas` if we want to perform analyses\n",
        "with that tool. Keep in mind that this loads the entire dataframe into\n",
        "memory."
      ],
      "id": "dabb9f9e-c745-4c0a-bbd9-a16bec50544f"
    },
    {
      "cell_type": "code",
      "execution_count": 8,
      "metadata": {},
      "outputs": [
        {
          "output_type": "display_data",
          "metadata": {},
          "data": {
            "text/html": [
              "\n",
              "<p>5 rows × 259 columns</p>\n",
              "</div>"
            ]
          }
        }
      ],
      "source": [
        "data_only.to_pandas()"
      ],
      "id": "601a8235"
    }
  ],
  "nbformat": 4,
  "nbformat_minor": 5,
  "metadata": {
    "jupytext": {
      "executable": "/usr/bin/env jupyter",
      "text_representation": {
        "extension": ".qmd",
        "format_name": "quarto",
        "format_version": "1.0",
        "jupytext_version": "1.17.2"
      }
    },
    "kernelspec": {
      "name": "python3",
      "display_name": "Python 3",
      "language": "python"
    },
    "language_info": {
      "name": "python",
      "codemirror_mode": {
        "name": "ipython",
        "version": "3"
      },
      "file_extension": ".py",
      "mimetype": "text/x-python",
      "nbconvert_exporter": "python",
      "pygments_lexer": "ipython3",
      "version": "3.11.12"
    }
  }
}