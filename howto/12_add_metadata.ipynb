{
  "cells": [
    {
      "cell_type": "markdown",
      "metadata": {},
      "source": [
        "# Incorporate metadata into profiles\n",
        "\n",
        "A very common task when processing morphological profiles is knowing\n",
        "which ones are treatments and which ones are controls. Here we will\n",
        "explore how we can use broad-babel to accomplish this task."
      ],
      "id": "0b442d41-2c14-480b-be57-f892b02a3d65"
    },
    {
      "cell_type": "code",
      "execution_count": 1,
      "metadata": {
        "title": "Imports"
      },
      "outputs": [],
      "source": [
        "import polars as pl\n",
        "from broad_babel.query import get_mapper"
      ],
      "id": "7536246f"
    },
    {
      "cell_type": "markdown",
      "metadata": {},
      "source": [
        "We will be using the CRISPR dataset specificed in our index csv."
      ],
      "id": "5f68fced-9194-48fc-a475-62285a638adb"
    },
    {
      "cell_type": "code",
      "execution_count": 2,
      "metadata": {
        "title": "Fetch the CRISPR dataset"
      },
      "outputs": [
        {
          "output_type": "stream",
          "name": "stdout",
          "text": [
            "['Metadata_Source', 'Metadata_Plate', 'Metadata_Well', 'Metadata_JCP2022', 'X_1', 'X_2']"
          ]
        }
      ],
      "source": [
        "INDEX_FILE = \"https://raw.githubusercontent.com/jump-cellpainting/datasets/50cd2ab93749ccbdb0919d3adf9277c14b6343dd/manifests/profile_index.csv\"\n",
        "CRISPR_URL = pl.read_csv(INDEX_FILE).filter(pl.col(\"subset\") == \"crispr\").item(0, \"url\")\n",
        "profiles = pl.scan_parquet(CRISPR_URL)\n",
        "print(profiles.collect_schema().names()[:6])"
      ],
      "id": "01fe9ca4"
    },
    {
      "cell_type": "markdown",
      "metadata": {},
      "source": [
        "For simplicity the contents of our processed profiles are minimal: “The\n",
        "profile origin” (source, plate and well) and the unique JUMP identifier\n",
        "for that perturbation. We will use broad-babel to further expand on this\n",
        "metadata, but for simplicity’s sake let us sample subset of data."
      ],
      "id": "aad0951a-96de-42a5-a11d-13ec250475d3"
    },
    {
      "cell_type": "code",
      "execution_count": 3,
      "metadata": {
        "title": "Subset data"
      },
      "outputs": [
        {
          "output_type": "display_data",
          "metadata": {},
          "data": {
            "text/plain": [
              "('JCP2022_801270',\n",
              " 'JCP2022_802425',\n",
              " 'JCP2022_802356',\n",
              " 'JCP2022_805808',\n",
              " 'JCP2022_804300',\n",
              " 'JCP2022_801205',\n",
              " 'JCP2022_802539',\n",
              " 'JCP2022_803663',\n",
              " 'JCP2022_800116',\n",
              " 'JCP2022_801847',\n",
              " 'JCP2022_800002')"
            ]
          }
        }
      ],
      "source": [
        "jcp_ids = (\n",
        "    profiles.select(pl.col(\"Metadata_JCP2022\")).unique().collect().to_series().sort()\n",
        ")\n",
        "subsample = jcp_ids.sample(10, seed=42)\n",
        "# Add a well-known control\n",
        "subsample = (*subsample, \"JCP2022_800002\")\n",
        "subsample"
      ],
      "id": "f8c54a3b"
    },
    {
      "cell_type": "markdown",
      "metadata": {},
      "source": [
        "We will use these JUMP ids to obtain a mapper that indicates the\n",
        "perturbation type (trt, negcon or, rarely, poscon)"
      ],
      "id": "8cc35925-97d5-4c6a-b19b-42ebaaa3b836"
    },
    {
      "cell_type": "code",
      "execution_count": 4,
      "metadata": {
        "title": "Pull mapper"
      },
      "outputs": [
        {
          "output_type": "display_data",
          "metadata": {},
          "data": {
            "text/plain": [
              "{'JCP2022_800116': 'trt',\n",
              " 'JCP2022_801847': 'trt',\n",
              " 'JCP2022_801205': 'trt',\n",
              " 'JCP2022_801270': 'trt',\n",
              " 'JCP2022_803663': 'trt',\n",
              " 'JCP2022_804300': 'trt',\n",
              " 'JCP2022_802356': 'trt',\n",
              " 'JCP2022_805808': 'trt',\n",
              " 'JCP2022_800002': 'negcon',\n",
              " 'JCP2022_802539': 'trt',\n",
              " 'JCP2022_802425': 'trt'}"
            ]
          }
        }
      ],
      "source": [
        "pert_mapper = get_mapper(\n",
        "    subsample, input_column=\"JCP2022\", output_columns=\"JCP2022,pert_type\"\n",
        ")\n",
        "pert_mapper"
      ],
      "id": "2fb29400"
    },
    {
      "cell_type": "markdown",
      "metadata": {},
      "source": [
        "A couple of important notes about broad_babel’s get mapper and other\n",
        "functions: - these must be fed tuples, as these are cached and provide\n",
        "significant speed-ups for repeated calls - ‘get-mapper’ works for\n",
        "datasets for up to a few tens of thousands of samples. If you try to use\n",
        "it to get a mapper for the entirety of the ‘compounds’ dataset it is\n",
        "likely to fail. For these cases we suggest the more general function\n",
        "‘run_query’. You can read more on this and other use-cases on Babel’s\n",
        "[readme](https://github.com/broadinstitute/monorepo/tree/main/libs/jump_babel).\n",
        "\n",
        "We will now repeat the process to get their ‘standard’ name"
      ],
      "id": "5e02cfbd-3227-4f51-bb69-8c8914dc0ff3"
    },
    {
      "cell_type": "code",
      "execution_count": 5,
      "metadata": {
        "title": "Fetch standard name"
      },
      "outputs": [
        {
          "output_type": "display_data",
          "metadata": {},
          "data": {
            "text/plain": [
              "{'JCP2022_800002': 'non-targeting',\n",
              " 'JCP2022_802539': 'G6PC',\n",
              " 'JCP2022_804300': 'MSX1',\n",
              " 'JCP2022_800116': 'ACOT11',\n",
              " 'JCP2022_805808': 'RAD51B',\n",
              " 'JCP2022_802356': 'FDX1',\n",
              " 'JCP2022_801847': 'DMRT2',\n",
              " 'JCP2022_801205': 'CDK20',\n",
              " 'JCP2022_802425': 'FLNC',\n",
              " 'JCP2022_803663': 'KIF16B',\n",
              " 'JCP2022_801270': 'CFB'}"
            ]
          }
        }
      ],
      "source": [
        "name_mapper = get_mapper(\n",
        "    (*subsample, \"JCP2022_800002\"),\n",
        "    input_column=\"JCP2022\",\n",
        "    output_columns=\"JCP2022,standard_key\",\n",
        ")\n",
        "name_mapper"
      ],
      "id": "24fa4996"
    },
    {
      "cell_type": "markdown",
      "metadata": {},
      "source": [
        "To wrap up, we will fetch all the available profiles for these\n",
        "perturbations and use the mappers to add the missing metadata. We also\n",
        "select a few features to showcase how how selection can be performed in\n",
        "polars."
      ],
      "id": "cd373b89-8e5c-4ea2-a6f5-9274aac2d20e"
    },
    {
      "cell_type": "code",
      "execution_count": 6,
      "metadata": {
        "title": "Filter profiles and merge metadata"
      },
      "outputs": [
        {
          "output_type": "display_data",
          "metadata": {},
          "data": {
            "text/html": [
              "</div>"
            ]
          }
        }
      ],
      "source": [
        "subsample_profiles = profiles.filter(\n",
        "    pl.col(\"Metadata_JCP2022\").is_in(subsample)\n",
        ").collect()\n",
        "profiles_with_meta = subsample_profiles.with_columns(\n",
        "    pl.col(\"Metadata_JCP2022\").replace(pert_mapper).alias(\"pert_type\"),\n",
        "    pl.col(\"Metadata_JCP2022\").replace(name_mapper).alias(\"name\"),\n",
        ")\n",
        "profiles_with_meta.select(\n",
        "    pl.col((\"name\", \"pert_type\", \"^Metadata.*$\", \"^X_[0-3]$\"))\n",
        ").sort(by=\"pert_type\")"
      ],
      "id": "984fe74f"
    }
  ],
  "nbformat": 4,
  "nbformat_minor": 5,
  "metadata": {
    "jupytext": {
      "executable": "/usr/bin/env jupyter",
      "text_representation": {
        "extension": ".qmd",
        "format_name": "quarto",
        "format_version": "1.0",
        "jupytext_version": "1.17.2"
      }
    },
    "kernelspec": {
      "name": "python3",
      "display_name": "Python 3",
      "language": "python"
    },
    "language_info": {
      "name": "python",
      "codemirror_mode": {
        "name": "ipython",
        "version": "3"
      },
      "file_extension": ".py",
      "mimetype": "text/x-python",
      "nbconvert_exporter": "python",
      "pygments_lexer": "ipython3",
      "version": "3.11.12"
    }
  }
}