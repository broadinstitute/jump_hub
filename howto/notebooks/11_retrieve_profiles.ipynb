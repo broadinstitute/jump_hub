{
  "cells": [
    {
      "cell_type": "markdown",
      "metadata": {},
      "source": [
        "# Retrieve JUMP profiles"
      ],
      "id": "8fe08715-df30-4818-badb-caa5de4255e6"
    },
    {
      "cell_type": "code",
      "execution_count": 1,
      "metadata": {
        "title": "Imports"
      },
      "outputs": [],
      "source": [
        "import polars as pl\n",
        "import requests"
      ],
      "id": "97a2f7c2"
    },
    {
      "cell_type": "markdown",
      "metadata": {},
      "source": [
        "The JUMP Cell Painting project provides several processed datasets for\n",
        "morphological profiling. Choose the dataset that matches your\n",
        "perturbation type:\n",
        "\n",
        "-   **`crispr`**: CRISPR knockout genetic perturbations\n",
        "-   **`orf`**: Open Reading Frame (ORF) overexpression perturbations\n",
        "-   **`compound`**: Chemical compound perturbations\n",
        "-   **`all`**: Combined dataset containing all perturbation types (use\n",
        "    for cross-modality comparisons)\n",
        "\n",
        "Each dataset is available in two processing versions:\n",
        "\n",
        "-   **Standard** (e.g., `crispr`, `compound`, `orf`): Fully processed\n",
        "    including batch correction steps. **Recommended for most analyses**\n",
        "    as they provide better cross-dataset comparability.\n",
        "\n",
        "-   **Interpretable** (e.g., `crispr_interpretable`,\n",
        "    `compound_interpretable`, `orf_interpretable`): Same initial\n",
        "    processing but without batch correction transformations that modify\n",
        "    the original feature space. Use these when you need to interpret\n",
        "    individual morphological features.\n",
        "\n",
        "All datasets are stored as Parquet files on AWS S3 and can be accessed\n",
        "directly via their URLs.\n",
        "\n",
        "The index file below contains the **recommended profiles** for each\n",
        "subset. Each profile includes: - Direct links to the processing recipe\n",
        "and configuration used - ETags for data integrity verification\n",
        "\n",
        "For details on creating your own profile manifests, see the [manifest\n",
        "guide](https://github.com/broadinstitute/jump_hub/blob/main/howto/2_create_project_manifest.md)."
      ],
      "id": "4ed69156-4ffd-4289-9786-73612426eb3d"
    },
    {
      "cell_type": "code",
      "execution_count": 2,
      "metadata": {
        "title": "Paths"
      },
      "outputs": [],
      "source": [
        "INDEX_FILE = \"https://raw.githubusercontent.com/jump-cellpainting/datasets/main/manifests/profile_index.json\""
      ],
      "id": "f338d27e"
    },
    {
      "cell_type": "markdown",
      "metadata": {},
      "source": [
        "We use the version-controlled manifest above to release the latest\n",
        "corrected profiles"
      ],
      "id": "4206b8cc-8f52-4262-a299-a9c06e351e97"
    },
    {
      "cell_type": "code",
      "execution_count": 3,
      "metadata": {},
      "outputs": [
        {
          "output_type": "stream",
          "name": "stdout",
          "text": [
            "- orf: https://cellpainting-gallery.s3.amazonaws.com/cpg0016-jump-assembled/source_all/workspace/profiles/jump-profiling-recipe_2024_a917fa7/ORF/profiles_wellpos_cc_var_mad_outlier_featselect_sphering_harmony/profiles_wellpos_cc_var_mad_outlier_featselect_sphering_harmony.parquet\n",
            "- crispr: https://cellpainting-gallery.s3.amazonaws.com/cpg0016-jump-assembled/source_all/workspace/profiles/jump-profiling-recipe_2024_a917fa7/CRISPR/profiles_wellpos_cc_var_mad_outlier_featselect_sphering_harmony_PCA_corrected/profiles_wellpos_cc_var_mad_outlier_featselect_sphering_harmony_PCA_corrected.parquet\n",
            "- compound: https://cellpainting-gallery.s3.amazonaws.com/cpg0016-jump-assembled/source_all/workspace/profiles/jump-profiling-recipe_2024_a917fa7/COMPOUND/profiles_var_mad_int_featselect_harmony/profiles_var_mad_int_featselect_harmony.parquet\n",
            "- orf_interpretable: https://cellpainting-gallery.s3.amazonaws.com/cpg0016-jump-assembled/source_all/workspace/profiles/jump-profiling-recipe_2024_a917fa7/ORF/profiles_wellpos_cc_var_mad_outlier_featselect_sphering_harmony/profiles_wellpos_cc_var_mad_outlier.parquet\n",
            "- crispr_interpretable: https://cellpainting-gallery.s3.amazonaws.com/cpg0016-jump-assembled/source_all/workspace/profiles/jump-profiling-recipe_2024_a917fa7/CRISPR/profiles_wellpos_cc_var_mad_outlier_featselect_sphering_harmony_PCA_corrected/profiles_wellpos_cc_var_mad_outlier.parquet\n",
            "- compound_interpretable: https://cellpainting-gallery.s3.amazonaws.com/cpg0016-jump-assembled/source_all/workspace/profiles/jump-profiling-recipe_2024_a917fa7/COMPOUND/profiles_var_mad_int_featselect_harmony/profiles_var_mad_int.parquet\n",
            "- all: https://cellpainting-gallery.s3.amazonaws.com/cpg0016-jump-assembled/source_all/workspace/profiles/jump-profiling-recipe_2024_0224e0f/ALL/profiles_wellpos_cc_var_mad_outlier_featselect_sphering_harmony/profiles_wellpos_cc_var_mad_outlier_featselect_sphering_harmony.parquet\n",
            "- all_interpretable: https://cellpainting-gallery.s3.amazonaws.com/cpg0016-jump-assembled/source_all/workspace/profiles/jump-profiling-recipe_2024_0224e0f/ALL/profiles_wellpos_cc_var_mad_outlier_featselect_sphering_harmony/profiles_wellpos_cc_var_mad_outlier_featselect.parquet"
          ]
        }
      ],
      "source": [
        "# Load the JSON manifest\n",
        "response = requests.get(INDEX_FILE)\n",
        "profile_index = response.json()\n",
        "\n",
        "# Display the manifest data\n",
        "for dataset in profile_index:\n",
        "    print(f\"- {dataset['subset']}: {dataset['url']}\")"
      ],
      "id": "8ebd9de9"
    },
    {
      "cell_type": "markdown",
      "metadata": {},
      "source": [
        "Each profile in the manifest includes direct links to: -\n",
        "**recipe_permalink**: The exact version of the processing code used -\n",
        "**config_permalink**: The specific configuration file that defines the\n",
        "processing steps\n",
        "\n",
        "Let’s display the key information from the manifest:"
      ],
      "id": "59457879-a9f8-4167-89f8-107cfcdfd043"
    },
    {
      "cell_type": "code",
      "execution_count": 4,
      "metadata": {},
      "outputs": [
        {
          "output_type": "display_data",
          "metadata": {},
          "data": {
            "text/html": [
              "</div>"
            ]
          }
        }
      ],
      "source": [
        "# Convert JSON to DataFrame for better display\n",
        "profile_df = pl.DataFrame(profile_index)\n",
        "\n",
        "# Show key information in a clean table\n",
        "display_df = profile_df.select(\n",
        "    [\n",
        "        \"subset\",\n",
        "        pl.col(\"url\").str.extract(r\"([^/]+)\\.parquet$\").alias(\"filename\"),\n",
        "        pl.col(\"recipe_permalink\")\n",
        "        .str.extract(r\"tree/([^/]+)$\")\n",
        "        .str.slice(0, 7)\n",
        "        .alias(\"recipe_version\"),\n",
        "        pl.col(\"config_permalink\").str.extract(r\"([^/]+)\\.json$\").alias(\"config\"),\n",
        "    ]\n",
        ")\n",
        "display_df"
      ],
      "id": "90e1ab02"
    },
    {
      "cell_type": "markdown",
      "metadata": {},
      "source": [
        "Let inspect the standard profiles."
      ],
      "id": "e2446d5d-fdf8-4ea0-9897-9361d058de16"
    },
    {
      "cell_type": "code",
      "execution_count": 5,
      "metadata": {},
      "outputs": [
        {
          "output_type": "stream",
          "name": "stdout",
          "text": [
            "Selected profiles:\n",
            "  orf: profiles_wellpos_cc_var_mad_outlier_featselect_sphering_harmony.parquet\n",
            "  crispr: profiles_wellpos_cc_var_mad_outlier_featselect_sphering_harmony_PCA_corrected.parquet\n",
            "  compound: profiles_var_mad_int_featselect_harmony.parquet"
          ]
        }
      ],
      "source": [
        "# Create dictionary of subset -> url for the standard profiles only\n",
        "filepaths = {\n",
        "    dataset[\"subset\"]: dataset[\"url\"]\n",
        "    for dataset in profile_index\n",
        "    if dataset[\"subset\"] in (\"crispr\", \"orf\", \"compound\")\n",
        "}\n",
        "print(\"Selected profiles:\")\n",
        "for subset, url in filepaths.items():\n",
        "    print(f\"  {subset}: {url.split('/')[-1]}\")"
      ],
      "id": "9ce32c80"
    },
    {
      "cell_type": "markdown",
      "metadata": {},
      "source": [
        "We will lazy-load the dataframes and print the number of rows and\n",
        "columns"
      ],
      "id": "95926fa2-51f4-41c8-898d-c25ac0d1954e"
    },
    {
      "cell_type": "code",
      "execution_count": 6,
      "metadata": {},
      "outputs": [
        {
          "output_type": "display_data",
          "metadata": {},
          "data": {
            "text/html": [
              "</div>"
            ]
          }
        }
      ],
      "source": [
        "info = {k: [] for k in (\"dataset\", \"#rows\", \"#cols\", \"#Metadata cols\", \"Size (MB)\")}\n",
        "for name, path in filepaths.items():\n",
        "    data = pl.scan_parquet(path)\n",
        "    n_rows = data.select(pl.len()).collect().item()\n",
        "    schema = data.collect_schema()\n",
        "    metadata_cols = [col for col in schema.keys() if col.startswith(\"Metadata\")]\n",
        "    n_cols = schema.len()\n",
        "    n_meta_cols = len(metadata_cols)\n",
        "    estimated_size = int(round(4.03 * n_rows * n_cols / 1e6, 0))  # B -> MB\n",
        "    for k, v in zip(info.keys(), (name, n_rows, n_cols, n_meta_cols, estimated_size)):\n",
        "        info[k].append(v)\n",
        "\n",
        "pl.DataFrame(info)"
      ],
      "id": "d6bb3f54"
    },
    {
      "cell_type": "markdown",
      "metadata": {},
      "source": [
        "Let us now focus on the `crispr` dataset and use a regex to select the\n",
        "metadata columns. We will then sample rows and display the overview.\n",
        "Note that the collect() method enforces loading some data into memory."
      ],
      "id": "25a65856-5a4d-4d7c-94c7-87c61d1026b8"
    },
    {
      "cell_type": "code",
      "execution_count": 7,
      "metadata": {},
      "outputs": [
        {
          "output_type": "display_data",
          "metadata": {},
          "data": {
            "text/html": [
              "</div>"
            ]
          }
        }
      ],
      "source": [
        "data = pl.scan_parquet(filepaths[\"crispr\"])\n",
        "data.select(pl.col(\"^Metadata.*$\").sample(n=5, seed=1)).collect()"
      ],
      "id": "8324e599"
    },
    {
      "cell_type": "markdown",
      "metadata": {},
      "source": [
        "The following line excludes the metadata columns:"
      ],
      "id": "8a651733-931a-4194-a87a-bc0347a97c63"
    },
    {
      "cell_type": "code",
      "execution_count": 8,
      "metadata": {},
      "outputs": [
        {
          "output_type": "display_data",
          "metadata": {},
          "data": {
            "text/html": [
              "</div>"
            ]
          }
        }
      ],
      "source": [
        "data_only = data.select(pl.all().exclude(\"^Metadata.*$\").sample(n=5, seed=1)).collect()\n",
        "data_only"
      ],
      "id": "ec3f73e1"
    },
    {
      "cell_type": "markdown",
      "metadata": {},
      "source": [
        "Finally, we can convert this to `pandas` if we want to perform analyses\n",
        "with that tool. Keep in mind that this loads the entire dataframe into\n",
        "memory."
      ],
      "id": "b16413aa-01a8-4293-bc88-6644b9c36ee9"
    },
    {
      "cell_type": "code",
      "execution_count": 9,
      "metadata": {},
      "outputs": [
        {
          "output_type": "display_data",
          "metadata": {},
          "data": {
            "text/html": [
              "\n",
              "<p>5 rows × 259 columns</p>\n",
              "</div>"
            ]
          }
        }
      ],
      "source": [
        "data_only.to_pandas()"
      ],
      "id": "cb75aee0"
    }
  ],
  "nbformat": 4,
  "nbformat_minor": 5,
  "metadata": {
    "jupytext": {
      "executable": "/usr/bin/env jupyter",
      "text_representation": {
        "extension": ".qmd",
        "format_name": "quarto",
        "format_version": "1.0",
        "jupytext_version": "1.17.2"
      }
    },
    "kernelspec": {
      "name": "python3",
      "display_name": "Python 3",
      "language": "python"
    },
    "language_info": {
      "name": "python",
      "codemirror_mode": {
        "name": "ipython",
        "version": "3"
      },
      "file_extension": ".py",
      "mimetype": "text/x-python",
      "nbconvert_exporter": "python",
      "pygments_lexer": "ipython3",
      "version": "3.11.12"
    }
  }
}