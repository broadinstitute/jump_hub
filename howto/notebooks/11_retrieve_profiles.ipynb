{
  "cells": [
    {
      "cell_type": "markdown",
      "metadata": {},
      "source": [
        "# Retrieve JUMP profiles"
      ],
      "id": "ca3982dc-67dd-4502-bc6c-2cfd036e49ef"
    },
    {
      "cell_type": "code",
      "execution_count": 1,
      "metadata": {
        "title": "Imports"
      },
      "outputs": [],
      "source": [
        "import polars as pl\n",
        "import requests"
      ],
      "id": "27381a29"
    },
    {
      "cell_type": "markdown",
      "metadata": {},
      "source": [
        "The JUMP Cell Painting project provides several processed datasets for\n",
        "morphological profiling. Choose the dataset that matches your\n",
        "perturbation type:\n",
        "\n",
        "-   **`crispr`**: CRISPR knockout genetic perturbations\n",
        "-   **`orf`**: Open Reading Frame (ORF) overexpression perturbations\n",
        "-   **`compound`**: Chemical compound perturbations\n",
        "-   **`all`**: Combined dataset containing all perturbation types (use\n",
        "    for cross-modality comparisons)\n",
        "\n",
        "Each dataset is available in two processing versions:\n",
        "\n",
        "-   **Standard** (e.g., `crispr`, `compound`, `orf`): Fully processed\n",
        "    including batch correction steps. **Recommended for most analyses**\n",
        "    as they provide better cross-dataset comparability.\n",
        "\n",
        "-   **Interpretable** (e.g., `crispr_interpretable`,\n",
        "    `compound_interpretable`, `orf_interpretable`): Same initial\n",
        "    processing but without batch correction transformations that modify\n",
        "    the original feature space. Use these when you need to interpret\n",
        "    individual morphological features.\n",
        "\n",
        "All datasets are stored as Parquet files on AWS S3 and can be accessed\n",
        "directly via their URLs.\n",
        "\n",
        "The index file below contains the **recommended profiles** for each\n",
        "subset. Each profile includes: - Direct links to the processing recipe\n",
        "and configuration used - ETags for data integrity verification\n",
        "\n",
        "For details on creating your own profile manifests, see the [manifest\n",
        "guide](https://github.com/broadinstitute/jump_hub/blob/main/howto/2_create_project_manifest.md)."
      ],
      "id": "751d0841-7f6e-4d45-a48d-65e3794f9e8a"
    },
    {
      "cell_type": "code",
      "execution_count": 2,
      "metadata": {
        "title": "Paths"
      },
      "outputs": [],
      "source": [
        "INDEX_FILE = \"https://raw.githubusercontent.com/jump-cellpainting/datasets/v0.11.0/manifests/profile_index.json\""
      ],
      "id": "e9e2c40d"
    },
    {
      "cell_type": "markdown",
      "metadata": {},
      "source": [
        "We use the version-controlled manifest above to release the latest\n",
        "corrected profiles"
      ],
      "id": "56bdc67b-0d2f-4f65-9fee-50f9de2a5d3a"
    },
    {
      "cell_type": "code",
      "execution_count": 3,
      "metadata": {},
      "outputs": [
        {
          "output_type": "stream",
          "name": "stdout",
          "text": [
            "- orf: https://cellpainting-gallery.s3.amazonaws.com/cpg0016-jump-assembled/source_all/workspace/profiles_assembled/ORF/v1.0a/profiles_wellpos_cc_var_mad_outlier_featselect_sphering_harmony.parquet\n",
            "- crispr: https://cellpainting-gallery.s3.amazonaws.com/cpg0016-jump-assembled/source_all/workspace/profiles_assembled/CRISPR/v1.0a/profiles_wellpos_cc_var_mad_outlier_featselect_sphering_harmony_PCA_corrected.parquet\n",
            "- compound: https://cellpainting-gallery.s3.amazonaws.com/cpg0016-jump-assembled/source_all/workspace/profiles_assembled/COMPOUND/v1.0/profiles_var_mad_int_featselect_harmony.parquet\n",
            "- orf_interpretable: https://cellpainting-gallery.s3.amazonaws.com/cpg0016-jump-assembled/source_all/workspace/profiles_assembled/ORF/v1.0a/profiles_wellpos_cc_var_mad_outlier.parquet\n",
            "- crispr_interpretable: https://cellpainting-gallery.s3.amazonaws.com/cpg0016-jump-assembled/source_all/workspace/profiles_assembled/CRISPR/v1.0a/profiles_wellpos_cc_var_mad_outlier.parquet\n",
            "- compound_interpretable: https://cellpainting-gallery.s3.amazonaws.com/cpg0016-jump-assembled/source_all/workspace/profiles_assembled/COMPOUND/v1.0/profiles_var_mad_int.parquet\n",
            "- all: https://cellpainting-gallery.s3.amazonaws.com/cpg0016-jump-assembled/source_all/workspace/profiles_assembled/ALL/v1.0b/profiles_wellpos_cc_var_mad_outlier_featselect_sphering_harmony.parquet\n",
            "- all_interpretable: https://cellpainting-gallery.s3.amazonaws.com/cpg0016-jump-assembled/source_all/workspace/profiles_assembled/ALL/v1.0b/profiles_wellpos_cc_var_mad_outlier_featselect.parquet"
          ]
        }
      ],
      "source": [
        "# Load the JSON manifest\n",
        "response = requests.get(INDEX_FILE)\n",
        "profile_index = response.json()\n",
        "\n",
        "# Display the manifest data\n",
        "for dataset in profile_index:\n",
        "    print(f\"- {dataset['subset']}: {dataset['url']}\")"
      ],
      "id": "d90d5f0a"
    },
    {
      "cell_type": "markdown",
      "metadata": {},
      "source": [
        "Each profile in the manifest includes direct links to: -\n",
        "**recipe_permalink**: The exact version of the processing code used -\n",
        "**config_permalink**: The specific configuration file that defines the\n",
        "processing steps\n",
        "\n",
        "Let’s display the key information from the manifest:"
      ],
      "id": "1200d422-4508-46bb-88ca-ace47bfd92af"
    },
    {
      "cell_type": "code",
      "execution_count": 4,
      "metadata": {},
      "outputs": [
        {
          "output_type": "display_data",
          "metadata": {},
          "data": {
            "text/html": [
              "</div>"
            ]
          }
        }
      ],
      "source": [
        "# Convert JSON to DataFrame for better display\n",
        "profile_df = pl.DataFrame(profile_index)\n",
        "\n",
        "# Show key information in a clean table\n",
        "display_df = profile_df.select(\n",
        "    [\n",
        "        \"subset\",\n",
        "        pl.col(\"url\").str.extract(r\"([^/]+)\\.parquet$\").alias(\"filename\"),\n",
        "        pl.col(\"recipe_permalink\")\n",
        "        .str.extract(r\"tree/([^/]+)$\")\n",
        "        .str.slice(0, 7)\n",
        "        .alias(\"recipe_version\"),\n",
        "        pl.col(\"config_permalink\").str.extract(r\"([^/]+)\\.json$\").alias(\"config\"),\n",
        "    ]\n",
        ")\n",
        "display_df"
      ],
      "id": "1eb9fe17"
    },
    {
      "cell_type": "markdown",
      "metadata": {},
      "source": [
        "Let inspect the standard profiles."
      ],
      "id": "867527a4-9ca3-46fd-9468-598b48f91448"
    },
    {
      "cell_type": "code",
      "execution_count": 5,
      "metadata": {},
      "outputs": [
        {
          "output_type": "stream",
          "name": "stdout",
          "text": [
            "Selected profiles:\n",
            "  orf: profiles_wellpos_cc_var_mad_outlier_featselect_sphering_harmony.parquet\n",
            "  crispr: profiles_wellpos_cc_var_mad_outlier_featselect_sphering_harmony_PCA_corrected.parquet\n",
            "  compound: profiles_var_mad_int_featselect_harmony.parquet"
          ]
        }
      ],
      "source": [
        "# Create dictionary of subset -> url for the standard profiles only\n",
        "filepaths = {\n",
        "    dataset[\"subset\"]: dataset[\"url\"]\n",
        "    for dataset in profile_index\n",
        "    if dataset[\"subset\"] in (\"crispr\", \"orf\", \"compound\")\n",
        "}\n",
        "print(\"Selected profiles:\")\n",
        "for subset, url in filepaths.items():\n",
        "    print(f\"  {subset}: {url.split('/')[-1]}\")"
      ],
      "id": "c53b2dea"
    },
    {
      "cell_type": "markdown",
      "metadata": {},
      "source": [
        "We will lazy-load the dataframes and print the number of rows and\n",
        "columns"
      ],
      "id": "bf970353-da49-4653-9b18-d31f7bafe653"
    },
    {
      "cell_type": "code",
      "execution_count": 6,
      "metadata": {},
      "outputs": [
        {
          "output_type": "display_data",
          "metadata": {},
          "data": {
            "text/html": [
              "</div>"
            ]
          }
        }
      ],
      "source": [
        "info = {k: [] for k in (\"dataset\", \"#rows\", \"#cols\", \"#Metadata cols\", \"Size (MB)\")}\n",
        "for name, path in filepaths.items():\n",
        "    data = pl.scan_parquet(path)\n",
        "    n_rows = data.select(pl.len()).collect().item()\n",
        "    schema = data.collect_schema()\n",
        "    metadata_cols = [col for col in schema.keys() if col.startswith(\"Metadata\")]\n",
        "    n_cols = schema.len()\n",
        "    n_meta_cols = len(metadata_cols)\n",
        "    estimated_size = int(round(4.03 * n_rows * n_cols / 1e6, 0))  # B -> MB\n",
        "    for k, v in zip(info.keys(), (name, n_rows, n_cols, n_meta_cols, estimated_size)):\n",
        "        info[k].append(v)\n",
        "\n",
        "pl.DataFrame(info)"
      ],
      "id": "5c875e2d"
    },
    {
      "cell_type": "markdown",
      "metadata": {},
      "source": [
        "Let us now focus on the `crispr` dataset and use a regex to select the\n",
        "metadata columns. We will then sample rows and display the overview.\n",
        "Note that the collect() method enforces loading some data into memory."
      ],
      "id": "be83e898-a0ba-4c4e-920d-67d2f14dcc75"
    },
    {
      "cell_type": "code",
      "execution_count": 7,
      "metadata": {},
      "outputs": [
        {
          "output_type": "display_data",
          "metadata": {},
          "data": {
            "text/html": [
              "</div>"
            ]
          }
        }
      ],
      "source": [
        "data = pl.scan_parquet(filepaths[\"crispr\"])\n",
        "data.select(pl.col(\"^Metadata.*$\").sample(n=5, seed=1)).collect()"
      ],
      "id": "ca966fc4"
    },
    {
      "cell_type": "markdown",
      "metadata": {},
      "source": [
        "The following line excludes the metadata columns:"
      ],
      "id": "8a7b802b-e847-4088-a169-2beaaf07817c"
    },
    {
      "cell_type": "code",
      "execution_count": 8,
      "metadata": {},
      "outputs": [
        {
          "output_type": "display_data",
          "metadata": {},
          "data": {
            "text/html": [
              "</div>"
            ]
          }
        }
      ],
      "source": [
        "data_only = data.select(pl.all().exclude(\"^Metadata.*$\").sample(n=5, seed=1)).collect()\n",
        "data_only"
      ],
      "id": "0e33f6cd"
    },
    {
      "cell_type": "markdown",
      "metadata": {},
      "source": [
        "Finally, we can convert this to `pandas` if we want to perform analyses\n",
        "with that tool. Keep in mind that this loads the entire dataframe into\n",
        "memory."
      ],
      "id": "14129dc5-e93e-4d1c-83e3-6f7e7f3537fc"
    },
    {
      "cell_type": "code",
      "execution_count": 9,
      "metadata": {},
      "outputs": [
        {
          "output_type": "display_data",
          "metadata": {},
          "data": {
            "text/html": [
              "\n",
              "<p>5 rows × 259 columns</p>\n",
              "</div>"
            ]
          }
        }
      ],
      "source": [
        "data_only.to_pandas()"
      ],
      "id": "32713e01"
    }
  ],
  "nbformat": 4,
  "nbformat_minor": 5,
  "metadata": {
    "jupytext": {
      "executable": "/usr/bin/env jupyter",
      "text_representation": {
        "extension": ".qmd",
        "format_name": "quarto",
        "format_version": "1.0",
        "jupytext_version": "1.17.2"
      }
    },
    "kernelspec": {
      "name": "python3",
      "display_name": "Python 3",
      "language": "python"
    },
    "language_info": {
      "name": "python",
      "codemirror_mode": {
        "name": "ipython",
        "version": "3"
      },
      "file_extension": ".py",
      "mimetype": "text/x-python",
      "nbconvert_exporter": "python",
      "pygments_lexer": "ipython3",
      "version": "3.11.12"
    }
  }
}