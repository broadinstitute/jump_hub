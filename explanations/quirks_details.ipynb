{
  "cells": [
    {
      "cell_type": "markdown",
      "metadata": {},
      "source": [
        "# \n",
        "\n",
        "## Quirks and details\n",
        "\n",
        "There are additional details that are not commonly asked but it is\n",
        "important to retain on record. This is a compendium of those.\n",
        "\n",
        "-   Source 1 and 9 use larger plates (1536 vs the standard 384)  \n",
        "-   Source 7 and 13 are the same  \n",
        "-   In JUMP-Target there is an InChIKey that maps to 2 different\n",
        "    perturbations: ‘LOUPRKONTZGTKE-UHFFFAOYSA-N’ maps to both quinidine\n",
        "    and quinine.  \n",
        "-   The definition of controls, specially positive controls, can be\n",
        "    tricky: Some are hard-coded in\n",
        "    [broad_babel](https://github.com/broadinstitute/monorepo/blob/febe56c27e490c110d8b5a871de974a4293176c6/libs/jump_babel/tools/gen_database.py#L70-L87),\n",
        "    based on internal knowledge that was not recorded at the time of\n",
        "    assembling the datasets. In certain datasets, such as ORF, there are\n",
        "    additional types of positive controls: poscon_orf, poscon_cp\n",
        "    (compound probe), and poscon_diverse.\n",
        "-   The treatment compounds were assayed at 10 uM at all sites, apart\n",
        "    from source_7 where the compounds were assayed at 0.625 uM (the goal\n",
        "    being to assay some of the compounds at a low concentration in\n",
        "    addition to the higher concentration used for most of data\n",
        "    production). The positive control compounds in compound, ORF and\n",
        "    CRISPR plates were assayed at 5 uM. JUMP-Target-1-Compound and\n",
        "    JUMP-Target-2-Compound plates were also assayed at 5 uM\n",
        "-   Due to some plates having letters and numbers and others only\n",
        "    numbers, be careful when loading multiple `load_data_csv`s. We treat\n",
        "    all columns and strings to avoid any potential casting issue."
      ],
      "id": "b89e45a0-4e6d-4f87-8860-8579d8cbd0da"
    }
  ],
  "nbformat": 4,
  "nbformat_minor": 5,
  "metadata": {
    "kernelspec": {
      "display_name": "Python 3",
      "language": "python",
      "name": "python3"
    }
  }
}