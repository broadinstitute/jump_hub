{
  "cells": [
    {
      "cell_type": "markdown",
      "metadata": {},
      "source": [
        "# \n",
        "\n",
        "## Known issues\n",
        "\n",
        "Small subsets of the data may have shown technical issues. These are\n",
        "summarized in here and on this (WIP) table."
      ],
      "id": "c3ca65b2-72a6-4286-9d08-d68ee6576d2d"
    }
  ],
  "nbformat": 4,
  "nbformat_minor": 5,
  "metadata": {
    "kernelspec": {
      "display_name": "Python 3",
      "language": "python",
      "name": "python3"
    }
  }
}