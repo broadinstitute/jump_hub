{
  "cells": [
    {
      "cell_type": "markdown",
      "metadata": {},
      "source": [
        "# \n",
        "\n",
        "## Known issues\n",
        "\n",
        "Small subsets of the data may have shown technical issues. These are\n",
        "summarized in here and on this (WIP) table."
      ],
      "id": "89816e29-543b-4b52-bcf8-7a926eab04c0"
    }
  ],
  "nbformat": 4,
  "nbformat_minor": 5,
  "metadata": {
    "kernelspec": {
      "display_name": "Python 3",
      "language": "python",
      "name": "python3"
    }
  }
}