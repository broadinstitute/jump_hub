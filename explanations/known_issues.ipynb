{
  "cells": [
    {
      "cell_type": "markdown",
      "metadata": {},
      "source": [
        "# \n",
        "\n",
        "## Known issues\n",
        "\n",
        "Small subsets of the data may have shown technical issues. These are\n",
        "summarized in here and on this (WIP) table."
      ],
      "id": "f1584cf3-08dd-4b8c-97d7-170a7e4bdbd5"
    }
  ],
  "nbformat": 4,
  "nbformat_minor": 5,
  "metadata": {
    "kernelspec": {
      "display_name": "Python 3",
      "language": "python",
      "name": "python3"
    }
  }
}