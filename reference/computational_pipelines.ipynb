{
  "cells": [
    {
      "cell_type": "markdown",
      "metadata": {},
      "source": [
        "# \n",
        "\n",
        "# Computational Pipelines\n",
        "\n",
        "## Image Processing Pipeline\n",
        "\n",
        "CellProfiler pipelines for segmentation and feature extraction as well\n",
        "as QC and illumination correction can be found on Github\n",
        "[here](https://github.com/broadinstitute/imaging-platform-pipelines/tree/master/JUMP_production)."
      ],
      "id": "728288a0-1a49-4eda-8748-cc1757252656"
    }
  ],
  "nbformat": 4,
  "nbformat_minor": 5,
  "metadata": {
    "kernelspec": {
      "display_name": "Python 3",
      "language": "python",
      "name": "python3"
    }
  }
}