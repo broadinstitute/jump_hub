{
  "cells": [
    {
      "cell_type": "markdown",
      "metadata": {},
      "source": [
        "# \n",
        "\n",
        "# Chemical Compounds in JUMP\n",
        "\n",
        "For a given compound, find its JUMP id or its most similar equivalent.\n",
        "It may take a few seconds to load.\n",
        "\n",
        "The similarity is calculated using the Jaccard index between the query’s\n",
        "PubChem fingerprints and all the JUMP compounds available on PubChem."
      ],
      "id": "df7db7f6-c49c-487e-8022-d545c37ca77b"
    },
    {
      "cell_type": "raw",
      "metadata": {
        "raw_mimetype": "text/html"
      },
      "source": [
        "<iframe width=\"900\" height=\"700\" src=\"https://marimo.app/?slug=qpqzxd&amp;mode=read&amp;include-code=false&amp;show-chrome=false&amp;embed=true\" title=\"PubChem to JUMP\">"
      ],
      "id": "7983585e-deda-4ec7-baa5-fd7fd9096d09"
    },
    {
      "cell_type": "raw",
      "metadata": {
        "raw_mimetype": "text/html"
      },
      "source": [
        "</iframe>"
      ],
      "id": "5ab3bac6-ffa2-45ca-bf92-139ab2c0d4bc"
    }
  ],
  "nbformat": 4,
  "nbformat_minor": 5,
  "metadata": {
    "kernelspec": {
      "display_name": "Python 3",
      "language": "python",
      "name": "python3"
    }
  }
}