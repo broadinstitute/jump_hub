{
  "cells": [
    {
      "cell_type": "markdown",
      "metadata": {},
      "source": [
        "# \n",
        "\n",
        "# Available chemicals in JUMP\n",
        "\n",
        "For a given compound, find its JUMP id or its most similar equivalent.\n",
        "It may take a few seconds to load.\n",
        "\n",
        "The similarity is calculated using the Jaccard index between the query’s\n",
        "PubChem fingerprints and all the JUMP compounds available on PubChem."
      ],
      "id": "7ff008d2-b48c-4a43-b77c-22338c44719c"
    },
    {
      "cell_type": "raw",
      "metadata": {
        "raw_mimetype": "text/html"
      },
      "source": [
        "<iframe width=\"900\" height=\"700\" src=\"https://marimo.app/?slug=qpqzxd&amp;mode=read&amp;include-code=false&amp;show-chrome=false&amp;embed=true\" title=\"PubChem to JUMP\">"
      ],
      "id": "24132ca3-e209-4913-8690-a76c541c421c"
    },
    {
      "cell_type": "raw",
      "metadata": {
        "raw_mimetype": "text/html"
      },
      "source": [
        "</iframe>"
      ],
      "id": "543590dd-2e8d-4b07-96c0-46d2d47479c7"
    }
  ],
  "nbformat": 4,
  "nbformat_minor": 5,
  "metadata": {
    "kernelspec": {
      "display_name": "Python 3",
      "language": "python",
      "name": "python3"
    }
  }
}