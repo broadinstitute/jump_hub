{
  "cells": [
    {
      "cell_type": "markdown",
      "metadata": {},
      "source": [
        "# \n",
        "\n",
        "# Chemical Compounds in JUMP\n",
        "\n",
        "For a given compound, find its JUMP id or its most similar equivalent.\n",
        "It may take a few seconds to load.\n",
        "\n",
        "The similarity is calculated using the Jaccard index between the query’s\n",
        "PubChem fingerprints and all the JUMP compounds available on PubChem."
      ],
      "id": "80aac1db-2c62-4daf-bc47-8186262acc3e"
    },
    {
      "cell_type": "raw",
      "metadata": {
        "raw_mimetype": "text/html"
      },
      "source": [
        "<iframe width=\"900\" height=\"700\" src=\"https://marimo.app/?slug=qpqzxd&amp;mode=read&amp;include-code=false&amp;show-chrome=false&amp;embed=true\" title=\"PubChem to JUMP\">"
      ],
      "id": "4550e116-2fe0-45b5-b03d-56ebba891e45"
    },
    {
      "cell_type": "raw",
      "metadata": {
        "raw_mimetype": "text/html"
      },
      "source": [
        "</iframe>"
      ],
      "id": "e7453adf-a4dc-4889-b015-2457711b5098"
    }
  ],
  "nbformat": 4,
  "nbformat_minor": 5,
  "metadata": {
    "kernelspec": {
      "display_name": "Python 3",
      "language": "python",
      "name": "python3"
    }
  }
}