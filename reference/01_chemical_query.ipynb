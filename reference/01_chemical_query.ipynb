{
  "cells": [
    {
      "cell_type": "markdown",
      "metadata": {},
      "source": [
        "# \n",
        "\n",
        "# Available chemicals in JUMP\n",
        "\n",
        "For a given compound, find its JUMP id or its most similar equivalent.\n",
        "It may take a few seconds to load.\n",
        "\n",
        "The similarity is calculated using the Jaccard index between the query’s\n",
        "PubChem fingerprints and all the JUMP compounds available on PubChem."
      ],
      "id": "17b369fc-ed34-43b3-923c-ac87c73ef67b"
    },
    {
      "cell_type": "raw",
      "metadata": {
        "raw_mimetype": "text/html"
      },
      "source": [
        "<iframe width=\"900\" height=\"700\" src=\"https://marimo.app/?slug=qpqzxd&amp;mode=read&amp;include-code=false&amp;show-chrome=false&amp;embed=true\" title=\"PubChem to JUMP\">"
      ],
      "id": "ab7315cd-7f6f-4586-8767-e25fa8b01949"
    },
    {
      "cell_type": "raw",
      "metadata": {
        "raw_mimetype": "text/html"
      },
      "source": [
        "</iframe>"
      ],
      "id": "c60d1c1a-4d40-4c6a-82de-1d893800d898"
    }
  ],
  "nbformat": 4,
  "nbformat_minor": 5,
  "metadata": {
    "kernelspec": {
      "display_name": "Python 3",
      "language": "python",
      "name": "python3"
    }
  }
}