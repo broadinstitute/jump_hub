{
  "cells": [
    {
      "cell_type": "markdown",
      "metadata": {},
      "source": [
        "# \n",
        "\n",
        "# Available chemicals in JUMP\n",
        "\n",
        "For a given compound, find its JUMP id or its most similar equivalent.\n",
        "It may take a few seconds to load.\n",
        "\n",
        "The similarity is calculated using the Jaccard index between the query’s\n",
        "PubChem fingerprints and all the JUMP compounds available on PubChem."
      ],
      "id": "f8cbec51-3e10-4482-a4c4-83b42507f2e3"
    },
    {
      "cell_type": "raw",
      "metadata": {
        "raw_mimetype": "text/html"
      },
      "source": [
        "<iframe width=\"900\" height=\"700\" src=\"https://marimo.app/?slug=qpqzxd&amp;mode=read&amp;include-code=false&amp;show-chrome=false&amp;embed=true\" title=\"PubChem to JUMP\">"
      ],
      "id": "3c804a8d-9e2a-40af-b6f8-59830c9b2e68"
    },
    {
      "cell_type": "raw",
      "metadata": {
        "raw_mimetype": "text/html"
      },
      "source": [
        "</iframe>"
      ],
      "id": "4317e4b9-eda3-4ce2-91cc-b18add9e6821"
    }
  ],
  "nbformat": 4,
  "nbformat_minor": 5,
  "metadata": {
    "kernelspec": {
      "display_name": "Python 3",
      "language": "python",
      "name": "python3"
    }
  }
}